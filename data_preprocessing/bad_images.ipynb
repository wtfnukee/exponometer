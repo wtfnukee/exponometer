{
 "cells": [
  {
   "cell_type": "code",
   "execution_count": 1,
   "id": "7fbc69e4-d46f-4a1c-b19b-5f94dc5c616f",
   "metadata": {
    "execution": {
     "iopub.execute_input": "2024-12-19T06:52:48.388250Z",
     "iopub.status.busy": "2024-12-19T06:52:48.387403Z",
     "iopub.status.idle": "2024-12-19T06:52:48.423201Z",
     "shell.execute_reply": "2024-12-19T06:52:48.422373Z",
     "shell.execute_reply.started": "2024-12-19T06:52:48.388210Z"
    },
    "tags": []
   },
   "outputs": [],
   "source": [
    "import numpy as np"
   ]
  },
  {
   "cell_type": "code",
   "execution_count": 11,
   "id": "5f321f11-bfad-4e45-b9cf-70f6dcdcefb2",
   "metadata": {
    "execution": {
     "iopub.execute_input": "2024-12-19T07:22:11.719057Z",
     "iopub.status.busy": "2024-12-19T07:22:11.717922Z",
     "iopub.status.idle": "2024-12-19T07:31:47.082432Z",
     "shell.execute_reply": "2024-12-19T07:31:47.081520Z",
     "shell.execute_reply.started": "2024-12-19T07:22:11.719010Z"
    },
    "tags": []
   },
   "outputs": [
    {
     "name": "stderr",
     "output_type": "stream",
     "text": [
      "\n",
      "  0%|          | 0/462 [00:00<?, ?it/s]\u001b[A\n",
      "  0%|          | 1/462 [00:04<33:23,  4.35s/it]\u001b[A"
     ]
    },
    {
     "name": "stdout",
     "output_type": "stream",
     "text": [
      "01501 ['1', '2', '3', '4', '5', '6']\n"
     ]
    },
    {
     "name": "stderr",
     "output_type": "stream",
     "text": [
      "\n",
      "  0%|          | 2/462 [00:05<19:06,  2.49s/it]\u001b[A"
     ]
    },
    {
     "name": "stdout",
     "output_type": "stream",
     "text": [
      "01502 ['140', 'Льоваторов €:', '140', '193', 'НАтюР моРт', ',7  ч2.2* 70', '1771*1772гт', 'Рассия-1991- 1992 г ::', 'ПЕя97 €', 'мъки', 'к1386']\n"
     ]
    },
    {
     "name": "stderr",
     "output_type": "stream",
     "text": [
      "\n",
      "  1%|          | 3/462 [00:06<15:21,  2.01s/it]\u001b[A"
     ]
    },
    {
     "name": "stdout",
     "output_type": "stream",
     "text": [
      "01503 []\n"
     ]
    },
    {
     "name": "stderr",
     "output_type": "stream",
     "text": [
      "\n",
      "  1%|          | 4/462 [00:07<10:48,  1.42s/it]\u001b[A"
     ]
    },
    {
     "name": "stdout",
     "output_type": "stream",
     "text": [
      "01504 []\n"
     ]
    },
    {
     "name": "stderr",
     "output_type": "stream",
     "text": [
      "libpng warning: iCCP: known incorrect sRGB profile\n",
      "libpng warning: iCCP: known incorrect sRGB profile\n",
      "\n",
      "  1%|          | 5/462 [00:07<07:57,  1.05s/it]\u001b[A"
     ]
    },
    {
     "name": "stdout",
     "output_type": "stream",
     "text": [
      "01505 []\n"
     ]
    },
    {
     "name": "stderr",
     "output_type": "stream",
     "text": [
      "\n",
      "  1%|▏         | 6/462 [00:09<08:20,  1.10s/it]\u001b[A"
     ]
    },
    {
     "name": "stdout",
     "output_type": "stream",
     "text": [
      "01506 ['#', 'шашт', '8']\n"
     ]
    },
    {
     "name": "stderr",
     "output_type": "stream",
     "text": [
      "\n",
      "  2%|▏         | 7/462 [00:09<06:44,  1.12it/s]\u001b[A"
     ]
    },
    {
     "name": "stdout",
     "output_type": "stream",
     "text": [
      "01507 ['#', '8', '5', '2', '5', '1', '5', '~', '1', '1', '[5', '[ШДЗЩА', '&', '1', '[ШЯК^ 25д']\n"
     ]
    },
    {
     "name": "stderr",
     "output_type": "stream",
     "text": [
      "\n",
      "  2%|▏         | 8/462 [00:10<06:29,  1.17it/s]\u001b[A"
     ]
    },
    {
     "name": "stdout",
     "output_type": "stream",
     "text": [
      "01508 []\n"
     ]
    },
    {
     "name": "stderr",
     "output_type": "stream",
     "text": [
      "\n",
      "  2%|▏         | 9/462 [00:11<07:20,  1.03it/s]\u001b[A"
     ]
    },
    {
     "name": "stdout",
     "output_type": "stream",
     "text": [
      "01509 [\"'7ам\"]\n"
     ]
    },
    {
     "name": "stderr",
     "output_type": "stream",
     "text": [
      "\n",
      "  2%|▏         | 10/462 [00:12<07:07,  1.06it/s]\u001b[A"
     ]
    },
    {
     "name": "stdout",
     "output_type": "stream",
     "text": [
      "01510 ['1 0', '[0= #къ', '1 9 0', 'Сать']\n"
     ]
    },
    {
     "name": "stderr",
     "output_type": "stream",
     "text": [
      "\n",
      "  2%|▏         | 11/462 [00:13<06:55,  1.08it/s]\u001b[A"
     ]
    },
    {
     "name": "stdout",
     "output_type": "stream",
     "text": [
      "01511 []\n"
     ]
    },
    {
     "name": "stderr",
     "output_type": "stream",
     "text": [
      "\n",
      "  3%|▎         | 12/462 [00:14<07:20,  1.02it/s]\u001b[A"
     ]
    },
    {
     "name": "stdout",
     "output_type": "stream",
     "text": [
      "01512 []\n"
     ]
    },
    {
     "name": "stderr",
     "output_type": "stream",
     "text": [
      "\n",
      "  3%|▎         | 13/462 [00:15<08:01,  1.07s/it]\u001b[A"
     ]
    },
    {
     "name": "stdout",
     "output_type": "stream",
     "text": [
      "01513 ['20', '20', 'РУБПЕЦ', 'РУБИЙ', 'АВЯАЦАТь РУБЯЕЙ', 'ОБЯЗАТЕЛЕНЪ', 'къ', 'ОБРАЩЕНЮЮ НАРАВНЪ', 'съ КРЕДИТНЫМИ БИЛЕТАМИ', '20', '20', '3720', 'АЕш', 'ПОДДЪЛКА', 'ПРЕСЛЪДУЕТсЯ', 'зАКОНОМЪ', '20', '7071', '777777759', 'НАЧЕЙСКИЙ']\n"
     ]
    },
    {
     "name": "stderr",
     "output_type": "stream",
     "text": [
      "\n",
      "  3%|▎         | 14/462 [00:16<07:13,  1.03it/s]\u001b[A"
     ]
    },
    {
     "name": "stdout",
     "output_type": "stream",
     "text": [
      "01514 []\n"
     ]
    },
    {
     "name": "stderr",
     "output_type": "stream",
     "text": [
      "\n",
      "  3%|▎         | 15/462 [00:17<07:41,  1.03s/it]\u001b[A"
     ]
    },
    {
     "name": "stdout",
     "output_type": "stream",
     "text": [
      "01515 []\n"
     ]
    },
    {
     "name": "stderr",
     "output_type": "stream",
     "text": [
      "\n",
      "  3%|▎         | 16/462 [00:18<07:23,  1.01it/s]\u001b[A"
     ]
    },
    {
     "name": "stdout",
     "output_type": "stream",
     "text": [
      "01516 []\n"
     ]
    },
    {
     "name": "stderr",
     "output_type": "stream",
     "text": [
      "\n",
      "  4%|▎         | 17/462 [00:19<06:58,  1.06it/s]\u001b[A"
     ]
    },
    {
     "name": "stdout",
     "output_type": "stream",
     "text": [
      "01517 []\n"
     ]
    },
    {
     "name": "stderr",
     "output_type": "stream",
     "text": [
      "\n",
      "  4%|▍         | 18/462 [00:19<06:19,  1.17it/s]\u001b[A"
     ]
    },
    {
     "name": "stdout",
     "output_type": "stream",
     "text": [
      "01518 ['Ехлогегш']\n"
     ]
    },
    {
     "name": "stderr",
     "output_type": "stream",
     "text": [
      "\n",
      "  4%|▍         | 19/462 [00:20<05:34,  1.33it/s]\u001b[A"
     ]
    },
    {
     "name": "stdout",
     "output_type": "stream",
     "text": [
      "01519 ['Ж И 3 Н Б', 'ВОЕННЫЯ ДЪЯНХЯ', 'Г Е ] Е ₽ А ^ И С С И м У С А ,', '{к # % 3 % И # & ^ ; Й € к & 2 0', 'Гр я ф &', '3554772', 'СУВОРОВА', 'РЫЛШПИКСКАГО', 'внньешаян', 'планами', '#ржожо', 'о', 'Парлурою', '<лемиоба _', 'чАСТЬ', 'ВТОР', '(охеЗни', '~б&а&', 'ВЪ', 'САНКТПКТЕРБУРГЪ', '3Ъ Типографти Государспвенной Медицинской', 'Коллегёи', '8 99', 'года', 'Косутошели', 'Зу;', '~узею', 'Изданн']\n"
     ]
    },
    {
     "name": "stderr",
     "output_type": "stream",
     "text": [
      "\n",
      "  4%|▍         | 20/462 [00:24<13:08,  1.78s/it]\u001b[A"
     ]
    },
    {
     "name": "stdout",
     "output_type": "stream",
     "text": [
      "01520 []\n"
     ]
    },
    {
     "name": "stderr",
     "output_type": "stream",
     "text": [
      "\n",
      "  5%|▍         | 21/462 [00:24<09:43,  1.32s/it]\u001b[A"
     ]
    },
    {
     "name": "stdout",
     "output_type": "stream",
     "text": [
      "01521 ['нмш^мо', '95', '3', '7', '<', '7', 'ш', '0', '[', '2', '3', '\"', '85', \"'\", '0', 'м', '\"', '7', '>', '5 0 ош', '95']\n"
     ]
    },
    {
     "name": "stderr",
     "output_type": "stream",
     "text": [
      "\n",
      "  5%|▍         | 22/462 [00:25<07:55,  1.08s/it]\u001b[A"
     ]
    },
    {
     "name": "stdout",
     "output_type": "stream",
     "text": [
      "01522 ['359/4', 'Йюм']\n"
     ]
    },
    {
     "name": "stderr",
     "output_type": "stream",
     "text": [
      "\n",
      "  5%|▍         | 23/462 [00:26<07:11,  1.02it/s]\u001b[A"
     ]
    },
    {
     "name": "stdout",
     "output_type": "stream",
     "text": [
      "01523 []\n"
     ]
    },
    {
     "name": "stderr",
     "output_type": "stream",
     "text": [
      "\n",
      "  5%|▌         | 24/462 [00:26<05:40,  1.29it/s]\u001b[A"
     ]
    },
    {
     "name": "stdout",
     "output_type": "stream",
     "text": [
      "01524 []\n"
     ]
    },
    {
     "name": "stderr",
     "output_type": "stream",
     "text": [
      "\n",
      "  5%|▌         | 25/462 [00:26<04:17,  1.70it/s]\u001b[A"
     ]
    },
    {
     "name": "stdout",
     "output_type": "stream",
     "text": [
      "01525 []\n"
     ]
    },
    {
     "name": "stderr",
     "output_type": "stream",
     "text": [
      "\n",
      "  6%|▌         | 26/462 [00:26<03:39,  1.99it/s]\u001b[A"
     ]
    },
    {
     "name": "stdout",
     "output_type": "stream",
     "text": [
      "01526 []\n"
     ]
    },
    {
     "name": "stderr",
     "output_type": "stream",
     "text": [
      "\n",
      "  6%|▌         | 27/462 [00:27<04:46,  1.52it/s]\u001b[A"
     ]
    },
    {
     "name": "stdout",
     "output_type": "stream",
     "text": [
      "01527 []\n"
     ]
    },
    {
     "name": "stderr",
     "output_type": "stream",
     "text": [
      "\n",
      "  6%|▌         | 28/462 [00:28<04:26,  1.63it/s]\u001b[A"
     ]
    },
    {
     "name": "stdout",
     "output_type": "stream",
     "text": [
      "01528 ['СОВЕТСКАЯ', 'Тладт', 'щшч-ъпш', 'Тмыгеъ ', 'КУЛЬТУРА', 'тыпта', 'ШЮЗ ШАУНН # ТРУДА', 'ВЫСШЯЫЕ ЦЕП', 'ТВПРЧЕСТВЛ', 'твой', 'ГЕРОЙ?', 'МЕСто ВсТРЕЧИ~-СТРАНА', 'совЕтов', 'танем']\n"
     ]
    },
    {
     "name": "stderr",
     "output_type": "stream",
     "text": [
      "\n",
      "  6%|▋         | 29/462 [00:28<04:05,  1.77it/s]\u001b[A"
     ]
    },
    {
     "name": "stdout",
     "output_type": "stream",
     "text": [
      "01529 ['ШКОЛА', '_лан']\n"
     ]
    },
    {
     "name": "stderr",
     "output_type": "stream",
     "text": [
      "\n",
      "  6%|▋         | 30/462 [00:29<03:12,  2.25it/s]\u001b[A"
     ]
    },
    {
     "name": "stdout",
     "output_type": "stream",
     "text": [
      "01530 ['9926']\n"
     ]
    },
    {
     "name": "stderr",
     "output_type": "stream",
     "text": [
      "\n",
      "  7%|▋         | 31/462 [00:29<03:55,  1.83it/s]\u001b[A"
     ]
    },
    {
     "name": "stdout",
     "output_type": "stream",
     "text": [
      "01531 []\n"
     ]
    },
    {
     "name": "stderr",
     "output_type": "stream",
     "text": [
      "\n",
      "  7%|▋         | 32/462 [00:32<08:18,  1.16s/it]\u001b[A"
     ]
    },
    {
     "name": "stdout",
     "output_type": "stream",
     "text": [
      "01532 []\n"
     ]
    },
    {
     "name": "stderr",
     "output_type": "stream",
     "text": [
      "\n",
      "  7%|▋         | 33/462 [00:33<07:16,  1.02s/it]\u001b[A"
     ]
    },
    {
     "name": "stdout",
     "output_type": "stream",
     "text": [
      "01533 []\n"
     ]
    },
    {
     "name": "stderr",
     "output_type": "stream",
     "text": [
      "\n",
      "  7%|▋         | 34/462 [00:33<06:26,  1.11it/s]\u001b[A"
     ]
    },
    {
     "name": "stdout",
     "output_type": "stream",
     "text": [
      "01534 ['40', 'ЛЕТ']\n"
     ]
    },
    {
     "name": "stderr",
     "output_type": "stream",
     "text": [
      "\n",
      "  8%|▊         | 35/462 [00:34<04:58,  1.43it/s]\u001b[A"
     ]
    },
    {
     "name": "stdout",
     "output_type": "stream",
     "text": [
      "01535 []\n"
     ]
    },
    {
     "name": "stderr",
     "output_type": "stream",
     "text": [
      "\n",
      "  8%|▊         | 36/462 [00:34<04:58,  1.43it/s]\u001b[A"
     ]
    },
    {
     "name": "stdout",
     "output_type": "stream",
     "text": [
      "01536 ['О5', '[Ч2; |', '3а0 ', \"'1ч42/ч\"]\n"
     ]
    },
    {
     "name": "stderr",
     "output_type": "stream",
     "text": [
      "\n",
      "  8%|▊         | 37/462 [00:34<03:54,  1.82it/s]\u001b[A\n",
      "  8%|▊         | 38/462 [00:35<03:00,  2.35it/s]\u001b[A"
     ]
    },
    {
     "name": "stdout",
     "output_type": "stream",
     "text": [
      "01537 ['БСНБРОЗТ', 'и2', 'шыт']\n",
      "01540 []\n"
     ]
    },
    {
     "name": "stderr",
     "output_type": "stream",
     "text": [
      "\n",
      "  8%|▊         | 39/462 [00:36<04:11,  1.68it/s]\u001b[A"
     ]
    },
    {
     "name": "stdout",
     "output_type": "stream",
     "text": [
      "01541 []\n"
     ]
    },
    {
     "name": "stderr",
     "output_type": "stream",
     "text": [
      "\n",
      "  9%|▊         | 40/462 [00:37<04:56,  1.42it/s]\u001b[A"
     ]
    },
    {
     "name": "stdout",
     "output_type": "stream",
     "text": [
      "01542 ['40', '40', '2', '40', 'ив', 'ПОДДЪЛ;А', 'ПРЕСЛЪДУЕТся', 'зАКОНОМЪ', '40', '40']\n"
     ]
    },
    {
     "name": "stderr",
     "output_type": "stream",
     "text": [
      "\n",
      "  9%|▉         | 41/462 [00:38<05:39,  1.24it/s]\u001b[A"
     ]
    },
    {
     "name": "stdout",
     "output_type": "stream",
     "text": [
      "01543 ['%0', '40', '40', 'раБаы', 'ЗУБПЕЙ', 'совокъ', 'РУБЛЕЙ', 'ОБЯЗАТЕЛЕНЪ', 'нъ', 'ОБРАЩЕНЮЮ', 'НАРАВНБ', 'съ КРЕДИТНЫМИ БИЛЕТАМИ:', 'ЯМК ОФ 9540-16', 'ЗНАЧЕЙСК']\n"
     ]
    },
    {
     "name": "stderr",
     "output_type": "stream",
     "text": [
      "\n",
      "  9%|▉         | 42/462 [00:46<22:13,  3.18s/it]\u001b[A"
     ]
    },
    {
     "name": "stdout",
     "output_type": "stream",
     "text": [
      "01544 ['мэ', 'г.и:', '51', '35', 'дона', 'Со-', 'С д', '70', '6', 'СССР', '03730', 'на', 'э', 'мэ', 'В.п:', 'по', 'на', 'с', 'Днепропетров-', 'под', 'урожайность', 'маслосе', 'Доли', 'гектаро', 'центнеров', 'довела', 'Бригада', 'площади', 'области', 'солнечника', 'ской', 'гектара', 'мян', 'свек-', 'сахарной', 'Героя', 'Госу=', 'урожайность', 'пважды', 'Виштак', 'лауреата', '526', 'звене', 'Труда;', 'Средняя', 'составила', 'лет', 'плошади', 'цмалистического', 'премим', 'области', 'лы', 'дарственной', 'тектара', 'Кмевской', 'центнеров', 'гектаров:', 'области', 'Брянской', 'клуб-', 'центнеров', 'Хозяенко |', '330', 'получает', 'картофелевода', 'гектаров', 'ПЕКТАРУ', '170', 'Звено', 'гектара:', 'площяди', 'кажлого', 'ней', 'КАЖДМУ', 'ППШМТИННЬ', ';НЫКУЮ']\n",
      "01545 []\n"
     ]
    },
    {
     "name": "stderr",
     "output_type": "stream",
     "text": [
      "\n",
      " 10%|▉         | 44/462 [00:54<24:12,  3.47s/it]\u001b[A"
     ]
    },
    {
     "name": "stdout",
     "output_type": "stream",
     "text": [
      "01546 ['619', '~; ,/', 'У- 91 ', '1\"  \":', \"ТНЕ 'С-Е`--]С\", '\"О@КЗ', '+} е', '5ёЬ егёа п', 'Уе+етэпату', '1п $+че Стной', \"_Е$ Т`^УНЧХ 'Ж-Е`Т-Г-€ЧЕЗ\", '~е 11п$\\\\1\\\\ч <', 'Уе+ё гёпа ёг е', 'фе', '$;Ьёг1е', 'С ', ';ЕЦЕНКТЕ', ';ВНЯ^Э_Ч>;Е`', 'Я е $', \"'1Ь1гёзс} @ п\", 'Уе+с гёпёгЁл$+ +че$:', 'УЧЕМЫЕ ТРУДЫ', 'Сибирского Ветеринарного Института:', 'Выпус к', '[:', '$', 'Август 1923', 'Г,', 'С 0 Д Е ₽ Ж А Н И Е:', '1. Бальзаментов; А: Д Халикозы', 'в', 'легких', 'и', 'Печенн', 'лошади', 'и', 'их днф ', 'ференциальная диагнсстика при сапе (Окончан:', '2, Проф: Драверт', 'П: Йсландский', 'шпат', 'в', 'киргизском', 'крае', 'и', 'Восточ:', 'ной', \"'Сибири.\", '3. Проф: Джаверт; П: Месторождение гудрона', 'и', 'сернисто:', 'битуминаз-', 'ных', 'воц', 'в', 'Чистопольском районе:', '4', 'Нкаевский; П:', 'И:', 'Мышцы', 'головы северного', 'оленя', '5. Нкаевский; ₽: И:', 'Мускулатура языка;', 'глотки', 'и', 'гортани севернэго', 'оленя:', '6', 'Цветков; В: И:', 'Р^ехц$ Ьгас}-а]з северного', 'оленя', '7. Цветков; В. И:', 'Мускулатура', 'грудной', 'конечности', 'северного', 'оленя:', '8', 'Иванов; Ю', '0.', 'Яйцевые оболочки северного', 'оленя;', '9.', 'Ефимов; Н: Е:', 'К мор ологии трахеи северного', 'оЛеня;', '10. Соколон; Д:', 'В;', 'к', 'вопросу', 'микроскопическом  исследованин', 'мочи при энтеритах', 'кур:', '11.', 'Нкаевский; Н: И;', 'К учению', '0', 'Р^а*уза', 'сярй$', 'у', 'собаки:', 'Отдел критики, библиографин', 'н', 'хроники', 'Ьу']\n"
     ]
    },
    {
     "name": "stderr",
     "output_type": "stream",
     "text": [
      "\n",
      " 10%|▉         | 45/462 [00:54<19:07,  2.75s/it]\u001b[A"
     ]
    },
    {
     "name": "stdout",
     "output_type": "stream",
     "text": [
      "01547 [\"АЕнтма 'ие\", 'ДВА', '2=', 'ы']\n"
     ]
    },
    {
     "name": "stderr",
     "output_type": "stream",
     "text": [
      "\n",
      " 10%|▉         | 46/462 [00:55<15:01,  2.17s/it]\u001b[A"
     ]
    },
    {
     "name": "stdout",
     "output_type": "stream",
     "text": [
      "01548 ['Флюорит, гизингерит', 'кварц;монтмориллонит', ';`по6ге; <$ & г#+е; Ччаг*%, шоп-@ # пе', 'М-ие   Николасвское', 'КМД', '102/621', '621']\n"
     ]
    },
    {
     "name": "stderr",
     "output_type": "stream",
     "text": [
      "\n",
      " 10%|█         | 47/462 [00:55<11:38,  1.68s/it]\u001b[A"
     ]
    },
    {
     "name": "stdout",
     "output_type": "stream",
     "text": [
      "01549 []\n"
     ]
    },
    {
     "name": "stderr",
     "output_type": "stream",
     "text": [
      "libpng warning: iCCP: known incorrect sRGB profile\n",
      "libpng warning: iCCP: known incorrect sRGB profile\n",
      "\n",
      " 10%|█         | 48/462 [00:58<12:51,  1.86s/it]\u001b[A"
     ]
    },
    {
     "name": "stdout",
     "output_type": "stream",
     "text": [
      "01550 []\n"
     ]
    },
    {
     "name": "stderr",
     "output_type": "stream",
     "text": [
      "\n",
      " 11%|█         | 49/462 [00:59<12:20,  1.79s/it]\u001b[A"
     ]
    },
    {
     "name": "stdout",
     "output_type": "stream",
     "text": [
      "01551 ['Если', 'мой друг заблудился;', 'ему', 'темноте путь', 'покажу ', 'Если   озяб_костёр разожгу', 'Вот недавно', 'горах подснеж-', 'ник снегом засыпало; так я его спас; снег растопил:']\n"
     ]
    },
    {
     "name": "stderr",
     "output_type": "stream",
     "text": [
      "\n",
      " 11%|█         | 50/462 [01:00<10:18,  1.50s/it]\u001b[A"
     ]
    },
    {
     "name": "stdout",
     "output_type": "stream",
     "text": [
      "01552 []\n"
     ]
    },
    {
     "name": "stderr",
     "output_type": "stream",
     "text": [
      "libpng warning: iCCP: known incorrect sRGB profile\n",
      "libpng warning: iCCP: known incorrect sRGB profile\n",
      "\n",
      " 11%|█         | 51/462 [01:01<09:48,  1.43s/it]\u001b[A"
     ]
    },
    {
     "name": "stdout",
     "output_type": "stream",
     "text": [
      "01553 []\n"
     ]
    },
    {
     "name": "stderr",
     "output_type": "stream",
     "text": [
      "\n",
      " 11%|█▏        | 52/462 [01:02<08:16,  1.21s/it]\u001b[A"
     ]
    },
    {
     "name": "stdout",
     "output_type": "stream",
     "text": [
      "01554 ['Вемел', 'тпыпдшен', 'чгпарник', 'яннар4', '7985 .;', 'Жпсжонско_н', '4 #п мсаияенна', 'шмлания-гка |', 'тсалрс СССР', '(#еаскон', \"'шлънол\", 'Нама0', 'чшыач', '# оф <490']\n"
     ]
    },
    {
     "name": "stderr",
     "output_type": "stream",
     "text": [
      "\n",
      " 11%|█▏        | 53/462 [01:03<07:10,  1.05s/it]\u001b[A\n",
      " 12%|█▏        | 54/462 [01:05<10:08,  1.49s/it]\u001b[A"
     ]
    },
    {
     "name": "stdout",
     "output_type": "stream",
     "text": [
      "01556 []\n"
     ]
    },
    {
     "name": "stderr",
     "output_type": "stream",
     "text": [
      "\n",
      " 12%|█▏        | 55/462 [01:08<13:31,  1.99s/it]\u001b[A"
     ]
    },
    {
     "name": "stdout",
     "output_type": "stream",
     "text": [
      "01557 ['1@', 'сввблзоць з', '70', 'совётскок>', 'кат', 'Зв ^абтм', '1', 'ч']\n"
     ]
    },
    {
     "name": "stderr",
     "output_type": "stream",
     "text": [
      "\n",
      " 12%|█▏        | 56/462 [01:09<10:39,  1.57s/it]\u001b[A"
     ]
    },
    {
     "name": "stdout",
     "output_type": "stream",
     "text": [
      "01558 ['к,', '7', '40022']\n"
     ]
    },
    {
     "name": "stderr",
     "output_type": "stream",
     "text": [
      "\n",
      " 12%|█▏        | 57/462 [01:10<09:18,  1.38s/it]\u001b[A\n",
      " 13%|█▎        | 58/462 [01:10<06:49,  1.01s/it]\u001b[A"
     ]
    },
    {
     "name": "stdout",
     "output_type": "stream",
     "text": [
      "01559 ['1', '1', '2-ц-;€$  е(}']\n",
      "01560 []\n"
     ]
    },
    {
     "name": "stderr",
     "output_type": "stream",
     "text": [
      "\n",
      " 13%|█▎        | 59/462 [01:11<06:33,  1.03it/s]\u001b[A"
     ]
    },
    {
     "name": "stdout",
     "output_type": "stream",
     "text": [
      "01561 []\n"
     ]
    },
    {
     "name": "stderr",
     "output_type": "stream",
     "text": [
      "\n",
      " 13%|█▎        | 60/462 [01:12<06:04,  1.10it/s]\u001b[A"
     ]
    },
    {
     "name": "stdout",
     "output_type": "stream",
     "text": [
      "01562 ['750.е\"', 'РОС', 'ЗОх', ';ОЗЗША', 'ГКП-74352/170', 'Дес']\n"
     ]
    },
    {
     "name": "stderr",
     "output_type": "stream",
     "text": [
      "\n",
      " 13%|█▎        | 61/462 [01:13<06:23,  1.04it/s]\u001b[A"
     ]
    },
    {
     "name": "stdout",
     "output_type": "stream",
     "text": [
      "01563 []\n"
     ]
    },
    {
     "name": "stderr",
     "output_type": "stream",
     "text": [
      "\n",
      " 13%|█▎        | 62/462 [01:13<05:03,  1.32it/s]\u001b[A"
     ]
    },
    {
     "name": "stdout",
     "output_type": "stream",
     "text": [
      "01564 ['ТРШЯШИЕСЯ ПРЕМБУРМЫЯ!', 'ДМЬ', 'УЛАРНОГО', 'ТР', 'ФОВ', 'ША!']\n"
     ]
    },
    {
     "name": "stderr",
     "output_type": "stream",
     "text": [
      "\n",
      " 14%|█▎        | 63/462 [01:14<05:50,  1.14it/s]\u001b[A"
     ]
    },
    {
     "name": "stdout",
     "output_type": "stream",
     "text": [
      "01565 ['\" ;', '2Е377А .', '904 & 7', '(', 'Пи 2513']\n",
      "01566 []\n"
     ]
    },
    {
     "name": "stderr",
     "output_type": "stream",
     "text": [
      "\n",
      " 14%|█▍        | 65/462 [01:17<07:38,  1.16s/it]\u001b[A"
     ]
    },
    {
     "name": "stdout",
     "output_type": "stream",
     "text": [
      "01567 []\n"
     ]
    },
    {
     "name": "stderr",
     "output_type": "stream",
     "text": [
      "\n",
      " 14%|█▍        | 66/462 [01:18<07:46,  1.18s/it]\u001b[A"
     ]
    },
    {
     "name": "stdout",
     "output_type": "stream",
     "text": [
      "01568 []\n"
     ]
    },
    {
     "name": "stderr",
     "output_type": "stream",
     "text": [
      "\n",
      " 15%|█▍        | 67/462 [01:19<06:05,  1.08it/s]\u001b[A"
     ]
    },
    {
     "name": "stdout",
     "output_type": "stream",
     "text": [
      "01569 []\n"
     ]
    },
    {
     "name": "stderr",
     "output_type": "stream",
     "text": [
      "\n",
      " 15%|█▍        | 68/462 [01:19<04:44,  1.39it/s]\u001b[A"
     ]
    },
    {
     "name": "stdout",
     "output_type": "stream",
     "text": [
      "01570 []\n"
     ]
    },
    {
     "name": "stderr",
     "output_type": "stream",
     "text": [
      "\n",
      " 15%|█▍        | 69/462 [01:20<04:39,  1.41it/s]\u001b[A"
     ]
    },
    {
     "name": "stdout",
     "output_type": "stream",
     "text": [
      "01571 ['# ТАГРИН', '1835 г', 'м 0 С К 0 В С К ИЙ Т Е А Т ₽ Д ^ Я', 'Д Е Т Е й', 'Сказка', 'царе', 'Салтане\"', 'С:', 'Пушкина;', \"Постановка'\", '3: Корохева:', 'В:', 'Рывдин:', 'стрела запела,', 'В', 'шею', 'коршуна задола', 'артист В', 'Даншин: Царица МиАнтриса', 'артнст-', 'ка В: Бушера:', 'ЕП', '37.245 /979', \"29'\", '/И^', 'Художник', 'Гвндон -']\n"
     ]
    },
    {
     "name": "stderr",
     "output_type": "stream",
     "text": [
      "\n",
      " 15%|█▌        | 70/462 [01:20<03:44,  1.75it/s]\u001b[A"
     ]
    },
    {
     "name": "stdout",
     "output_type": "stream",
     "text": [
      "01573 ['АОЗУНГИ', 'КАПЫТАЛИСТИЧЕСЮОМ ЫИРЕ', 'МАЯ 1941 ГОДА', 'Гопшусь слФей профЕссием', 'ШПш МШПЩАТ ЛЮОНН Л']\n"
     ]
    },
    {
     "name": "stderr",
     "output_type": "stream",
     "text": [
      "\n",
      " 15%|█▌        | 71/462 [01:20<03:58,  1.64it/s]\u001b[A"
     ]
    },
    {
     "name": "stdout",
     "output_type": "stream",
     "text": [
      "01574 ['Да   заракслгуам 10.~ал', ',.€чац', '[,,Р', 'реболю', 'леквсокая', \"ционыых €Ч; рабатч'0 чтассп]\", 'Прыларич асат слрпн;', 'Еааснлитеты', 'ПРНВИН', 'тиаспагп', 'ии', '4адассимат', 'тпм5', 'Мадксп', 'Эншлчаа=льнина', 'Спкялчма!  Да   Эраеслуусл', 'Бшжрмаэ ', \"'ресе Ля\", \"'э?яс\", 'Сильте Перламяна', 'АОЗУНГИ', 'МАЯ 1941 ТОДА', '1 му']\n"
     ]
    },
    {
     "name": "stderr",
     "output_type": "stream",
     "text": [
      "\n",
      " 16%|█▌        | 72/462 [01:21<03:25,  1.89it/s]\u001b[A"
     ]
    },
    {
     "name": "stdout",
     "output_type": "stream",
     "text": [
      "01575 ['МИР ДЯ (ШДП\" [М(УЩРСАВА', 'МЫ ДЕЛМЕМ (ШЫШМИ (БСТШЕПЫМИ РУМДМИ', 'Ктшчит7т', 'снЪшЧ_Чии', 'ННе', 'киммуня', 'ШЕпла.пъ}', \"П'тнпп\", 'РЕАЛИЗАЦИЯ БМЛЕТОВ', 'ВСЕСОЮЗНОЙ ЛОТЕРЕК', 'ОСФ^ВНАХИМА', '[ПТЕМЧ', 'Шкпх~иинаг', 'Етрамиаем', 'зпвам', 'ЛоППам', 'Стня ы', 'ШЫШПИМ (МЛЫШИП', '~ЕКТВНАН', '[баты']\n"
     ]
    },
    {
     "name": "stderr",
     "output_type": "stream",
     "text": [
      "\n",
      " 16%|█▌        | 73/462 [01:22<04:32,  1.43it/s]\u001b[A"
     ]
    },
    {
     "name": "stdout",
     "output_type": "stream",
     "text": [
      "01576 ['4 Ги', 'РОДИНЫ СЛАВУ', 'ВЫШЕ ПОДЫМЕМ!', 'СОВЫСКИЙ ПРОСТОЙ ЧЕАОВЕК', 'Золотые', 'руни', 'Е#аяинаМ', 'ТОПь', 'Л{лнь', 'ГкаПа#']\n"
     ]
    },
    {
     "name": "stderr",
     "output_type": "stream",
     "text": [
      "\n",
      " 16%|█▌        | 74/462 [01:23<04:44,  1.36it/s]\u001b[A"
     ]
    },
    {
     "name": "stdout",
     "output_type": "stream",
     "text": [
      "01577 ['С4 с44м1', '\"Сиити \"48', 'М 6 С Я Ц 0 С к 0 В Ъ', '224718 14774ж476/ с ит%', 'Н А 1 % Т 0', 'отъ РОжДЕСТКА', 'ХР1СТОВА', '[Зиу', 'тиут .', '%', \"'Ф,б   0416 2\", '[7 9 0', 'З1&1х76', '25', '* 0 П 0 0 0 €', '₽г П ₽', 'С Т 0 €', 'Э7а  исм', '4о', '61', '4;', \"'/4,\", '(Че9*+', 'с одср жашее въ себъ', '565', '%%', '+*6', 'С 0 чм Н € Н4 Ы Й', '~₽4\"7', 'на знаП нБйшёя', '\"1 Б сл а', '06 0', '411', '\"1;г  6', 'кссъ 6', \"'{ъ \", '₽ 0 С С1Й СК 0 Й', 'И МП Е Р [И', 'С ис', \"'14А (0 &Ц   8+ [Чож+\", '070 ,', 'Одим', \"{' со\", '( Туй', \"'@\", 'Сук4 6 {((Ч]', '[ъ,жабш 76', '?с}', '~Ч{ёц}', '\"Т4', '#иж {Яц', '{Эцемеие 4', '€\"4с}', '[', \"'6  547\", '{яи', \"'с ис\", '(;', 'Ит?', '004', \"& го' 0} #Чч(:\", '{% :', '(', '#< <( &<', 'УЦ  е', '[{ц', '~1но', \"'#;\", '#И,&Ы !', '{', 'Теелия', '(м', '&3 с', '7€', 'дней', '~#04}', '#ы\"6 с;']\n"
     ]
    },
    {
     "name": "stderr",
     "output_type": "stream",
     "text": [
      "\n",
      " 16%|█▌        | 75/462 [01:23<04:25,  1.46it/s]\u001b[A"
     ]
    },
    {
     "name": "stdout",
     "output_type": "stream",
     "text": [
      "01578 []\n"
     ]
    },
    {
     "name": "stderr",
     "output_type": "stream",
     "text": [
      "\n",
      " 16%|█▋        | 76/462 [01:24<05:06,  1.26it/s]\u001b[A"
     ]
    },
    {
     "name": "stdout",
     "output_type": "stream",
     "text": [
      "01579 [\"965533&0'\", '10', '1990', 'ЕТАТ ._ САМВО.СЕ']\n"
     ]
    },
    {
     "name": "stderr",
     "output_type": "stream",
     "text": [
      "\n",
      " 17%|█▋        | 77/462 [01:25<05:05,  1.26it/s]\u001b[A"
     ]
    },
    {
     "name": "stdout",
     "output_type": "stream",
     "text": [
      "01580 ['12/11.9014', '8', '10', '11', '122', '1з', '14', '1/5']\n"
     ]
    },
    {
     "name": "stderr",
     "output_type": "stream",
     "text": [
      "\n",
      " 17%|█▋        | 78/462 [01:26<04:40,  1.37it/s]\u001b[A"
     ]
    },
    {
     "name": "stdout",
     "output_type": "stream",
     "text": [
      "01581 ['енв', 'стдън', ';5%\"@86455!1', 'РЕКх а,1:+Т 1~ТЕЙХАТЬХ-Ь', 'ЕЕКРЕОКАТТОЛЙЕ ЦДЕК', 'РБЛЯ Л< {Т', '[о 15-20', '1', \"1; ! Е ' _  11 51\", '{1А ₽{Ъ}41', '₽', '1ГТТ+ХЛЕТЬЖ РТТУЕ', 'ПЕ;ПЕГ', '41,213', \"{,#   {'л&\", 'ня4', '[: _ПрчЕЕ:ь;', '1:11', \"'{,{Лж% Н+ДТ #Е$ Ыкъ Ч9 :\", 'тъагч', 'к]ев-с7', '.', 'И#й₽ #в=1;', 'нЕъ', '115', 'ГОРРНлЛце', '91']\n"
     ]
    },
    {
     "name": "stderr",
     "output_type": "stream",
     "text": [
      "\n",
      " 17%|█▋        | 79/462 [01:26<04:17,  1.49it/s]\u001b[A"
     ]
    },
    {
     "name": "stdout",
     "output_type": "stream",
     "text": [
      "01582 ['ягъ Ирт84д', 'АГ -  ИБ  ОТДъЛя', '4<  [@@@@ЗЕ', 'ГЕ?Ы;', '{ЩРЦ0', '5113', '~п= г']\n"
     ]
    },
    {
     "name": "stderr",
     "output_type": "stream",
     "text": [
      "\n",
      " 17%|█▋        | 80/462 [01:27<03:49,  1.66it/s]\u001b[A"
     ]
    },
    {
     "name": "stdout",
     "output_type": "stream",
     "text": [
      "01583 []\n"
     ]
    },
    {
     "name": "stderr",
     "output_type": "stream",
     "text": [
      "\n",
      " 18%|█▊        | 81/462 [01:27<03:12,  1.98it/s]\u001b[A"
     ]
    },
    {
     "name": "stdout",
     "output_type": "stream",
     "text": [
      "01584 ['05/10/2014', '1ю', '11', '122', '13']\n"
     ]
    },
    {
     "name": "stderr",
     "output_type": "stream",
     "text": [
      "\n",
      " 18%|█▊        | 82/462 [01:28<03:32,  1.79it/s]\u001b[A"
     ]
    },
    {
     "name": "stdout",
     "output_type": "stream",
     "text": [
      "01585 []\n"
     ]
    },
    {
     "name": "stderr",
     "output_type": "stream",
     "text": [
      "\n",
      " 18%|█▊        | 83/462 [01:29<04:06,  1.54it/s]\u001b[A"
     ]
    },
    {
     "name": "stdout",
     "output_type": "stream",
     "text": [
      "01586 ['118/1112014', '5', '81', '9', '10', '12', '1з']\n"
     ]
    },
    {
     "name": "stderr",
     "output_type": "stream",
     "text": [
      "\n",
      " 18%|█▊        | 84/462 [01:30<04:45,  1.32it/s]\u001b[A"
     ]
    },
    {
     "name": "stdout",
     "output_type": "stream",
     "text": [
      "01587 []\n"
     ]
    },
    {
     "name": "stderr",
     "output_type": "stream",
     "text": [
      "\n",
      " 18%|█▊        | 85/462 [01:30<04:03,  1.55it/s]\u001b[A"
     ]
    },
    {
     "name": "stdout",
     "output_type": "stream",
     "text": [
      "01588 ['Че']\n"
     ]
    },
    {
     "name": "stderr",
     "output_type": "stream",
     "text": [
      "\n",
      " 19%|█▊        | 86/462 [01:31<04:56,  1.27it/s]\u001b[A"
     ]
    },
    {
     "name": "stdout",
     "output_type": "stream",
     "text": [
      "01589 []\n"
     ]
    },
    {
     "name": "stderr",
     "output_type": "stream",
     "text": [
      "\n",
      " 19%|█▉        | 87/462 [01:31<04:20,  1.44it/s]\u001b[A"
     ]
    },
    {
     "name": "stdout",
     "output_type": "stream",
     "text": [
      "01590 ['ш,']\n"
     ]
    },
    {
     "name": "stderr",
     "output_type": "stream",
     "text": [
      "\n",
      " 19%|█▉        | 88/462 [01:32<03:51,  1.61it/s]\u001b[A"
     ]
    },
    {
     "name": "stdout",
     "output_type": "stream",
     "text": [
      "01591 [\"'\", '@и', '#а Л=а', 'СЗОБОЦА', 'АЕПОМЕТПАШЧЯ  В г ПУГАЧЕВЕ', 'В ФЕВРА^ЫГКЧЕ ДЦ', '( УЧАГТЧЕМ', '7', 'ЕРМОШЕПИО.', '\"', 'З0\"л(', 'Ф?', 'ЛРОЛЕТаР]', 'АЗЫ:', '[НАРОДЬ', 'сРм', '(ъсък [', 'Ш[']\n"
     ]
    },
    {
     "name": "stderr",
     "output_type": "stream",
     "text": [
      "\n",
      " 19%|█▉        | 89/462 [01:33<04:27,  1.39it/s]\u001b[A"
     ]
    },
    {
     "name": "stdout",
     "output_type": "stream",
     "text": [
      "01592 ['Элен']\n"
     ]
    },
    {
     "name": "stderr",
     "output_type": "stream",
     "text": [
      "\n",
      " 19%|█▉        | 90/462 [01:33<04:05,  1.52it/s]\u001b[A"
     ]
    },
    {
     "name": "stdout",
     "output_type": "stream",
     "text": [
      "01593 [';86', '300,', 'Ж ^5', 'чу', '- ~', '71,/57', '7ь4', '300', \"ВЪ 'ЩТУ ШЗЫКШВЪ:\", \"5'\", '#', '5', '%НОВОСТИ  ', '1895', \"Г. .' 166}\", 'С -ПЕТЕРБУРГЪ', 'ТипографЁя', 'ТАЗСТЫ', '~]овостИ\"', 'Екатерининской капалъ; 1 113', '1895', '=', 'в', '8']\n"
     ]
    },
    {
     "name": "stderr",
     "output_type": "stream",
     "text": [
      "\n",
      " 20%|█▉        | 91/462 [01:34<03:51,  1.60it/s]\u001b[A"
     ]
    },
    {
     "name": "stdout",
     "output_type": "stream",
     "text": [
      "01595 []\n"
     ]
    },
    {
     "name": "stderr",
     "output_type": "stream",
     "text": [
      "\n",
      " 20%|█▉        | 92/462 [01:34<03:29,  1.77it/s]\u001b[A"
     ]
    },
    {
     "name": "stdout",
     "output_type": "stream",
     "text": [
      "01596 ['112', '115']\n"
     ]
    },
    {
     "name": "stderr",
     "output_type": "stream",
     "text": [
      "\n",
      " 20%|██        | 93/462 [01:35<04:02,  1.52it/s]\u001b[A"
     ]
    },
    {
     "name": "stdout",
     "output_type": "stream",
     "text": [
      "01597 ['112', '113', '114', '115', '996911']\n"
     ]
    },
    {
     "name": "stderr",
     "output_type": "stream",
     "text": [
      "\n",
      " 20%|██        | 94/462 [01:36<04:14,  1.44it/s]\u001b[A"
     ]
    },
    {
     "name": "stdout",
     "output_type": "stream",
     "text": [
      "01598 []\n"
     ]
    },
    {
     "name": "stderr",
     "output_type": "stream",
     "text": [
      "libpng warning: iCCP: known incorrect sRGB profile\n",
      "libpng warning: iCCP: known incorrect sRGB profile\n",
      "\n",
      " 21%|██        | 95/462 [01:37<04:58,  1.23it/s]\u001b[A"
     ]
    },
    {
     "name": "stdout",
     "output_type": "stream",
     "text": [
      "01600 []\n"
     ]
    },
    {
     "name": "stderr",
     "output_type": "stream",
     "text": [
      "libpng warning: iCCP: known incorrect sRGB profile\n",
      "libpng warning: iCCP: known incorrect sRGB profile\n",
      "\n",
      " 21%|██        | 96/462 [01:39<07:32,  1.24s/it]\u001b[A"
     ]
    },
    {
     "name": "stdout",
     "output_type": "stream",
     "text": [
      "01601 []\n"
     ]
    },
    {
     "name": "stderr",
     "output_type": "stream",
     "text": [
      "libpng warning: iCCP: known incorrect sRGB profile\n",
      "libpng warning: iCCP: known incorrect sRGB profile\n",
      "\n",
      " 21%|██        | 97/462 [01:40<06:19,  1.04s/it]\u001b[A"
     ]
    },
    {
     "name": "stdout",
     "output_type": "stream",
     "text": [
      "01602 []\n"
     ]
    },
    {
     "name": "stderr",
     "output_type": "stream",
     "text": [
      "libpng warning: iCCP: known incorrect sRGB profile\n",
      "libpng warning: iCCP: known incorrect sRGB profile\n",
      "\n",
      " 21%|██        | 98/462 [01:41<06:12,  1.02s/it]\u001b[A"
     ]
    },
    {
     "name": "stdout",
     "output_type": "stream",
     "text": [
      "01603 []\n"
     ]
    },
    {
     "name": "stderr",
     "output_type": "stream",
     "text": [
      "\n",
      " 21%|██▏       | 99/462 [01:41<05:20,  1.13it/s]\u001b[A"
     ]
    },
    {
     "name": "stdout",
     "output_type": "stream",
     "text": [
      "01604 []\n"
     ]
    },
    {
     "name": "stderr",
     "output_type": "stream",
     "text": [
      "libpng warning: iCCP: known incorrect sRGB profile\n",
      "libpng warning: iCCP: known incorrect sRGB profile\n",
      "\n",
      " 22%|██▏       | 100/462 [01:42<04:43,  1.28it/s]\u001b[A"
     ]
    },
    {
     "name": "stdout",
     "output_type": "stream",
     "text": [
      "01605 ['4149/4э', '10', '14', 'к оФ', '8ч 94']\n"
     ]
    },
    {
     "name": "stderr",
     "output_type": "stream",
     "text": [
      "\n",
      " 22%|██▏       | 101/462 [01:43<04:40,  1.29it/s]\u001b[A"
     ]
    },
    {
     "name": "stdout",
     "output_type": "stream",
     "text": [
      "01606 []\n"
     ]
    },
    {
     "name": "stderr",
     "output_type": "stream",
     "text": [
      "libpng warning: iCCP: known incorrect sRGB profile\n",
      "libpng warning: iCCP: known incorrect sRGB profile\n",
      "\n",
      " 22%|██▏       | 102/462 [01:45<08:02,  1.34s/it]\u001b[A"
     ]
    },
    {
     "name": "stdout",
     "output_type": "stream",
     "text": [
      "01607 []\n"
     ]
    },
    {
     "name": "stderr",
     "output_type": "stream",
     "text": [
      "\n",
      " 22%|██▏       | 103/462 [01:46<06:25,  1.08s/it]\u001b[A"
     ]
    },
    {
     "name": "stdout",
     "output_type": "stream",
     "text": [
      "01608 []\n"
     ]
    },
    {
     "name": "stderr",
     "output_type": "stream",
     "text": [
      "\n",
      " 23%|██▎       | 104/462 [01:47<05:44,  1.04it/s]\u001b[A"
     ]
    },
    {
     "name": "stdout",
     "output_type": "stream",
     "text": [
      "01609 ['8']\n"
     ]
    },
    {
     "name": "stderr",
     "output_type": "stream",
     "text": [
      "\n",
      " 23%|██▎       | 105/462 [01:47<04:46,  1.25it/s]\u001b[A"
     ]
    },
    {
     "name": "stdout",
     "output_type": "stream",
     "text": [
      "01610 []\n"
     ]
    },
    {
     "name": "stderr",
     "output_type": "stream",
     "text": [
      "\n",
      " 23%|██▎       | 106/462 [01:48<04:19,  1.37it/s]\u001b[A"
     ]
    },
    {
     "name": "stdout",
     "output_type": "stream",
     "text": [
      "01611 []\n"
     ]
    },
    {
     "name": "stderr",
     "output_type": "stream",
     "text": [
      "\n",
      " 23%|██▎       | 107/462 [01:49<06:24,  1.08s/it]\u001b[A"
     ]
    },
    {
     "name": "stdout",
     "output_type": "stream",
     "text": [
      "01612 []\n"
     ]
    },
    {
     "name": "stderr",
     "output_type": "stream",
     "text": [
      "\n",
      " 23%|██▎       | 108/462 [01:51<07:27,  1.27s/it]\u001b[A"
     ]
    },
    {
     "name": "stdout",
     "output_type": "stream",
     "text": [
      "01613 ['4 ₽ % И В Нд', 'В Ы П И С Ж д', 'артхвном фонде Глшско упранлания культурь', 'неттява ДДУИн#ЕЕяЦИК', 'Сугно;', 'С5лагти', 'лАЧвИХсна;ран чн}', 'СУ нщихл,', \"'к-пэгпаинкревь_ческому мтЗет}\", 'У#аЧЫТЕ;', 'шаз/8леаа длылтчл Орадена', 'Е  чнтччый Егпиник', '#2а Ботаа ппата Еттаа дпа', 'шеод', '1970', '1971', '1973', '41974', 'ЯЕЛРЬ', 'Я5-37', 'ФЕБРАЛЬ', '52ы', 'цЕБ8', '10: 5г', 'НЕ=т', '103 51', '272-28', 'АПРЕЛЬ', 'цАЙ', '99 47', 'июнь', '705-п7', '107 51', '[ЛЕ', '19414', '174=', 'АВГУСТ', '61-35', '44 + .', 'СЕНП хНь', '1п75', 'ОКТ ЯРо', '1г35г', 'НОЯРЬ', 'АП } н', 'ЛЕКАБГЪ', '103 =0', '1975 ', '1976', '1977', '1978', 'ЯНвАРЪ', '172 5', 'БЕВРАЛЬ', '51-75', '92-32', '*550', 'шш4 |', '103 =0', '153 50', '172 50', \"'етнч\", 'АПРЕЛЬ', '91-75', 'К49', '1077 7', '103 50', '144 90', 'ИКНЬ', 'нюЛЬ', '176 82', '226-3\"', 'КЕТ', '15т-55', 'а297', '47-9 1', 'СЕН', 'ЯРЬ', '103 50', '103 !0', '155-Б7', 'СКТ ЯРЬ', '163 511', '159 50', '1950', 'НЕЖРЬ', '103-50', '204.96', '14сг', 'ДЕКАБРа', '9-й', '10350', '62-67', '14959', 'ИС:€;', '€ , с;', '\"у ', '330']\n",
      "01614 ['0']\n"
     ]
    },
    {
     "name": "stderr",
     "output_type": "stream",
     "text": [
      "\n",
      " 24%|██▍       | 110/462 [01:52<05:06,  1.15it/s]\u001b[A"
     ]
    },
    {
     "name": "stdout",
     "output_type": "stream",
     "text": [
      "01615 ['мИ-1о', 'ПОЧТА', '0', 'Шк &сСА', '@']\n"
     ]
    },
    {
     "name": "stderr",
     "output_type": "stream",
     "text": [
      "\n",
      " 24%|██▍       | 111/462 [01:52<04:08,  1.41it/s]\u001b[A"
     ]
    },
    {
     "name": "stdout",
     "output_type": "stream",
     "text": [
      "01616 []\n"
     ]
    },
    {
     "name": "stderr",
     "output_type": "stream",
     "text": [
      "\n",
      " 24%|██▍       | 112/462 [01:53<03:48,  1.53it/s]\u001b[A"
     ]
    },
    {
     "name": "stdout",
     "output_type": "stream",
     "text": [
      "01619 ['Ннсонов Внснпни Чшья -', 'НОВНЧ']\n"
     ]
    },
    {
     "name": "stderr",
     "output_type": "stream",
     "text": [
      "libpng warning: iCCP: known incorrect sRGB profile\n",
      "libpng warning: iCCP: known incorrect sRGB profile\n",
      "\n",
      " 24%|██▍       | 113/462 [01:54<04:00,  1.45it/s]\u001b[A"
     ]
    },
    {
     "name": "stdout",
     "output_type": "stream",
     "text": [
      "01620 ['15', 'КопьЕшт', '1908', 'шы']\n"
     ]
    },
    {
     "name": "stderr",
     "output_type": "stream",
     "text": [
      "libpng warning: iCCP: known incorrect sRGB profile\n",
      "libpng warning: iCCP: known incorrect sRGB profile\n",
      "\n",
      " 25%|██▍       | 114/462 [01:54<04:06,  1.41it/s]\u001b[A"
     ]
    },
    {
     "name": "stdout",
     "output_type": "stream",
     "text": [
      "01621 []\n"
     ]
    },
    {
     "name": "stderr",
     "output_type": "stream",
     "text": [
      "\n",
      " 25%|██▍       | 115/462 [01:55<03:52,  1.49it/s]\u001b[A"
     ]
    },
    {
     "name": "stdout",
     "output_type": "stream",
     "text": [
      "01622 []\n"
     ]
    },
    {
     "name": "stderr",
     "output_type": "stream",
     "text": [
      "\n",
      " 25%|██▌       | 116/462 [01:56<04:34,  1.26it/s]\u001b[A"
     ]
    },
    {
     "name": "stdout",
     "output_type": "stream",
     "text": [
      "01623 []\n"
     ]
    },
    {
     "name": "stderr",
     "output_type": "stream",
     "text": [
      "\n",
      " 25%|██▌       | 117/462 [01:57<04:46,  1.20it/s]\u001b[A"
     ]
    },
    {
     "name": "stdout",
     "output_type": "stream",
     "text": [
      "01624 ['КАМАБАНК', 'Сгеф(', 'ЖКАМАБАНК', 'Сагф', 'Еас0як@м', 'Шшыро', 'оуск_', 'УЗ4', \"'еачик оя\", 'коюе_', 'Режэ€<', '\"ок 9']\n"
     ]
    },
    {
     "name": "stderr",
     "output_type": "stream",
     "text": [
      "\n",
      " 26%|██▌       | 118/462 [01:58<05:13,  1.10it/s]\u001b[A"
     ]
    },
    {
     "name": "stdout",
     "output_type": "stream",
     "text": [
      "01627 []\n"
     ]
    },
    {
     "name": "stderr",
     "output_type": "stream",
     "text": [
      "\n",
      " 26%|██▌       | 119/462 [01:59<04:59,  1.15it/s]\u001b[A"
     ]
    },
    {
     "name": "stdout",
     "output_type": "stream",
     "text": [
      "01628 []\n"
     ]
    },
    {
     "name": "stderr",
     "output_type": "stream",
     "text": [
      "\n",
      " 26%|██▌       | 120/462 [01:59<03:45,  1.51it/s]\u001b[A"
     ]
    },
    {
     "name": "stdout",
     "output_type": "stream",
     "text": [
      "01629 []\n"
     ]
    },
    {
     "name": "stderr",
     "output_type": "stream",
     "text": [
      "\n",
      " 26%|██▌       | 121/462 [01:59<03:32,  1.60it/s]\u001b[A"
     ]
    },
    {
     "name": "stdout",
     "output_type": "stream",
     "text": [
      "01630 []\n"
     ]
    },
    {
     "name": "stderr",
     "output_type": "stream",
     "text": [
      "\n"
     ]
    },
    {
     "name": "stdout",
     "output_type": "stream",
     "text": [
      "01631 []\n"
     ]
    },
    {
     "name": "stderr",
     "output_type": "stream",
     "text": [
      " 26%|██▋       | 122/462 [02:05<12:12,  2.15s/it]\u001b[A\n",
      " 27%|██▋       | 123/462 [02:06<09:20,  1.65s/it]\u001b[A"
     ]
    },
    {
     "name": "stdout",
     "output_type": "stream",
     "text": [
      "01632 ['НА СТАРОЙ', 'СМОЛЕНЕКОЙ ДОРШГЕ', \"'2 1 \"]\n",
      "01633 ['7рскбй']\n"
     ]
    },
    {
     "name": "stderr",
     "output_type": "stream",
     "text": [
      "\n",
      " 27%|██▋       | 125/462 [02:07<06:16,  1.12s/it]\u001b[A\n",
      " 27%|██▋       | 126/462 [02:07<04:52,  1.15it/s]\u001b[A"
     ]
    },
    {
     "name": "stdout",
     "output_type": "stream",
     "text": [
      "01634 ['ДОСА А Ф', 'Д0 СА А Ф', 'КРЕПИ ОБОРОНУ РОДИНЫ', 'КРЕПИ (БОРОНУ РОДИНЫ', 'коп', 'зо взнос', '[68', 'зон взнос', '[68']\n",
      "01635 ['З7жъ']\n"
     ]
    },
    {
     "name": "stderr",
     "output_type": "stream",
     "text": [
      "\n",
      " 27%|██▋       | 127/462 [02:07<04:03,  1.37it/s]\u001b[A"
     ]
    },
    {
     "name": "stdout",
     "output_type": "stream",
     "text": [
      "01636 []\n"
     ]
    },
    {
     "name": "stderr",
     "output_type": "stream",
     "text": [
      "\n",
      " 28%|██▊       | 128/462 [02:08<04:01,  1.38it/s]\u001b[A"
     ]
    },
    {
     "name": "stdout",
     "output_type": "stream",
     "text": [
      "01637 ['Въ', 'Суап', '12', '73', 'рлак', \"'спь5\", 'Соп @гз', 'соо_г', '[ш_е', 'СЬг[', '#13', '(гееп']\n"
     ]
    },
    {
     "name": "stderr",
     "output_type": "stream",
     "text": [
      "\n",
      " 28%|██▊       | 129/462 [02:08<03:33,  1.56it/s]\u001b[A"
     ]
    },
    {
     "name": "stdout",
     "output_type": "stream",
     "text": [
      "01638 []\n"
     ]
    },
    {
     "name": "stderr",
     "output_type": "stream",
     "text": [
      "\n",
      " 28%|██▊       | 130/462 [02:09<03:27,  1.60it/s]\u001b[A"
     ]
    },
    {
     "name": "stdout",
     "output_type": "stream",
     "text": [
      "01639 []\n"
     ]
    },
    {
     "name": "stderr",
     "output_type": "stream",
     "text": [
      "\n",
      " 28%|██▊       | 131/462 [02:10<03:55,  1.40it/s]\u001b[A"
     ]
    },
    {
     "name": "stdout",
     "output_type": "stream",
     "text": [
      "01640 ['170 к ₽ А Т К 0 Е', '7-', '\"скьщыь', 'ЗЕЛлЕоПИСлше', 'но новочу', 'сАаигю', ')', '15', '4', \"'5}\", 'и€7', 'кьиаеу', 'а €т', '6 ..', ' } ;;', '#5; 575', '3 €а', '390339']\n"
     ]
    },
    {
     "name": "stderr",
     "output_type": "stream",
     "text": [
      "\n",
      " 29%|██▊       | 132/462 [02:10<03:27,  1.59it/s]\u001b[A"
     ]
    },
    {
     "name": "stdout",
     "output_type": "stream",
     "text": [
      "01641 []\n"
     ]
    },
    {
     "name": "stderr",
     "output_type": "stream",
     "text": [
      "\n",
      " 29%|██▉       | 133/462 [02:27<30:25,  5.55s/it]\u001b[A"
     ]
    },
    {
     "name": "stdout",
     "output_type": "stream",
     "text": [
      "01642 ['€х', \"ы€₽'я\", 'ЯЮЦЯЮЛШЕШИЯ', 'НЗ ШРТУГМЛШН', 'знатоком,', 'ни', 'любителем', 'экслибрисов', 'Я', 'себя', 'не', 'считала,', 'когда', 'мне', 'в', 'руки', 'попала', 'эта', 'ши', 'карная;', 'прямо', 'скажем;', 'книга', 'В', 'твердом переплете', 'С тиснением,', 'в', 'пластиковой суперобложке; напе-', 'чатанная', 'на', 'отличной гладкой бу-', 'маге', 'С', 'иллюстрациями', 'очень', 'высокого качества.', 'Такую просто и', 'в', 'руках-то подержать приятно_', 'Это \"Энциклопедия', 'Европей', 'Ского', 'экслибриса', 'изданная', '8', 'Португалии', 'в', '1992 году: Каждый', 'год выходит по одному тому этой', 'эна! жклопедии', 'и в ней рассказыва-', 'ется', 'ворчестве художников; за-', 'нимающихся искусством', 'книжных', 'знаков', 'из', 'разных стран', '8', 'две-', 'надцатый том этого солидного из-', 'УА.-М-@', 'МА&Л&', 'дания', 'попал', 'томский художник', 'Владимир Марьин.', 'Его работы', 'около', 'года назад', 'принимали уча-', '8', ';амскё', 'стие', '8', 'международной', 'выставке', 'экслибриса', '8', 'португальском горо', 'ФаБмаго', 'фгрша4а', 'де Гелорико де Басто, и вот сейчас', 'организаторы выставки', 'в качестве', '4 # ₽', '#иневича', 'ее', 'Каталога', 'прислали Владимиру', 'Марьину', 'эту', 'книгу', 'где собраны', 'лучшие работы', 'всех', 'участников', 'этой выставки', 'дан перечень боль-', 'шинства их', 'работ, собраны биогра-', 'сел сжзградъ', 'из хнил 3 ПЕРКинд', 'фические', 'данные', '0', 'художниках', 'есть даже авторские оттиски', 'С ав-', 'тографами; аккуратно вклеенные', '8', 'специальную рамочку на странице', 'книги', 'В каждый из четырехсот ее', 'экземпляров', 'ПНВТУШЬЯ', 'Среди', 'семнадцати', 'имен;', 'во-', 'шедших', '5', 'этот', 'каталог ,', 'только', '\"[УМИЛ\"', 'двое из нашей страны. Луис Ортега', 'Ш', 'из Москвы и Владимир Марьин из', 'Томска', 'Его', '#ИЬ', 'ДШРШЫЛЕТ', 'Издание это', 'уникальное', 'тираж всего 400 экземпляров, рас-', 'Идти в пастухи желающих сей-', 'пространился', 'в очень', 'узком кругу', 'час', 'не', 'особенно', 'много .', 'Плата', 'за', 'среди художников коллекционе-', 'ров экслибрисов.', '(Владимиру', 'В', 'Асине', 'объявлен', 'смотр-кон-', 'эту работу тоже возросла поряд', 'ком:', '8', 'Первомайском районе сбо-', 'Алексееви Чу', 'уже', 'приходят', 'курс муниципальных торговых', 'ры', 'с владельцев за одну корову', 'письма от зарубежных коллекцио-', 'предприятий на лучшую организа', '50-70 рублей  А', '8', 'райцентре', 'аж', 'неров', 'С', 'просьбой', 'прислать', 'свои', 'ЦИю', 'обслуживания. Он будет про-', 'по 100 рублей за буренку и по 50', 'работы):', 'Благоговейно', 'перевора-', 'ходить', 'С', 'июня', 'по', 'августа', 'за молодняк; за овцу', 'по 10 руб-', 'чивая гладкие блестящие страницы', 'Бывший Асиновский орс реоргани-', 'лей', 'и', 'разглядывая книжные знаки; ро-', 'зован ,', 'и теперь каждый', 'магазин', 'Кое-где пастухи ставят и усло-', 'дившиеся', 'на', 'разных  географиче-', 'представляет собой самостоятель-', 'вие', 'собирать им еду', 'С', 'собой', 'на', 'ских широтах;', 'В', 'разных странах;', 'Я', 'ное предприятие. Итоги подводят-', 'работу,', 'В', 'народе', 'называемую', 'поражалась', 'их', 'разнообразию', 'С я', 'кажды е', 'дес ять', 'дней:', 'сумкой', 'Сейчас такая \"сумка', 'то-', 'Столько тем, стилей;', 'техник', 'Каж-', 'оцениваются', 'ассортимент,', 'вы-', 'дый художник рассказывает о6', 'кладка', 'товаров', '8', 'витринах;', 'ис-', 'же', 'обходится недешево;', 'и', 'вла-', 'дельцы скота возмущаются', 'особенностях своего мировоспри-', 'пользование', 'торговых площадей;', 'ятия', 'языком', 'этих', 'маленьких про-', 'применение различных форм', 'об-', 'и з ведений', 'искусства', 'А', 'я-то', 'служивания', 'Немаловажная', 'де', 'думала до сих пор, что экслибрис', 'таль:', '8', 'конкурсе будут учитывать и', 'ЗМЮЛМДЫВ', 'просто', 'обозначает', 'принадлеж-', 'мнение покупателей:', 'ность', 'книги какому-то', 'лицу:', 'Те-', 'По', 'мнению', 'администрации', 'перь', 'он', 'уже', 'не', 'кажется', 'мне', 'района; конкурс', 'поможет', 'в улуч-', 'Полторы', 'тысячи гектаров', 'из', 'скучным, потому что многие рабо-', 'шении культуры обслуживания жи-', 'земель запаса выделила админист-', 'ты из этой энциклопедии', 'миниа-', 'телей города', 'Победителей', 'ждет', 'рация Шегарского района под ка-', 'тюрные картины', 'приз', 'денежная премия', 'Пока', 'зачью', 'станицу', 'в', 'районе', 'деревни', '0', 'ЧАЙКОВСКАЯ:', 'дируют', 'два', 'магазина:', 'Весна', 'и', 'Бабарыкино: Это заросшие; запу-', 'Н^', 'СНИМКЕ: страница', 'из', '\"Гермес', 'щенные', 'земли ', 'которые', 'когда-то', '\"Энциклопедии\"', 'использовались крестьянами', 'ис-', 'чезнувших', 'с', 'лина земли сел', '\"Кра сио <', '& 1* 1', '20 июл7 [Ч2г ', 'Ни', 'ли-', 'Пер-', '3 :', \"{#ч -'\"]\n"
     ]
    },
    {
     "name": "stderr",
     "output_type": "stream",
     "text": [
      "\n",
      " 29%|██▉       | 134/462 [02:28<22:46,  4.17s/it]\u001b[A"
     ]
    },
    {
     "name": "stdout",
     "output_type": "stream",
     "text": [
      "01643 []\n"
     ]
    },
    {
     "name": "stderr",
     "output_type": "stream",
     "text": [
      "\n",
      " 29%|██▉       | 135/462 [02:29<16:22,  3.00s/it]\u001b[A"
     ]
    },
    {
     "name": "stdout",
     "output_type": "stream",
     "text": [
      "01644 ['1МАЯ']\n"
     ]
    },
    {
     "name": "stderr",
     "output_type": "stream",
     "text": [
      "\n",
      " 29%|██▉       | 136/462 [02:29<12:20,  2.27s/it]\u001b[A"
     ]
    },
    {
     "name": "stdout",
     "output_type": "stream",
     "text": [
      "01646 []\n"
     ]
    },
    {
     "name": "stderr",
     "output_type": "stream",
     "text": [
      "\n",
      " 30%|██▉       | 137/462 [02:35<17:37,  3.25s/it]\u001b[A"
     ]
    },
    {
     "name": "stdout",
     "output_type": "stream",
     "text": [
      "01647 []\n"
     ]
    },
    {
     "name": "stderr",
     "output_type": "stream",
     "text": [
      "\n",
      " 30%|██▉       | 138/462 [02:42<23:51,  4.42s/it]\u001b[A"
     ]
    },
    {
     "name": "stdout",
     "output_type": "stream",
     "text": [
      "01648 ['Екм- 61&9', '1574', 'КН- 15э 9', 'И:ДВ #@МЯ ,8 НДЛ-Д\" (; Л#шц; 9', '391', '96.', '8 3', 'ТОМЪ ПЕРВЫЙ:', 'Р А 3 С К А 3', 'ы:', 'С 0 Д Е ₽ Ж А Н [ Е:', 'Перевалъ:', 'Костеръ:', 'На', 'свъта:', 'Новая  дорога:', 'Кастрюкъ:', 'Осенью.', 'Въ', 'Августъ.', 'Туманъ:', 'Безъ роду-племени.', 'Байбаки.', 'Поздней', 'ночьЮ', 'Новый', 'годъ:', 'На Донцъ:', 'Антоновскёя яблоки', 'Фантазеръ:', 'Велга:', 'Сосны:', 'Скитъ:', 'Тишина.', 'Тарантелла:', '99', 'Надежда\"', 'И 3 Д А Н[Е', 'Т Р Е Т Ь Е:', 'Цъна', '1', '?@:', 'С-ПЕТЕРБУРГЪ:', '1 9 0 4.', '(м', '6с596', 'Чунино', 'Руда:', 'край', 'рубль:', '\\'<\"']\n"
     ]
    },
    {
     "name": "stderr",
     "output_type": "stream",
     "text": [
      "\n",
      " 30%|███       | 139/462 [02:43<18:06,  3.36s/it]\u001b[A"
     ]
    },
    {
     "name": "stdout",
     "output_type": "stream",
     "text": [
      "01649 ['О.Ф. 4712/ 2']\n"
     ]
    },
    {
     "name": "stderr",
     "output_type": "stream",
     "text": [
      "\n",
      " 30%|███       | 140/462 [02:43<13:48,  2.57s/it]\u001b[A"
     ]
    },
    {
     "name": "stdout",
     "output_type": "stream",
     "text": [
      "01650 ['#онн', 'Ко.Ак Сгу Бсаюю', ')', '4 |ет', 'сешио', 'ле', 'Кочак']\n"
     ]
    },
    {
     "name": "stderr",
     "output_type": "stream",
     "text": [
      "\n",
      " 31%|███       | 141/462 [02:45<11:25,  2.13s/it]\u001b[A"
     ]
    },
    {
     "name": "stdout",
     "output_type": "stream",
     "text": [
      "01651 ['корАк Сву ае', 'каяак', '1]', 'сЫ1Ъ_', 'соп_ы', '3,,', 'коф:к']\n"
     ]
    },
    {
     "name": "stderr",
     "output_type": "stream",
     "text": [
      "\n",
      " 31%|███       | 142/462 [02:46<09:35,  1.80s/it]\u001b[A"
     ]
    },
    {
     "name": "stdout",
     "output_type": "stream",
     "text": [
      "01652 []\n"
     ]
    },
    {
     "name": "stderr",
     "output_type": "stream",
     "text": [
      "libpng warning: iCCP: known incorrect sRGB profile\n",
      "libpng warning: iCCP: known incorrect sRGB profile\n",
      "\n",
      " 31%|███       | 143/462 [02:49<12:23,  2.33s/it]\u001b[A"
     ]
    },
    {
     "name": "stdout",
     "output_type": "stream",
     "text": [
      "01653 ['{Эмне_', 'У+с |с', '[_ ж', '6Я', '(ъ+и 9', 'Ля€ &ч', '( (~8', \"'1уч\", 'Я', '~ж', '3 21 6', '(о?', \"'\", '#', 'Ъи-я&&', '1Ъсс', '260 209 €0', '(Ж,', '6', '[', 'щ%&', '2с0 9оес:', '42е? >', '3 @, |#', '4егг, ', '04', 'уми с&х', 'Ссесе', 'И9) Ф1?', \"'и  ~+ 6 Кес\", '4', '^ &ь', '(ч/е их', '~&', '1421(ес 1+2', '16', '23  це 69', '144 1 ~ъ', '[>я', '4 +', '(я', '~.ч&', '|~+ ', '1- ', \"' ( (Я +\", '0 9 ^', '(ж-6 1&', 'Тус', '41, у', 'чилёл', \"44' (\", \"',и х\", ')юч}', '9[шл', ')о ьс ;', '[%м', \"'ж 4 `\", 'Ъъж', ')1с 1и', '(ио>', '{ча-0', '(тож', '26 /99', '~ъ', '{ч', '0(~0ль', 'Рэсэ<', '{м']\n"
     ]
    },
    {
     "name": "stderr",
     "output_type": "stream",
     "text": [
      "libpng warning: iCCP: profile 'ICC Profile': 0h: PCS illuminant is not D50\n",
      "libpng warning: iCCP: unexpected zlib return code\n",
      "libpng warning: iCCP: profile 'ICC Profile': 0h: PCS illuminant is not D50\n",
      "libpng warning: iCCP: unexpected zlib return code\n",
      "\n",
      " 31%|███       | 144/462 [02:50<10:16,  1.94s/it]\u001b[A"
     ]
    },
    {
     "name": "stdout",
     "output_type": "stream",
     "text": [
      "01654 ['[', 'Ч8471']\n"
     ]
    },
    {
     "name": "stderr",
     "output_type": "stream",
     "text": [
      "libpng warning: iCCP: profile 'ICC Profile': 0h: PCS illuminant is not D50\n",
      "libpng warning: iCCP: unexpected zlib return code\n",
      "libpng warning: iCCP: profile 'ICC Profile': 0h: PCS illuminant is not D50\n",
      "libpng warning: iCCP: unexpected zlib return code\n",
      "\n",
      " 31%|███▏      | 145/462 [02:50<07:32,  1.43s/it]\u001b[A"
     ]
    },
    {
     "name": "stdout",
     "output_type": "stream",
     "text": [
      "01655 ['КОРЧМИТ', 'ВЛАДИМИР АЛЕКСАНДРОВИЧ', 'ПЕРВЫЙ ЗАМЕСТИТЕЛЬ', 'ГУБЕРНАТОРА', 'КОРЯКСКОГО', 'АВТОНОМНОГО', 'ОКРУГА']\n"
     ]
    },
    {
     "name": "stderr",
     "output_type": "stream",
     "text": [
      "libpng warning: iCCP: known incorrect sRGB profile\n",
      "libpng warning: iCCP: known incorrect sRGB profile\n",
      "\n",
      " 32%|███▏      | 146/462 [02:53<08:45,  1.66s/it]\u001b[A"
     ]
    },
    {
     "name": "stdout",
     "output_type": "stream",
     "text": [
      "01656 ['КО АНАНЫЙ', 'ПУНКЛ. ЗАПААНЫЙ ФАСА4', 'М', '1:25']\n"
     ]
    },
    {
     "name": "stderr",
     "output_type": "stream",
     "text": [
      "\n",
      " 32%|███▏      | 147/462 [02:53<06:43,  1.28s/it]\u001b[A"
     ]
    },
    {
     "name": "stdout",
     "output_type": "stream",
     "text": [
      "01657 []\n"
     ]
    },
    {
     "name": "stderr",
     "output_type": "stream",
     "text": [
      "\n",
      " 32%|███▏      | 148/462 [02:53<05:13,  1.00it/s]\u001b[A"
     ]
    },
    {
     "name": "stdout",
     "output_type": "stream",
     "text": [
      "01658 ['Р@&С-РЕЯ', '), )КО-Т', ')Е БА ~АТЫ@Е ЕТ >ЕЗ 6Е&З', ')& Э@О-Т ₽ЫЗЫС   6Ё.Ё?А_:', '$ЕСО&)Е РАКТ1Е:']\n"
     ]
    },
    {
     "name": "stderr",
     "output_type": "stream",
     "text": [
      "\n",
      " 32%|███▏      | 149/462 [02:54<05:04,  1.03it/s]\u001b[A"
     ]
    },
    {
     "name": "stdout",
     "output_type": "stream",
     "text": [
      "01659 []\n"
     ]
    },
    {
     "name": "stderr",
     "output_type": "stream",
     "text": [
      "\n",
      " 32%|███▏      | 150/462 [02:56<05:45,  1.11s/it]\u001b[A"
     ]
    },
    {
     "name": "stdout",
     "output_type": "stream",
     "text": [
      "01660 ['{%}', 'Р@[С_РЕЯ', ')& ,?О-Т', ')Е', '.А ~АТ_@Е', \"ЕТ >Е' 6Е&З ,\", '0&', ',?О-Т ₽УЗ<-С 6Ё~Ё?А<;', 'РАК 1-1 вЫК.АМ^Ф.1', '&0.ЪББЕ Ё,-ТО&;', 'СОЖТГУАК1 165   [И] С]-З', 'РЖО1', 'мАт,€', \"1€$  Ё.*ыгя$ 1Т '}О1Т\", 'АТЧЩЕЕ 9', 'ЕТ 1Е5', '7ПястШЦ :', '111', 'гонтогк ;', '#тсс ]з #Я;;д1з', ']з п-*с: Я1 ~го[@з5 иг  ёысц;', 'стцсз', '#Ц:ш-п -е> ~& г*-:хоп; вошъ~]] я% (~хгтр]ез 4йгё$ ;с ] 4з@_гс ', 'СОтЕБ.Е', 'лОстЕгл', ',ПО1Т:', 'РАК]5 ,', 'СН1% ,АДЕТ', 'ЕТ €ОТЕЕЕЕ; €1БКА-Е$', 'ДИЕ', '#Е,УЕ-61;-РЕТ-СПАМГ:', '1821 ;', \"'\", '[', \"'вш5\"]\n"
     ]
    },
    {
     "name": "stderr",
     "output_type": "stream",
     "text": [
      "\n",
      " 33%|███▎      | 151/462 [02:57<05:30,  1.06s/it]\u001b[A"
     ]
    },
    {
     "name": "stdout",
     "output_type": "stream",
     "text": [
      "01661 ['ш@€', 'АР-24', '%.-550', 'АрХ-24', '4ЯЧ']\n"
     ]
    },
    {
     "name": "stderr",
     "output_type": "stream",
     "text": [
      "\n",
      " 33%|███▎      | 152/462 [02:58<05:15,  1.02s/it]\u001b[A"
     ]
    },
    {
     "name": "stdout",
     "output_type": "stream",
     "text": [
      "01662 ['ш@--С', 'АРХ-24']\n"
     ]
    },
    {
     "name": "stderr",
     "output_type": "stream",
     "text": [
      "\n",
      " 33%|███▎      | 153/462 [02:59<05:40,  1.10s/it]\u001b[A"
     ]
    },
    {
     "name": "stdout",
     "output_type": "stream",
     "text": [
      "01663 []\n"
     ]
    },
    {
     "name": "stderr",
     "output_type": "stream",
     "text": [
      "\n",
      " 33%|███▎      | 154/462 [03:01<07:11,  1.40s/it]\u001b[A"
     ]
    },
    {
     "name": "stdout",
     "output_type": "stream",
     "text": [
      "01664 ['Акни \"', 'Дита~Г', 'Л@ _', '\\'47\"(', '4лигч %', '~2 #{7чс .', '19', 'Л 2_ ,', '\"4', 'кэээ е - уьс  9', '\"е-', \"'+х\", '(етс хо 0 4', 'Яг_', '%', '7р', \"'е2з\", 'Я [е%жс€ !жким 3,,', '\\'г\"4 ', '{]1 Ем ок', '\"\";мче $ %к 3/', 'Н', '4', '7 2', '~5 ', '71и+', '1', '[&', '(4иэкож ,', '(', '\"уЁ ,', '2 чиъ+с ,', '/0ж 6', 'Чю4', '\"м', 'Ж', 'о ₽ #', '\"', '(с ( лччж', \"'%яъ;\", '~(4', 'У, иждк+~5', 'Кел \"-  _', \"'{инлчж ,\", '(,чжл {', '%;/\" Кчыэ5 Мт*,', '49: лы 6 ', '4144', 'Лмич, (,9', '([]#741жзхы', 'С~', '7+ %', '!-э*41', '~^о /', '[ж%* 4 , (емыъ', 'Жммичкм5', '\"1хэж\"~_', '(~+д', 'К%ли6', 'ЯмГж, \"1', \"'ле\", \"192'7 ,~2 \", '2ъ7о Г', 'Мм', 'ЛЦес- @', '{к', '(Ч4* (-2 _', '(?', 'Съей', '(Я ч{э', '3', 'х', 'Пет >', '772*', '6 02&щ', ')се& 7', 'ККм 4636/+', 'я*/', '[(\"р?\\']}*4^', '[ч(*\" * ', '\"южжс  [', '2+е[', '([р\"3,7 >', '41 .', 'Чо%', \"'{лмнчА ,\", 'Й Фд', '7427+7', '{Ижмг9 (', 'ос? ', 'М\"1', '(~-ч', '72&. (']\n"
     ]
    },
    {
     "name": "stderr",
     "output_type": "stream",
     "text": [
      "\n",
      " 34%|███▎      | 155/462 [03:02<06:23,  1.25s/it]\u001b[A"
     ]
    },
    {
     "name": "stdout",
     "output_type": "stream",
     "text": [
      "01665 []\n"
     ]
    },
    {
     "name": "stderr",
     "output_type": "stream",
     "text": [
      "\n",
      " 34%|███▍      | 156/462 [03:03<06:15,  1.23s/it]\u001b[A"
     ]
    },
    {
     "name": "stdout",
     "output_type": "stream",
     "text": [
      "01666 ['55', '63']\n"
     ]
    },
    {
     "name": "stderr",
     "output_type": "stream",
     "text": [
      "\n",
      " 34%|███▍      | 157/462 [03:04<05:44,  1.13s/it]\u001b[A"
     ]
    },
    {
     "name": "stdout",
     "output_type": "stream",
     "text": [
      "01667 ['И:НЕСТЬЕВ', 'ЯВЕД', '*[', 'МЮЦ$']\n"
     ]
    },
    {
     "name": "stderr",
     "output_type": "stream",
     "text": [
      "\n",
      " 34%|███▍      | 158/462 [03:07<09:22,  1.85s/it]\u001b[A"
     ]
    },
    {
     "name": "stdout",
     "output_type": "stream",
     "text": [
      "01668 []\n"
     ]
    },
    {
     "name": "stderr",
     "output_type": "stream",
     "text": [
      "\n",
      " 34%|███▍      | 159/462 [03:08<06:58,  1.38s/it]\u001b[A"
     ]
    },
    {
     "name": "stdout",
     "output_type": "stream",
     "text": [
      "01669 []\n"
     ]
    },
    {
     "name": "stderr",
     "output_type": "stream",
     "text": [
      "\n",
      " 35%|███▍      | 160/462 [03:12<10:45,  2.14s/it]\u001b[A\n",
      " 35%|███▍      | 161/462 [03:12<07:40,  1.53s/it]\u001b[A"
     ]
    },
    {
     "name": "stdout",
     "output_type": "stream",
     "text": [
      "01670 ['Кллынт', '<я[с`[+', 'КУД л0271212']\n",
      "01671 []\n"
     ]
    },
    {
     "name": "stderr",
     "output_type": "stream",
     "text": [
      "\n",
      " 35%|███▌      | 162/462 [03:12<06:03,  1.21s/it]\u001b[A"
     ]
    },
    {
     "name": "stdout",
     "output_type": "stream",
     "text": [
      "01672 ['В Т С ₽ 0 !', 'Бсвсою:ны', '6 $ 53 д', 'СОВ ЕТс%#х', 'ПИбАТЕЛЕЙ', 'Сшснотрафихсккй', '0 # 7 & #', 'КП9486']\n"
     ]
    },
    {
     "name": "stderr",
     "output_type": "stream",
     "text": [
      "libpng warning: iCCP: known incorrect sRGB profile\n",
      "libpng warning: iCCP: known incorrect sRGB profile\n",
      "\n",
      " 35%|███▌      | 163/462 [03:16<09:55,  1.99s/it]\u001b[A"
     ]
    },
    {
     "name": "stdout",
     "output_type": "stream",
     "text": [
      "01673 []\n"
     ]
    },
    {
     "name": "stderr",
     "output_type": "stream",
     "text": [
      "\n",
      " 35%|███▌      | 164/462 [03:19<11:46,  2.37s/it]\u001b[A"
     ]
    },
    {
     "name": "stdout",
     "output_type": "stream",
     "text": [
      "01674 ['0 о хъ0с е ыи', 'О6 оъ джъ', '8885', '@2щ', '3э99/45']\n"
     ]
    },
    {
     "name": "stderr",
     "output_type": "stream",
     "text": [
      "\n",
      " 36%|███▌      | 165/462 [03:24<15:03,  3.04s/it]\u001b[A\n",
      " 36%|███▌      | 166/462 [03:24<10:41,  2.17s/it]\u001b[A"
     ]
    },
    {
     "name": "stdout",
     "output_type": "stream",
     "text": [
      "01675 ['74,2&', '{0с', \"ц '\", '3', '555', 'э0']\n",
      "01676 []\n"
     ]
    },
    {
     "name": "stderr",
     "output_type": "stream",
     "text": [
      "\n",
      " 36%|███▌      | 167/462 [03:25<08:32,  1.74s/it]\u001b[A"
     ]
    },
    {
     "name": "stdout",
     "output_type": "stream",
     "text": [
      "01677 []\n"
     ]
    },
    {
     "name": "stderr",
     "output_type": "stream",
     "text": [
      "\n",
      " 36%|███▋      | 168/462 [03:25<06:56,  1.42s/it]\u001b[A"
     ]
    },
    {
     "name": "stdout",
     "output_type": "stream",
     "text": [
      "01678 ['%[?', \"'\", 'клахояач_', '[пэ- 519']\n"
     ]
    },
    {
     "name": "stderr",
     "output_type": "stream",
     "text": [
      "\n",
      " 37%|███▋      | 169/462 [03:27<07:20,  1.50s/it]\u001b[A"
     ]
    },
    {
     "name": "stdout",
     "output_type": "stream",
     "text": [
      "01679 ['2', 'Нс47ч ( 4о?/ 2 4-&& 7 (', '@ &бс', 'Ныееивь5', '[{+2& 19', '\"с7стр)', 'ш24€& 4ч', '7с7.7 0425', '(-; $0', '\"рет\"ж5 ае-вт', \"'1944 :\", '%ъс+) 2%  Яо{', 'А -', '28295', '{е4еее', '154 !скы', '&тратьи#', '[49', 'С6 (+-ёбс с&', ';ефи +', '4ё /? 7с2 2 ,', '&идн{%:&  ', '~', 'сЧ; +', 'щ/))  ? &й', '2222-274222(74 У2€:6#', '[8Лъ ₽', '@_&_€& 0', '\"%1 ', '4 ( Ъсе &4', \"'4{ (&яфе+ч&\", '[ ё > &', '{  чы2', '#  ъ&', 'Ю1 е', '{7ъ7Ч с%0', \"98#ья ₽4 ] о?9' \", '&се', '(7 -&4', \"?2' ну 4~9{%?\", '7\"', '#у', '@-&6>', '27', '020', '\"4&е/ ?Ъ+с', '[^-', '[Ч ЖТ  ос е', 'фа', ';. 1 .', '24о сэ{044', '41', '627е(    >', '11ъ787ъсс444(э122 Х', \"324'7 \", '&%р', '67+2_24', '*;', \"'345 \", '60 сЯё 2 х ', '1₽', 'ък', '<  Я8?', 'илетеннт', 'С', '04444;24*,', 'у ЦёУЛн?', '0772', '{/2,297', 'И447', '[е3', 'Де2', 'Ч`', 'Чои', '1', '@с4', '3', 'Фю17', '{4 1 ,', '{%71 ,', '4 Ч [', '[@9с49', \"',292\"]\n"
     ]
    },
    {
     "name": "stderr",
     "output_type": "stream",
     "text": [
      "\n",
      " 37%|███▋      | 170/462 [03:29<07:28,  1.54s/it]\u001b[A"
     ]
    },
    {
     "name": "stdout",
     "output_type": "stream",
     "text": [
      "01680 ['[4~~ (о  €', '[9412529-1974239552-{8. /02', '25', 'сея', 'к( )чещ@ +ъефъ7 ', 'Тъ]', '&е', '8 &', 'сф@(:Я>', '~*&; И27', '\"582264],', 'ё5 < 7--', '6>2+.4', '4еен~', 'У#\"ср;_', 'ксе', '70', '\\'&\"@с &', 'Кее ,', 'Екца €', '1 61 22', \"@ък'\", 'Чоо', \"'5д27\", 'Хессд', 'Усо', '2 5-', '#са ~', \"'с\", '7949 2 [', '50', 'ён 8', '1}}т', '8(&лъи ?', '@', \"2Ат'\", '€у1? &3', '(сь4 -', '3', 'Съ ссец ', '[Л ', 'Ё05', '7с2р1 ', \"Л9бкж]'\", '[..2 % €40&810 Иъекей е:', '#@ <с 132сц4', \"'ПсфЯ- &\", '5.', '86 : Ч8жээ с_ ₽', '(ъ &4', '{5х3', '259', '74#', '0-%- {', '[2 +ы6 %лч -', 'И{)сё', '427', '788р4', 'Уужс 8', 'яяссж', '{84288', '\"27 %8; Ч\"р  \"с сод ^', 'Зсе €', '1291ч #0', '(+сс4 2& _', '74 2л7 6', 'с+ 7+{244', '7суу', '=9/-7ц', '\"тс   0 2', '/э т ₽', '2л%', '&4ъ ? ', '{ъя', '6е&++', '9&_[хи) &14с7*2   ₽', '+5++_', '2ш', '2 4 -сау', '67(\"@ € 0енос #', 'Шъ', '{\"<лъ2 4', 'ч/4722-1 \"', 'У чуа', '~2с6 @', 'сФгрчн', '1,74912', '\"7:', '7020)', \"'&4' :\", '9ъ', '(ж & .', '[< &хьдс', \"7'ищыу\", '~{чс {', '% 4 7 [', '#41+& ', '#4']\n"
     ]
    },
    {
     "name": "stderr",
     "output_type": "stream",
     "text": [
      "\n",
      " 37%|███▋      | 171/462 [03:29<05:45,  1.19s/it]\u001b[A"
     ]
    },
    {
     "name": "stdout",
     "output_type": "stream",
     "text": [
      "01681 ['ляксил', 'Ръл ъсЪй', 'НАША СИЛА']\n"
     ]
    },
    {
     "name": "stderr",
     "output_type": "stream",
     "text": [
      "\n",
      " 37%|███▋      | 172/462 [03:30<05:23,  1.11s/it]\u001b[A"
     ]
    },
    {
     "name": "stdout",
     "output_type": "stream",
     "text": [
      "01682 ['ЪХХХУ.', 'АНТ ИК В А ₽ Н А Я', '#Е-Ж::Я ТОР-ОВля', 'П ШИБАНОВА;', 'Ксмуисстоваа Ыан- Оти .6. Дрес.', 'П', 'Мооссаюо Цула-', '1', '05шге', 'Мссв', 'Пе:_', 'Ген; Анн}', 'шь ш =хъ:', 'но', 'ш', 'Геса', 'т', 'КАТАЛОГЪ', 'РУССКИГЪ', 'КШГЪ;', 'СТАРЫАЪ', 'ЕОВЬХЪ', 'ЗАНЪЧАТЕЛЬНЫХЪ', '=вдкихъ', 'Буква', 'Р_С', '#Ръч.', '€цборов:):', 'НОСКВА', 'ПЪЧАТНЯ', 'И+ СНЕГПРЕНОЙ', '1898']\n"
     ]
    },
    {
     "name": "stderr",
     "output_type": "stream",
     "text": [
      "\n",
      " 37%|███▋      | 173/462 [03:31<04:19,  1.11it/s]\u001b[A"
     ]
    },
    {
     "name": "stdout",
     "output_type": "stream",
     "text": [
      "01683 ['ОЪИЦЕРа', 'сэнажь ,~слвенка  пиаеся', '~ёзвес:ц;', 'чаазгн;', '41 9']\n"
     ]
    },
    {
     "name": "stderr",
     "output_type": "stream",
     "text": [
      "\n",
      " 38%|███▊      | 174/462 [03:31<03:32,  1.35it/s]\u001b[A"
     ]
    },
    {
     "name": "stdout",
     "output_type": "stream",
     "text": [
      "01684 []\n"
     ]
    },
    {
     "name": "stderr",
     "output_type": "stream",
     "text": [
      "\n",
      " 38%|███▊      | 175/462 [03:32<03:23,  1.41it/s]\u001b[A"
     ]
    },
    {
     "name": "stdout",
     "output_type": "stream",
     "text": [
      "01685 []\n"
     ]
    },
    {
     "name": "stderr",
     "output_type": "stream",
     "text": [
      "\n",
      " 38%|███▊      | 176/462 [03:33<04:48,  1.01s/it]\u001b[A"
     ]
    },
    {
     "name": "stdout",
     "output_type": "stream",
     "text": [
      "01686 ['ТПЛКАаИА}Ъ ЕН', 'Ро€ЕИЮ от НОнаГа ПАЕТНШНОГО РАБСТНА', 'ШАН', 'ТЕНИ5', 'БаЛЫЕПИНА', '[ЛА7а @чШа', '~НтКи', 'Иата:', 'ешан ~п11г', 'Буакос 4арел БСб', 'шраяч', 'м', 'м', 'ПЕТЕРБУРГСКОГО МОНАРХИЧЕСКОГО ЦЕНТРА', 'Наа Пеито', 'ПЦ & ИъатеасиУ', \"'ес-5мъки?\", '1', 'ссииътрарьгон', 'пгтиненд', 'паПазят', 'НА1НА ГАУНЕН =', 'Народка-етпадическен', 'Пненив', 'меч=внг', 'тпар Дат', 'шемдденна', 'мав#Пч €', 'пелнас', 'тпетнав', 'гаме понл генн [', 'ЕъеенЕ', 'нарецын', 'ып пнага', 'ГалЕВеванне', 'тыпНпптунча', 'Пе5тессБп', '5- €ып', 'меннарнх', '5 сплЕтНЬ', 'Белчн', 'Пслятитанев', 'Яв ЕТЕ ЯР', 'меанирг', 'Птлита', 'эпчэП^', \"'Рс-Еы=\", 'Двмаониа', '#ЕТуллунне ч', 'Тельнт', 'ПЕЭТН', 'Эсе:м,', '\"ПЕатив', 'нетапь', 'о7денонн', 'Ращянн', 'Удач', 'щавтунн', 'пАлнтсю', 'Гпмнеп', 'тудомцаму', 'г₽ььву', 'Бисы', 'па-ытячьеке м', 'чфа-.етпом', '~аеньстк', 'Бш+а -', 'иьз щу', 'петлор1чя', 'Бцгцан', 'ралньщээнэдзну', 'тэитсомагьчь', 'поддсленыя', 'инд', 'Нела ;', 'Зтдатипп', 'Еатяета', 'БЛнтъ', '~ктушт ^овла', 'Гесеиескит Иуп.р ^7', \"'7 Пеннств.г\", 'ХЕЕнш1н', '\"па-авмят', 'ЕецаЛя-', 'ваннаму', 'кгатнетнанными', 'Сузут гок', 'стрельнычн', 'Нипсамт', 'павиулчеь', 'пыпааанмс', 'ЕвЛена', 'Шсанов:', 'пвеиг', 'есп:', 'лтелъеиныуя', 'ПЕлятмнпетнин', 'ласлтЕствмаЧ;', 'чпПгг', 'П', 'чаетнаннь мч', 'Оргалкзяия Питп @УЕТитет', 'нгв ,', 'ГмгГопсасцячм', 'Еддыч+', 'Ныль', 'ив:н', 'галанар-', '5са', '711 +69%5', 'Ешов', 'нелммна']\n"
     ]
    },
    {
     "name": "stderr",
     "output_type": "stream",
     "text": [
      "\n",
      " 38%|███▊      | 177/462 [03:35<06:23,  1.35s/it]\u001b[A"
     ]
    },
    {
     "name": "stdout",
     "output_type": "stream",
     "text": [
      "01687 ['5', '6', '7', '8', '9', '10', '11', '12', 'Ъ', '0.', '6', '8', '9', '9']\n"
     ]
    },
    {
     "name": "stderr",
     "output_type": "stream",
     "text": [
      "\n",
      " 39%|███▊      | 178/462 [03:36<05:56,  1.26s/it]\u001b[A"
     ]
    },
    {
     "name": "stdout",
     "output_type": "stream",
     "text": [
      "01688 ['53с\"с 6эсос', '02', '[6']\n"
     ]
    },
    {
     "name": "stderr",
     "output_type": "stream",
     "text": [
      "\n",
      " 39%|███▊      | 179/462 [03:38<06:52,  1.46s/it]\u001b[A"
     ]
    },
    {
     "name": "stdout",
     "output_type": "stream",
     "text": [
      "01689 ['~ю@5сб # Э(ял', '2621', 'Москва,', 'августа', '1975', 'Г;', 'ПРОТОКОЛЬНЫЙЙ', 'ОТДЕЛ', 'МИНИСТЕРСТВО', 'МОРСКОГО', 'ФЛОТА', 'Ул .', 'Жданова,', '1/4', 'связи', 'телефонным', 'разговором', 'от', '5-го', 'августа;', 'мне', 'приятно', 'направить', 'Вам, с просъбой передать', 'его', 'заинте-', 'ресованному', 'лицУ ,', 'диплом', 'Ордена', '\"За', 'заслуги', 'перед', 'Италъян-', 'ской Республикой\"', 'присвоенного', 'капитану', 'А.В.Юокоратаеву', 'ПЕРВЫЙ', 'СЕКРЕТАРЬ', 'ПОСОЛЬСТВА', 'ИТАЛИИ', 'СССР', '<1 % ~~', 'Роберто', 'Тоскано']\n"
     ]
    },
    {
     "name": "stderr",
     "output_type": "stream",
     "text": [
      "\n",
      " 39%|███▉      | 180/462 [03:39<05:50,  1.24s/it]\u001b[A"
     ]
    },
    {
     "name": "stdout",
     "output_type": "stream",
     "text": [
      "01690 ['ПРОГРАММА  ПОПСКА', 'ТрУА', '2', 'Кчтнотел', 'АПсс', 'г,', '#ара:ни ,', 'Сптгл', 'ВПЕРЕДИ _БОЛЬШАЯ РАБОТА', 'пк кг€с', 'ЯшпАНар', \"'1\", 'Лучше готовить смену', 'Плюс наша', 'активность', 'Советов', '\"#ССтч', '{МШаШн', 'КПЕТЕП!', 'ШШю;', 'лндерах', ';: 4 # &#;', 'Заданне', 'цеха', '154', 'процента', '79,', '(рар', \"'ы;ен\", 'ГТЕР;ТГ1', 'Егн7', 'ПРа -пЕпДККНщы', 'ПРоГРАТЕн', 'ЕынатаДНЫ?', 'Подсобное', 'ХОЗяйство', 'города', 'яьнь', 'СВШАПАХ:', 'Ош1) лонтра', '{Бо1с1 =', ';с', '5грапгич', 'эм', 'Стране', 'ыш 1', ';т']\n"
     ]
    },
    {
     "name": "stderr",
     "output_type": "stream",
     "text": [
      "\n",
      " 39%|███▉      | 181/462 [03:39<04:35,  1.02it/s]\u001b[A"
     ]
    },
    {
     "name": "stdout",
     "output_type": "stream",
     "text": [
      "01691 []\n"
     ]
    },
    {
     "name": "stderr",
     "output_type": "stream",
     "text": [
      "\n",
      " 39%|███▉      | 182/462 [03:40<03:55,  1.19it/s]\u001b[A"
     ]
    },
    {
     "name": "stdout",
     "output_type": "stream",
     "text": [
      "01692 ['Л мчер', '1', \"ЙР'5 & . ^\", '7572-', 'о ч', 'ог', '4162', \"[ ['мж'\"]\n"
     ]
    },
    {
     "name": "stderr",
     "output_type": "stream",
     "text": [
      "\n",
      " 40%|███▉      | 183/462 [03:40<03:03,  1.52it/s]\u001b[A\n",
      " 40%|███▉      | 184/462 [03:41<03:49,  1.21it/s]\u001b[A"
     ]
    },
    {
     "name": "stdout",
     "output_type": "stream",
     "text": [
      "01694 ['КПмб3755', '15А-1782']\n"
     ]
    },
    {
     "name": "stderr",
     "output_type": "stream",
     "text": [
      "\n",
      " 40%|████      | 185/462 [03:43<05:07,  1.11s/it]\u001b[A"
     ]
    },
    {
     "name": "stdout",
     "output_type": "stream",
     "text": [
      "01695 ['6088888898889889989899', '&', '19/7', 'ДЪЛО', 'ДАРСКОСИЛЬЮАГО ДВОРДОВАМО', 'УПРАВЛШМЕЯ:', 'по', 'СтОЛУ', 'Натато', '191', 'ГОДа', 'Кончено', '191', 'ТПДя', 'Л]ОТлАЛ', '41 0495']\n"
     ]
    },
    {
     "name": "stderr",
     "output_type": "stream",
     "text": [
      "\n",
      " 40%|████      | 186/462 [03:44<04:06,  1.12it/s]\u001b[A"
     ]
    },
    {
     "name": "stdout",
     "output_type": "stream",
     "text": [
      "01697 ['1( (33', 'В:', 'ИВакчн', 'МЕЖАУ', 'АВУХ', 'ОКЕАнОВ', \"'н7 - 2\"]\n"
     ]
    },
    {
     "name": "stderr",
     "output_type": "stream",
     "text": [
      "\n"
     ]
    },
    {
     "name": "stdout",
     "output_type": "stream",
     "text": [
      "01698 ['СМЕРТЬ НЕМЕЦКИМ ОККУПАНТАМ!', 'П ₽ И М Е ₽', 'УМЕЛОГО ВЫПОЛНЕНИЯ', 'БОЕВОГО ЗАДА НИЯ', 'В', 'РАЗВЕДКЕ', 'Прнказ команднра', 'роты был краток', 'установнть', 'точнос', 'расположенне   вражеских ДЗОТов перед фронтом части:', 'Получив', 'боевую   задачу, опытный', 'разведчик Бабан', 'полз черсз болота', 'канавы', 'обогнув', 'протнвотанковые', 'рвы', 'надолбы; достиг', 'проволочных загражденнй', 'протнв', 'Ннка', 'Как  Фбычно', 'трусоватые', 'гнтлеропцы', 'нолью', 'освешалн', 'местность ракетани', 'трещалн   пуленетами']\n"
     ]
    },
    {
     "name": "stderr",
     "output_type": "stream",
     "text": [
      " 40%|████      | 187/462 [03:44<03:24,  1.35it/s]\u001b[A\n",
      " 41%|████      | 188/462 [03:45<03:37,  1.26it/s]\u001b[A"
     ]
    },
    {
     "name": "stdout",
     "output_type": "stream",
     "text": [
      "01699 ['(У']\n"
     ]
    },
    {
     "name": "stderr",
     "output_type": "stream",
     "text": [
      "\n",
      " 41%|████      | 189/462 [03:46<04:15,  1.07it/s]\u001b[A"
     ]
    },
    {
     "name": "stdout",
     "output_type": "stream",
     "text": [
      "01701 ['Жонфемохицо . 1896-1908', 'Схерхичо', '7844', '8', '8', '2', 'РОССИЯ', '250', '@$з`)а', '1993', 'РУБ:', 'ГКП-74513/183']\n"
     ]
    },
    {
     "name": "stderr",
     "output_type": "stream",
     "text": [
      "\n",
      " 41%|████      | 190/462 [03:49<06:35,  1.46s/it]\u001b[A"
     ]
    },
    {
     "name": "stdout",
     "output_type": "stream",
     "text": [
      "01702 ['3а74 ^']\n"
     ]
    },
    {
     "name": "stderr",
     "output_type": "stream",
     "text": [
      "\n",
      " 41%|████▏     | 191/462 [03:50<06:08,  1.36s/it]\u001b[A"
     ]
    },
    {
     "name": "stdout",
     "output_type": "stream",
     "text": [
      "01703 ['ТЮМЕНСКпЯ ПРЯВЯП', 'нд (ТРОИТЕЛЫГТВЕ', 'тюмшы', 'НЕФТЕпрОВОДА', 'ПОФПОЧПОЁ', 'Ы2 13', '5 ноября   1972', 'года', 'ШАГУ (ТРОЙКИ-КРЕПНУТЫ', 'насячл !9 ч', 'Онтчьав', 'несн', 'ТРуДатМ', 'еапечки;', 'пратденн', 'млагнлц .', 'чныитинанв', 'мгыл', 'паротн', 'радн-', \"'еегидекнг\", '2', 'аатд;', 'плага', '€наьып', 'сро5ана', 'ЗДОСЕач', 'ппып', 'маЕЛв', 'тампн', \"' вечтъ\", 'свчиога', \"чашсгонаГад'\", 'ШПрамншпеним', 'ЛРТАпрА', 'стР', 'Брчилн', 'БГТГвиптъ', 'апеиивам', 'нып', 'матыпымнг', '{ТРян}', 'прад', 'Евштоьл', 'абпСан', 'ТРАССОВИММ', 'РНПОРМУЮТ ОМТЯБРЮ', '3-Я, А-Я СТР', 'ВЫШЛО', 'КАК ЗАДУМАЛИ', 'Сш{л', '[о4:', 'ШЕптаты', 'шеси', 'ШЦест', 'Прчшлп', 'чияп', 'тая7', 'пПЕгып', '1г ш1', 'щглтнт', '4гппшпап', 'шПигя:', 'ып,Й', '\"яэпыи', 'Птппыг', 'гтролтелыога', \"'ептертчшкнын\", 'с7ат)', 'стлтябан', 'пмии;', 'шъыкаНЧЯа', '\"абпнц', 'Ет-н)нт', 'ЖанскГ', 'ТФРЧГАНТЛ', '\"тяинан', 'тппстан', 'БЛеПЖсъ', 'Мяоарыг', '7пнплег]ч', 'Ш:цкь', \"'тяи1\", 'Окпнчиниг', '(\"РоЭньком', '> с2ие', 'Гмобариши!']\n"
     ]
    },
    {
     "name": "stderr",
     "output_type": "stream",
     "text": [
      "\n",
      " 42%|████▏     | 192/462 [03:52<07:15,  1.61s/it]\u001b[A"
     ]
    },
    {
     "name": "stdout",
     "output_type": "stream",
     "text": [
      "01704 ['ТРАССОВКА', 'НЕФТЕПРОВОДА', 'Уъ-ашк', 'Участиок', 'Усэъ-Балъск', 'Юръжлым', 'на', 'ноября', 'тпаппжЕннаст', '~еа\"', 'Темтпм4т', 'сдалАна', 'адтисрч', 'еплдена', '\"трас;', 'отаа&но', '\"яту', '[внчк', 'снсии', 'Щнрчта трамшен', 'Занаапна', 'УПенемн', 'ДВЕ', 'яшы', 'ЮОРМЫ-', 'тиалига', '7гпп', 'паглты', 'ПентЛгн', 'келглю', 'Тлм]', '5типя', 'ПГ~50', 'Каръ.', 'емтлип', 'Еильлик', 'БЕТПЕ', 'прелоктн арьгку #ахту,', '1п9₽', '11111', '\"ьпг', \"'ЕаЦЫ\", 'матпа', 'Пры', 'ЕШнпл', '7ш', 'Д73П', 'НнАмакы', '7]г', 'ьп', 'Гп,яятеъаг', 'с,штн 1', 'Ч -нако0', 'Евавшыу-ла пуЕ', 'чаЕаЕ', 'эыгАПЕ', '1ы', \"Оригел . '\", 'Уруну', 'мнмчнане', 'Селтан', 'Чампаар', '(Евшшк', 'Сейчэг', 'съпащин &', 'Ецара нп', 'каимыш', 'окк\"', 'манна', 'эШлы', 'перед', 'ИММ ПОМОГаеТ ДВУХСМВНКО', 'экзаменом', 'Уллоно', 'трудице;', 'стронтельстас', 'пефелвренлчтт лощен', \"'танинн КомПЛенсна\", 'СРшАкн', 'СПаБТ', 'Юрил', 'Петрощнчс', 'тПарна1а', 'Это, колпа', 'тасъа', 'пвга', 'Еъцыгалн', 'Ктяброскне', 'соцобятштелычтпа', 'цырачотку', 'Нанного', 'ИЛЪна', 'Бр нгвцы', 'АБмтруа;', 'цеитон Нопмы', 'гэпнн', 'энтеланыл', '5деам', 'мипем', '270 рублсй', 'чатаъ', 'Дпнтеменнин', 'рзжнн', 'рабаты', 'Падпопяыт', '51п-гс', '{55 г=', 'попносцью', 'нстолъзашать', 'е6очет', 'црем7', 'штпишнншин', 'пнпуш', 'КОЕНш', '5751 ', 'ЛЭмЕНЪ', 'Ленин', 'ТЕЛЕФЕНН', 'Бетан', '4теун', '{=51-15', 'АДГЕГ:', '42336', 'Б54л', 'Бшук[п ₽ыгкыр', 'тиЕЛгКан', 'птал', 'тппетт', ' 5', 'ыпааи =', 'ш', 'адышш', 'з1&0 -', 'тя\"тю', 'гьг;']\n"
     ]
    },
    {
     "name": "stderr",
     "output_type": "stream",
     "text": [
      "\n",
      " 42%|████▏     | 193/462 [04:13<33:29,  7.47s/it]\u001b[A"
     ]
    },
    {
     "name": "stdout",
     "output_type": "stream",
     "text": [
      "01705 ['*С9', 'о44} анм}', 'ДА этравствуст 25-я годопщцнна Великоя Октябръ-', 'КРАСКИЯ', 'ской Социллистичсскоя Революцин}', 'ЗВЕЗАА', 'Да чрли<тлуст', 'Кесотиля', 'Коммуннстическая', 'пвртич', 'болъшеннкон,', 'парт им', 'Ленл нд _Стллияа =', 'ит съогуны €05о, сс#', 'органнлатор   борьбм', 'яп', 'побслу', 'шал', 'немецко-фашист=', 'скимн зпхватчнк имм]', 'ГОДОВЩИНа', 'Октябрьской Социалистической Революции', 'Осороны', 'ш', 'и;', 'В', 'СТАЛИНА', 'ита', '60н Ти7 дИИ \"ЦММ', 'сивяяур', 'Чсту', '\"ы 142 [0', '5аа; Ч кн;', ' ', '₽,р;', '1', 'Организаторская', 'рябота', '6', 'тылу.', 'Атяр', 'щагат 0', 'моест', '1', '1|', 'оат1ч', ')', '#,з5} вчат ;о', 'сче #', '76', 'иасейст,', '5а} =', '0а', 'гм;', '(', 'еч скос=л', '7а1 @', 'ла₽у', 'Агн', 'т 1', '1₽', 'ияент', '&тэать', '134', 'Род_', 'тагед', '116', '14', '1', 'рэкааа', '251', '191уы', 'Ортам #МВА\";', 'Тярслитка', 'тн ;', '5ге', '#отадгчл', '9', 'далдат', '1', '9', 'осаяш ₽', 'туаста', 'тАА ;гсаого', 'даса', '(_>ше', 'Иа', 'естсды4', 'то', 'дгрччунч', 'толь0', '2', 'араяатсд', 'а€', \"'сяг\", 'Арчкр', 'сру', '1€', 'Рсто стрнтелъстал', 'О,', '\"а `с1еа', '4уат421 ', 'ечгодоа', '(утечествевыод войем', 'пеш', 'совдои', 'тлатчидэмн, подза', 'терололаа', 'миролюбивук стрАну:', 'яшищ г', '2', 'Военные   деиствия', 'на', 'советско-немецком', 'фронте.', \"хсятс #мэтти чши' руконч\", 'тт\"€ч', '1 ', 'т1.', 'ом', 'дчрилась', 'анба', 'ортанизалать сегьезнч ', 'маступ сряс', '55 6', '7', '6Сроинтг аьчч', 'либч нзпраллевин', 'аацьа', 'ло', 'ачук', 'Тллочум цель', 'пр  ллат ,тм', '1', 'чмистгам 1', 'ттет', '\"уяиэс', 'осету4о-исчсивоч фртн1 ₽', '\"еч Френтс? Ес#сежзч', 'стгтз', 'стут явт', 'П ₽ И К А 3', \"'1\", \"'1па\", 'перАа', 'А01ь по оть ачщач', 'тГанед', 'огеччушсстну', '741и;', 'тем', 'янсаля', 'неуспчоя', 'ппмнин', \"'г\", '0', ';ланкач', 'батуи', '1', 'тсов', 'Атяау', '~пеп', 'шиыд', 'рнвонва', 'влступлелна сестрала', 'эматач', 'Народного', 'Комиссара', 'Обороны', '2', '2', ',ерел', 'ип', 'п!ру0', 'Кзму', 'М; фэмтч', 'т4Те', 'тАл', 'Феиис', 'шрп€', 'яму', 'аяос', 'пртдатапмевие', 'Фтт |с', '7', 'какбря 1942 &', 'чу', 'чскча', ' -о', \"'и\", 'кзочгтрэр', 'т1', 'ппплаимение', 'яг чает', 'стерену чзртяич; га4сд,', 'терчад', 'ССе₽', '7р 4,етга чс цячс0', '1', 'явтлтетъаса 1с 3ъ', 'Тезстма', ',', 'г', '1', '(ЕБГртлер', 'яп', 'ратют', 'л', 'УДарлетпореню', 'пэмд', 'яог', 'П0', 'ъ', '65л г', \"'п€\", 'пен', '6', 'тачон', '206,', 'Точ1', '4 ₽,', '1;съл', '1', '2', 'фЕаит', 'ован', '\"о#тднчорог\"', '\"гмепив 0', 'иастуняенма', 'Ока', 'Сечаа', '1', ' ', 'Крчшл', 'Армнч \"ыпоашт', 'гебс пуюэ', 'тжссты япп -', '4', '1е', 'Фбатм', '&слу', 'вта', 'огГелать', '6 ₽', 'аамеданг', '|и', '1 1', \"'[  к6]\", '~рмини', 'с', 'спьбщиикоп', 'яиам', 'мапрапасимн', '€Цн&', '1чо', 'прашаи', 'мегнын', 'тилъс4ог о тла', 'лотам', \"'ъгъ\", \"'\", 'Масаву ', 'МОтцер', \"'и\", \"Ппр'5\", '[т₽', 'Ташмск', 'изша ', 'епиг', '~шз', 'ил', 'е', 'ст~гъу', '#е 5епч;', 'м', 'яшгин', 'мии}', 'уйтиеннс пге; свобо\";', \"'16\", 'щмслэ', 'Ламогате тьичч]', 'незумэ', 'Гетъв `', '1', 'мари', 'мпм', 'Еон', 'мам', 'А#р Краснпи', 'теу-нва', 'перъ', 'пернола', '\"5р', '001140', 'ттн€', 'кептунах', 'Гананац смво', 'пчспвс  Мие+', 'тточнаг0 лисиог ошч;', '71ае 3', 'Расит Армии', 'Мйоне', 'нмрнашмх', '1пм', 'ре', '\"срмов', 'и*', 'валсч', 'ил', '#Ин; л', 'лперк', 'ммтовитъ', '1а', 'но', '6155444,', \"'5\", 'иним', 'тр400', 'тр1', 'чтоян', 'г', 'ас', '1&', 'хпны', 'ритать', 'прасские', 'тмиеян;', \"'7п а\", ';ченлтельнн', 'Тиви', 'ри уларт на Жоскву', 'т,ч сгсттчка', '4€', 'оборилл', 'ши', 'м', 'шорбонл', 'наши', 'п7', 'Крсизр', 'Тмнч', 'пт0', 'тнч', 'начром', '1', 'ермчсевис', \"'тм\", 'Мпзвим', '2егааую', '[ам', 'спотап', 'тыпе₽ь', 'иы', \"6'г;\", \"Глче 'г,\", '11', '161', 'Сеш;твптля ', 'Леишнтралл', 'Отлима', 'ааченаа', 'тииоки', 'Недаона', 'гузи', '0|', '14 )1', \"вбр н беЗлавс;нон 'Маброс ти,\", '61541 5', 'отвртм', 'тм', 'нтгут', 'кътфишеп', '1ера#~€э', 'Тенитс ', 'т0Шкч ти', 'еииллосе', 'лать', 'По', 'а1еви', '0', 'итдмеи0и', '#нн', '\"рт', 'тхБутмчсана', 'п1', 'Чеа', 'тортч', 'чиингтся', 'ися   Илш, Крсила Армич   Праг', 'тачити', 'ичэш', 'пыи', 'еил', 'пон^', 'срам', 'н;', '9110', 'ш6', 'напел', \"'464\", '\"шкуре', 'сносабиость', 'Крсиои', '4', '4оторме', '#рм', '#е', 'чт', 'немин', 'мгрр 1туъ', '<ыт', 'Арыни', 'еыш[тн4:', \"'ю\", '?', 'днст', 'сму', 'сокруя', '449', 'снч', 'Армин', '10икач', 'т €', 'таямыам4с', 'Велзвом', '0а', 'льнчт', 'нарои Крлсном Армми', 'Нелмч', 'тоие', '40', 'авгста', 'немгчс', '11ч', '1', \"'е\", 'момст бать', 'бомиенин', 'ч1н иечсинис 5азлатчмки', 'чтиъи1', '4', 'мун', '40', '{~4я₽', 'Км |', 'Д', '(рь', '1ы6', 'Будут', 'брогитьси', 'ппаые', '5л норн', \"'Но\", 'силч', '(41.', 'пеьпэяр', '~ук', 'Браг', 'чточен', '~арем', 'Бл', '~рш', 'Т', '4оууент', '6 тъ4', 'агэс₽', \"'з3,\", 'ва;чал5а', '1', '6 ', '#холятя', 'пределе', '4ипннс', '10', '0', 'п ', 'теу', '1', '1 +', '#тим', 'трясиая', 'Армчч', 'вчпс м', 'ролстыша', 'аиусь;', 'ло2с4з.', 'яыи6рир \"руисских', 'стлт', 'оттутилм', '4е', 'Инел', '1ч ', 'готое Ломч', 'оу', '', '2го1; Крикаа', '29', 'Бит4е', 'офинс[л,', \"'сп нь\", 'шчса', '0', 'Осъна', '1а', 'и ~', 'тевтава€', 'ъ) >', 'ш?св ъ', '5и: ч', '1', 'йрссивн', 'арнп', '[ахб49ягинач', 'Пумммлам', 'псиг Па', '6', 'сУис', 'ч_', 'М;ЛЬЯвилим ,', 'мтич', '(11 =', 'Онлтлтельно', 'сиы,', 'Асаиччи', \"'5\", \"'17\", '6)>', 'чо', '[усга', 'к/', 'ат ₽уъ :', 'Мася 1 у ;', '1', '€лабсс,', 'Асточ', 'сиыю', '1', 'тол4', '1', 'ииатн', 'тзинви', 'ти', 'Гаерис  М}рзамсат', 'Чез', '1', 'татве_ыг', 'Товдришм', 'Ояа ', \"'о\", 'дт', '~1', '5врвгыг э', 'Рочт', '~п', '4ем  ', 'Ск', 'и ', 'Тия 91', 'кикя', 'партимнр сипарчеяин', 'чэилирм', 'толмтрабате', '4ар', '70', 'хи', '\"стей', '2', 'страза', 'трти энци]', 'м|160', 'Фвулиэ', 'шин', 'оббае7 ', '0т', '4нето', 'упорствч', \"'то5ке€ 19 ,\", \"'1\", 'оонечк', '6ан', 'пета', 'ора;', 'Гтсуэу', 'Тлч', 'ков', '~=кш', \"'1\", 'Руз', 'е', 'чоии 1', 'Боинского', 'яеыпса', 'аттат ч', 'н', '~1', 'дРу *\"тъ', 'ма\"', 'а73', ' ь', 'Аи5оя', 'тотанитя', 'тполннн', 'ско', 'Долг пспе1 Ро:', '9а 2', '6ст', 'гнрч', 'печен4о фшмстской', 'армим', 'агнчнт, чм)', 'О1омн', '0ншенне', 'солстекан', ')|', 'це5, т61', '56100', '6амб П }У,', '1', 'нмцч Асаатвах ц', 'Сазте', 'ячеч :сь', 'са', 'тач', '91 гитлервскшч', 'пдватчи:', 'осизу', '5н', 'Ачсту', 'Шеха< ашъ', '#еко', 'Аат', 'Ам', 'отутстане', 'етссог0', 'ки ножь', 'и', 'ыие7 ,', '\"лечм', '1', 'гапят', 'гта', 'м', '|', 'А 9', '5', '66', 'СкУЮ} эЕ мЛЮ', 'ДоЛЖны очистить СОНЕТ\"', '2', 'Аруль ₽', 'тус', 'Этри5', 'аъш !а', '7д', '}', '₽а', 'ша уата', '01', 'ГИТЛ€ РОЕСКОЙ #ЕЧИСтИ;', '4 1', '10&', '1 ', 'ше Соям (', '4', 'о1от,', 'кгобкоимо:', '574а', '|', 'Но', '1м', '15:', 'Ба+ А 7', 'стоиа0', \"'ла\", 'Пзтнч ', '1', 'ивк ', \"'\", '5юь', 'язотлдчутэ ,', 'усзрко обаропятк', 'амнию) млшсго @гол', 'окуетза \"', 'трча', 'шъаы', 'сс кнм', '5,', '(', 'г;', 'Черып', 'тз,', 'а 11ь', 'болке врту пролошлть# гтср л} #ссмн', 'сатам', 'шг', 'м', ',', '1 .)', \"Э1,947 'Л) \", 'синчн', '#пизать', 'пратл: итр буть с1 Аипую силу;', 'Ч ₽9', 'П1', '5т', 'я 3ва', '*гтиья', 'унчтаж1 ъ с0 тхмчку;', 'ираз', 'итаннъ', '1в', '4л', '01)', 'аеарзсмал', 'игъ', 'отрскам5', '2[', 'шт9т', 'Утсл', 'Млкам', '.', 'ЖААЫ}л+ скорил ккрсплятъ жсастиую амсц\"плниу; стро', '1ы', 'раястч', 'ниса 1а540', '.', '1м', 'страду', 'шБрм', 'Брэ; ст;', 'порядс;', 'сдиноллявлие', 'мсл лрмин', 'сп', '61', 'Тъъна', 'зитич', 'Етатиу', '(т', 'Енв', '#о', '21', 'м', 'х1', 'серчел-тябтль', 'Сквую', 'пчучку', 'вонад', 'тото6итъ', '162', '(тивя рсм', 'тандаа', 'тъ тссят?', 'Ф1рча', 'шстоаеико готовить', '€бкрушнтельимм', 'Скба-ны 7', 'Шаям;', 'парн', \"'6в>\", 'ст', '6э 1', '211', 'Те0', 'га то\"у:', 'Зл4р', 'селъ', ';атъа', 'аауиав', 'ХГтан-т  ₽', '2 ,', 'ялръ', 'са', '6&', 'Сол', '#₽5', 'ъста ;', '150', 'игп', 'та', 'чвтн', '5', 'Дик сл', '1', 'сои', 'Г|т5', 'пмми ;сЫродисго пртичнского   ая', 'ы', 'Т4о ч', '1г1м', 'Батрчая5 ) тав', '91', 'мутуа', '|', '\"еъау', 'тропт:', 'И14ч1', '5ъ', 'З3се', 'теятл', 'тылу', 'адаг   рэтрунчть', 'ог', '051,', 'окуцал Чтчга', 'сноетъетза₽', 'дзтэу', '15а', '6', '67', \"'\", '5с,', 'грае', 'истрседть кечсцко ФАшистсАнх', 'ка Седис', 'тнч', '1ш>', '6рбч', 'чтит суд:4, Созст=', 'мсрмакиев', 'лзигм', 'Ад|гаттлеауаш1', \"'о7о\", 'тухягти  <юобаъ;', '61', 'нисть', 'ш)тч', 'Товаришка', 'Раи9 2', 'Крэг', 'п;с рспыт; бАнхам сизу Улрэн Кмно', '#, савстсана', 'гг1', '45т34} ШДСП411 Цгры', 'Арчим', 'по1', 'Рестодон', 'ги', 'Мосд дай', 'по4', 'Титвалам', 'фронте', 'в', 'Европе;', 'мич вчшаш', '*га', '7е', '\"есксгольея', 'соас ', 'Нелтлев', 'Ты1де>', 'цаг1а', 'хт псъ с1', \"пич' у\", 'Вопрос', '0', 'втором', 'Виноя к гм', '##съ', 'Кент1', 'илкъ Суротол', 'Гоъ Кмскам Армы\"', 'КуАст', 'п 1', 'лше', 'Уице пяан1;', 'пготср', 'ияз', '619', 'кчнм', '425', 'Оти', 'мтлр7чти я', 'к~  мыча См', \"са , еруясуя секстскст₽ <'р)а  Р;счятм\", \"гчеш'\", '2ъ@ |', '7ч1а ,тан', \"41 висм 'Гаа1'\", 'н', 'ныггстнъ', 'Гм советсхсто', 'т;тт 1', 'Этрэвс7ауст', '2} таловшняа', 'Пуладон', 'ОАтябрэ =', '0@', '7а а 5А=', 'укъ сабтатъ', '~а с ₽ #Пач', ' 41а5т', 'по1ы', 'Ссциа ля<', '16', \"скон} (онмалнстичсккай   Рсзолиион'\", 'е4ар7#* татем;', '3', 'Фолыногеви', 'Потиъ', '510 д1', 'Анэаты', 'з,т<эн', 'стгэз', \"'Руае\", 'пГучц', 'Ла цравтуст', 'ткл', ',', 'пмн9?', 'Ер щ;', 'атутманать', 'сряч Ге-7т  6е ТоСулАГ{ува', 'д6к', 'к5гб', 'Дэ', 'Арыгаяус', 'тар', 'Пасано #~ъа \"лот\\'', 'таац', 'пня', '4л', 'тгциш; с ,', 'ачоолябо', 'Гиш', '47н', '5е-пумнвх тъ', 'Рбъчц', 'Агстнянт .', 'ирьт9уа1 \"ъ', 'макус тптнытч', 'тр7е ', '<пъп', 'ИИТсляЕ\"Днд щшся стрэны; # ъ', 'ти 1 хиа', '(иготь', \"мемецка #ы4пАя#   чээтэнчач'\", 'Та4ан', 'НАРОДНЫИ КОМИССАР окогоны 4 СТАЛНН:', 'Сш', 'Сэегч', 'Нааи', 'теа', '17', 'Великон', 'Прсдседатспч', '4 л', 'Государстпемного', 'Комитета', 'топарииа', '9т', '1,', 'ш', ')', 'тобшт', 'Руа5', 'Готеро', 'алря', '(10}']\n"
     ]
    },
    {
     "name": "stderr",
     "output_type": "stream",
     "text": [
      "\n",
      " 42%|████▏     | 194/462 [04:14<23:54,  5.35s/it]\u001b[A"
     ]
    },
    {
     "name": "stdout",
     "output_type": "stream",
     "text": [
      "01706 []\n"
     ]
    },
    {
     "name": "stderr",
     "output_type": "stream",
     "text": [
      "\n",
      " 42%|████▏     | 195/462 [04:14<17:43,  3.98s/it]\u001b[A"
     ]
    },
    {
     "name": "stdout",
     "output_type": "stream",
     "text": [
      "01707 ['ШЛАЖАТ', 'ХУДОЖЕСТВЕННАя', '[ЕШФУКЩШЯ', 'НОЯБрь', '9 3 4', 'Б ЮЛ Л ЕТЕн 5', 'кРитикоБиьлногрАФичгского', 'инатитутА']\n"
     ]
    },
    {
     "name": "stderr",
     "output_type": "stream",
     "text": [
      "\n",
      " 42%|████▏     | 196/462 [04:15<13:32,  3.06s/it]\u001b[A"
     ]
    },
    {
     "name": "stdout",
     "output_type": "stream",
     "text": [
      "01708 ['Цена 80', 'ноп', 'В СЕМ', 'БНБЛИОТЕКАМ;', 'ПОЛИТПРОСВЕТОРГАНИЗАЦИЯМ;', 'УЧРЕХАГНИЯМ', 'ИНАИВИДУАЛЬНЫМ] ПОДПИСЧИКАМ;', 'ИЗДАТЕЛЬЕТВОМ', 'КРИТНКО-БИБЛНОГРАФНЧЕСКЫГО МНСТИТУТА', 'ОТКРЫТА ПОДПИСКА', 'ЮрИТИЮО-', 'бШЛЮЮГРЮВСЮИВ ЮЗДЮШЮ', 'на 1935', '1935', 'НТДЕнин', 'ПЬа}Птана', '12 Час', '1ы', 'ирмитр', 'Бодшепистсытн', 'Окылм шгПВЕМЧЕ', 'шнгт', '1П0', 'Тохлпческад', '4ите', 'ННетНТУТа', 'плтушд', 'Судут', 'пытып', ' Худомсстигипад', 'гаштур', 'тамослоптелынЫН', 'Емгжатм', 'Мадлишл', 'фллкудьтура', 'Детска', 'птердтура', \"'а 0 пцч\", 'Сиъакотаа-гтшт', 'ЫИСТОН', '7еатъ', 'пааподичнаСЬК', 'нас9.', 'Аытерастя\"', 'шлукааата', 'СССНс-', '[ПРЕЕЕОЫТМ', 'Уптбил', 'птлагагппь', 'Епчиналъныд', 'дитерттура', 'Плаеол', \"!6;1'\", 'пепродукиия', 'Нпостаадлд', 'кпшта', 'Пптпнснае', 'итъм ппьнш', 'тад = 114 Пуб .', 'Буа;', 'ЛУб', 'Пдатпавты', 'ДЫСыЛ:тс', 'КП.ОМ}', 'ПОДПИСКА', 'ПРИННМАЕТСЯ:', '#_ьтеьчос', 'Нцалута', 'Моцла', 'шчнад', 'тен@ш', '9-я+€', 'да #гед', 'отдеапшПА', 'ТПЕШию', 'КоГНЗ', 'Пын', 'Вьносцами', 'Упазиама', \"'ПППча\", \"'ш\", 'Ндституа', '[СРк\"', '40634,', '[МЗГ']\n"
     ]
    },
    {
     "name": "stderr",
     "output_type": "stream",
     "text": [
      "\n",
      " 43%|████▎     | 197/462 [04:16<10:33,  2.39s/it]\u001b[A"
     ]
    },
    {
     "name": "stdout",
     "output_type": "stream",
     "text": [
      "01709 ['15)']\n"
     ]
    },
    {
     "name": "stderr",
     "output_type": "stream",
     "text": [
      "\n",
      " 43%|████▎     | 198/462 [04:17<08:16,  1.88s/it]\u001b[A"
     ]
    },
    {
     "name": "stdout",
     "output_type": "stream",
     "text": [
      "01710 ['&:19', '1-! 0КТЯ БРЯ', 'ЖШ(Ы^П} ДЯ ХПЛЯЕХЪ', 'Тнпып']\n"
     ]
    },
    {
     "name": "stderr",
     "output_type": "stream",
     "text": [
      "\n",
      " 43%|████▎     | 199/462 [04:17<06:30,  1.49s/it]\u001b[A"
     ]
    },
    {
     "name": "stdout",
     "output_type": "stream",
     "text": [
      "01711 [\"[выЙ #Ы.Ъ КУ-аМЪ ВЫ[ЫЧКЪ , ЛТМЧША ДЛЯ ХОЗЯнь'\", '', 'ВЫТЯЖНА сшых', 'КАЛЕНИЧЕНКО:', 'ХППаЦ]п', \"ПДЪвАтъяЯ'\", 'Ущаме-', 'щоснопдкл', 'Шоп', 'АМланд', 'ф: Г ₽ Е ф Е', 'АВЛНД', 'РУКШШУДЫЧП', '#ГЛЙКЪ# ШТЫ] |ГЧЕТ.Ъ', 'ЖУРШАЛА', 'ХО;ЯЕк %', '\"5г+ &а', 'ан 7', \"'91 6' ,€\", 'Е;  та &']\n"
     ]
    },
    {
     "name": "stderr",
     "output_type": "stream",
     "text": [
      "\n",
      " 43%|████▎     | 200/462 [04:19<06:16,  1.44s/it]\u001b[A"
     ]
    },
    {
     "name": "stdout",
     "output_type": "stream",
     "text": [
      "01712 ['нздДЧв', 'ЖУРНЯПЪ для ХПЗЯЕКЪ', 'Т1а [', '19/4-', 'ныпн', 'эрл', ',т', 'нн', 'Г}|', 'ЭПалр', '#5и5уцяшъ', 'дглл', '#е;', 'Жнпнщный  вопросъ', 'пригородные поселкн:', 'Аъплышад =']\n"
     ]
    },
    {
     "name": "stderr",
     "output_type": "stream",
     "text": [
      "\n",
      " 44%|████▎     | 201/462 [04:20<05:41,  1.31s/it]\u001b[A"
     ]
    },
    {
     "name": "stdout",
     "output_type": "stream",
     "text": [
      "01713 ['и71гти44']\n"
     ]
    },
    {
     "name": "stderr",
     "output_type": "stream",
     "text": [
      "\n",
      " 44%|████▎     | 202/462 [04:21<05:26,  1.26s/it]\u001b[A\n",
      " 44%|████▍     | 204/462 [04:22<03:33,  1.21it/s]\u001b[A"
     ]
    },
    {
     "name": "stdout",
     "output_type": "stream",
     "text": [
      "01716 []\n"
     ]
    },
    {
     "name": "stderr",
     "output_type": "stream",
     "text": [
      "\n",
      " 44%|████▍     | 205/462 [04:22<03:25,  1.25it/s]\u001b[A"
     ]
    },
    {
     "name": "stdout",
     "output_type": "stream",
     "text": [
      "01717 [\"102, 84 &' ! ,\", 'с.5:', \"'}' ` ; ,47\", \"' {\", '7,ещ?4* ;', '94 ;  ; ']\n"
     ]
    },
    {
     "name": "stderr",
     "output_type": "stream",
     "text": [
      "\n",
      " 45%|████▍     | 206/462 [04:23<03:02,  1.40it/s]\u001b[A"
     ]
    },
    {
     "name": "stdout",
     "output_type": "stream",
     "text": [
      "01718 ['4635 /2,48']\n"
     ]
    },
    {
     "name": "stderr",
     "output_type": "stream",
     "text": [
      "\n",
      " 45%|████▍     | 207/462 [04:24<03:26,  1.24it/s]\u001b[A"
     ]
    },
    {
     "name": "stdout",
     "output_type": "stream",
     "text": [
      "01719 [\"'@(\", '@Б`']\n"
     ]
    },
    {
     "name": "stderr",
     "output_type": "stream",
     "text": [
      "\n",
      " 45%|████▌     | 208/462 [04:25<03:40,  1.15it/s]\u001b[A\n",
      " 45%|████▌     | 209/462 [04:25<02:46,  1.52it/s]\u001b[A"
     ]
    },
    {
     "name": "stdout",
     "output_type": "stream",
     "text": [
      "01720 ['[ [4', 'шпг ШоП', 'Пппшяы]гтнтыпш', 'Ж~`\"', \"'\", '4 -', \"'\", 'Ус `', '0Р', '159', 'Р+4', 'ппЦ', '~ ` ` `', \"~ `, '. ' <, <\", '<', \"'\"]\n",
      "01721 ['Ллклай Киакб(_', 'И3 5 ₽ А НН ) Е']\n"
     ]
    },
    {
     "name": "stderr",
     "output_type": "stream",
     "text": [
      "\n",
      " 45%|████▌     | 210/462 [04:26<03:22,  1.25it/s]\u001b[A"
     ]
    },
    {
     "name": "stdout",
     "output_type": "stream",
     "text": [
      "01722 ['Д1о ы  @', '7Ч,д €+?', '€лл ~', '\"/ 90ъ с х Ы&', '-435414', '7елэо с) ~ес   6 л&', 'З', '(и4з[Фс~ жс |@т₽', '[ж\"не .', '?ощ29 %об{', '\"', \"'Хуме илн\", '53', \"'Л* соЯ44\"]\n"
     ]
    },
    {
     "name": "stderr",
     "output_type": "stream",
     "text": [
      "\n",
      " 46%|████▌     | 211/462 [04:27<03:25,  1.22it/s]\u001b[A"
     ]
    },
    {
     "name": "stdout",
     "output_type": "stream",
     "text": [
      "01723 ['3/ 49644', '{оэлелыи', 'Илжсж+р  756/)1ьее-_', '[ллс', '~це<', '2 0+44 ец&', '7/4 ,', '&', 'Э1/1 5 {исие ка #+44:', '&10 44ч<', '\"а 04/4', '/у*у`', '{ж пъ-ич&? ? 6 ~Ч', '602 Иоэх ~', 'Ку€ # 7', 'Ф  Янс #ео& ,', '2 0 | (е~€ ?24?', '[-и+о |э & &', '~_', '022 6`', 'о ёрэоЯ', '0а. 0', '\"Тр(ети', '&и', '{(чя(Рем 0котъ44', 'Жоокож аа > Ю де', '7ыиёи {', 'Ужж', '@Я7; ) Зхчо2', '716', '2  мъ 0', '38', '0 # , ?оеко и', 'Ы4с%', '72ло[ъс) &ег', '08 с€', '@иа [с]  *с  ото', '[ссенс .', \"'9 ₽оФЖ\", 'Чл@*с  Ж+ {ой [ухенАух;', 'Фиу4-+Ч', \"'с6+4ж03\", '#6 6', '90 оъос ло-', '(@ €']\n"
     ]
    },
    {
     "name": "stderr",
     "output_type": "stream",
     "text": [
      "\n",
      " 46%|████▌     | 212/462 [04:28<03:32,  1.18it/s]\u001b[A"
     ]
    },
    {
     "name": "stdout",
     "output_type": "stream",
     "text": [
      "01724 ['5', '6 ..', '\"', 'ГМИ СПб']\n"
     ]
    },
    {
     "name": "stderr",
     "output_type": "stream",
     "text": [
      "\n",
      " 46%|████▌     | 213/462 [04:30<04:29,  1.08s/it]\u001b[A"
     ]
    },
    {
     "name": "stdout",
     "output_type": "stream",
     "text": [
      "01725 []\n"
     ]
    },
    {
     "name": "stderr",
     "output_type": "stream",
     "text": [
      "libpng warning: iCCP: known incorrect sRGB profile\n",
      "libpng warning: iCCP: known incorrect sRGB profile\n",
      "\n",
      " 46%|████▋     | 214/462 [04:31<04:43,  1.14s/it]\u001b[A"
     ]
    },
    {
     "name": "stdout",
     "output_type": "stream",
     "text": [
      "01726 ['Эфшзонз', '', '']\n"
     ]
    },
    {
     "name": "stderr",
     "output_type": "stream",
     "text": [
      "libpng warning: iCCP: known incorrect sRGB profile\n",
      "libpng warning: iCCP: known incorrect sRGB profile\n",
      "\n",
      " 47%|████▋     | 215/462 [04:32<04:43,  1.15s/it]\u001b[A"
     ]
    },
    {
     "name": "stdout",
     "output_type": "stream",
     "text": [
      "01727 []\n"
     ]
    },
    {
     "name": "stderr",
     "output_type": "stream",
     "text": [
      "\n",
      " 47%|████▋     | 216/462 [04:32<03:46,  1.09it/s]\u001b[A"
     ]
    },
    {
     "name": "stdout",
     "output_type": "stream",
     "text": [
      "01729 []\n"
     ]
    },
    {
     "name": "stderr",
     "output_type": "stream",
     "text": [
      "\n",
      " 47%|████▋     | 217/462 [04:33<03:54,  1.04it/s]\u001b[A"
     ]
    },
    {
     "name": "stdout",
     "output_type": "stream",
     "text": [
      "01730 ['~']\n"
     ]
    },
    {
     "name": "stderr",
     "output_type": "stream",
     "text": [
      "\n",
      " 47%|████▋     | 218/462 [04:34<02:53,  1.41it/s]\u001b[A"
     ]
    },
    {
     "name": "stdout",
     "output_type": "stream",
     "text": [
      "01731 []\n"
     ]
    },
    {
     "name": "stderr",
     "output_type": "stream",
     "text": [
      "\n",
      " 47%|████▋     | 219/462 [04:35<04:08,  1.02s/it]\u001b[A"
     ]
    },
    {
     "name": "stdout",
     "output_type": "stream",
     "text": [
      "01732 ['\"#ся_.т', '\": @', 'ка 930', '\"щ (ч_', '{Циько', 'Ры-Ямэ', '[.й л', 'чснх', '4 /,9экэ%', '#/ л&_', '0 У0-(12 4', 'Ус', '{Е. } #4 34 У4м', \"'Уащни . ~(л/&\", '/1 .ьи9 8 &е4', '41   {74 2Ч', '07', '72', 'Ъи', '4, (4 !( €', '%4% ', 'Држ4', '4 €41', '%', 'Пи(', 'Э+эзэ  Аи+', 'И[:', '4', '4к {', '{', '40 #ь', '70 74', '/', 'Ю72 0', 'юг', 'Иж', '[,с+} Чря\"', '2406', '2(', 'пи ', '[ <', '4/ Чт 5 0?(с', '2( 9', '84,4<', '2/8мни и', 'Им', '{']\n"
     ]
    },
    {
     "name": "stderr",
     "output_type": "stream",
     "text": [
      "libpng warning: iCCP: known incorrect sRGB profile\n",
      "libpng warning: iCCP: known incorrect sRGB profile\n",
      "\n",
      " 48%|████▊     | 220/462 [04:37<04:44,  1.18s/it]\u001b[A"
     ]
    },
    {
     "name": "stdout",
     "output_type": "stream",
     "text": [
      "01733 []\n",
      "01734 []\n"
     ]
    },
    {
     "name": "stderr",
     "output_type": "stream",
     "text": [
      "\n",
      " 48%|████▊     | 222/462 [04:37<02:45,  1.45it/s]\u001b[A"
     ]
    },
    {
     "name": "stdout",
     "output_type": "stream",
     "text": [
      "01735 []\n"
     ]
    },
    {
     "name": "stderr",
     "output_type": "stream",
     "text": [
      "\n",
      " 48%|████▊     | 223/462 [04:37<02:22,  1.68it/s]\u001b[A"
     ]
    },
    {
     "name": "stdout",
     "output_type": "stream",
     "text": [
      "01736 []\n"
     ]
    },
    {
     "name": "stderr",
     "output_type": "stream",
     "text": [
      "\n",
      " 48%|████▊     | 224/462 [04:38<01:52,  2.12it/s]\u001b[A"
     ]
    },
    {
     "name": "stdout",
     "output_type": "stream",
     "text": [
      "01737 []\n"
     ]
    },
    {
     "name": "stderr",
     "output_type": "stream",
     "text": [
      "\n",
      " 49%|████▊     | 225/462 [04:38<02:00,  1.97it/s]\u001b[A"
     ]
    },
    {
     "name": "stdout",
     "output_type": "stream",
     "text": [
      "01738 []\n"
     ]
    },
    {
     "name": "stderr",
     "output_type": "stream",
     "text": [
      "\n",
      " 49%|████▉     | 226/462 [04:39<01:51,  2.12it/s]\u001b[A"
     ]
    },
    {
     "name": "stdout",
     "output_type": "stream",
     "text": [
      "01739 []\n"
     ]
    },
    {
     "name": "stderr",
     "output_type": "stream",
     "text": [
      "\n",
      " 49%|████▉     | 227/462 [04:39<01:38,  2.39it/s]\u001b[A"
     ]
    },
    {
     "name": "stdout",
     "output_type": "stream",
     "text": [
      "01740 []\n"
     ]
    },
    {
     "name": "stderr",
     "output_type": "stream",
     "text": [
      "\n",
      " 49%|████▉     | 228/462 [04:40<02:41,  1.45it/s]\u001b[A"
     ]
    },
    {
     "name": "stdout",
     "output_type": "stream",
     "text": [
      "01741 []\n"
     ]
    },
    {
     "name": "stderr",
     "output_type": "stream",
     "text": [
      "\n",
      " 50%|████▉     | 229/462 [04:42<03:32,  1.10it/s]\u001b[A"
     ]
    },
    {
     "name": "stdout",
     "output_type": "stream",
     "text": [
      "01742 ['% ч']\n"
     ]
    },
    {
     "name": "stderr",
     "output_type": "stream",
     "text": [
      "\n",
      " 50%|████▉     | 230/462 [04:44<04:50,  1.25s/it]\u001b[A"
     ]
    },
    {
     "name": "stdout",
     "output_type": "stream",
     "text": [
      "01743 ['5 ссс', 'Киба', '@2о&  6& _', '&4', '2ер62ъ2,', '74', '22@€ровбс еъ', '2Ъе', '#', '@етфоёое2', 'Коми', ')Е,;ря*щеее', \"'(оз;ра/яю'\", '22е', 'Нидеке', 'ПИДМН', 'СНН', '#4[', ']1', '640022', '{;ее#', '#ж21е ', '622', '@/9ж _ €>', 'Пншнтё нндекс', 'ЦЕЕДПрняТн\"', 'САяЭ}', 'мегта', 'Нязнячанчя', '#ере]ере ', 'Укарее', '|$& .']\n"
     ]
    },
    {
     "name": "stderr",
     "output_type": "stream",
     "text": [
      "\n",
      " 50%|█████     | 231/462 [04:45<04:37,  1.20s/it]\u001b[A"
     ]
    },
    {
     "name": "stdout",
     "output_type": "stream",
     "text": [
      "01744 []\n"
     ]
    },
    {
     "name": "stderr",
     "output_type": "stream",
     "text": [
      "\n",
      " 50%|█████     | 232/462 [05:06<27:42,  7.23s/it]\u001b[A"
     ]
    },
    {
     "name": "stdout",
     "output_type": "stream",
     "text": [
      "01745 ['61', '~', '4}', 'ДЪлОМЪ,', '1ЛЪ', 'ВЪ   СлЪД,', 'Ж)', 'ВЛТСКА', 'ВъДОМОВТИ', 'КЭО4П', '\"; 1\\' 1 ) \\' ;', \"'';\", \"[4 ; ;, ) ',\", '{ЭТТЯ', 'Б', '3-го', '{1Й1}2 !', 'Ж017', \";' ;:{;'; 1'{1\", '+\\'\",Ш;{ Т\\'\\'ЕЧ1\\'', '{1 ;1', \"'';\", 'Ч', \"4;; ;!' ,\", \" ' ;,1х.5й';\", ')ДИЧНОВ', 'ЫЪ', '\"Т %{4; ЙЁ32Е9\\'464', '151', \"''Я0\", 'ГУБЕРНСКЕЯ', '\";,?1 \\'', \"''.\", \"1;)5,' ; } ;\", \"';` '1  )+ { !\", 'печепЁя', \";; ;;';\", 'Л04', '\"Д', '0', '\"1#', \";'21'\", 'ПО', '[2 36', \"'';' { '\", 'ВЫХЩЯТЪ Ш (ЮДАМЪ М (Мб@ЮТМЪ;', \"{',;1ч'\", '1878', '110 Л Я 4', 'ЦИХЪ', 'ВЪ', 'трънёя', 'Б,', 'ПОДП#СНАЯ ЦЪНХ:', 'КА51,а', 'Т67', 'МъсяцЕсЛОВЪ ', \"1';' ;,'`\", 'За', 'дрипочатав1о', 'объявловёй', 'въ', 'нооффицёальной', '1 ', 'И', 'Л0', \"{1 ' ; <дЧ\", ';; ; ; ,', 'части губордскихъ въдомостей', 'а', 'пО', \"' 5,4.;;'\", 'На годъ', 'На', 'полгода', '1-г0 ёюля; суббота', 'За', 'каждую строку одипъ разъ', 'КОП ', '~два раза 11к.,~три раза', '8дсъдатель', 'СГОДН', 'На лучш.', 'На', 'пр.', 'На', 'лучш', 'Па \"р', 'Св; Космн', 'Дамбана.', '1', \"1;ч,';,'!\", '15', 'если же объявлен1е печатастся болъс трехъ разъ; то за каж-', '10)', \"';{\", '2-го ёюля, воскресснье', \"';',;' ;\", 'дую строку', 'посль третьяго раза плата берстся по', 'Ж;', 'С0 строкя', 'ГГ.', '72. 20 к.', '6', '65 &. 3 р. 15 к.', 'За припсчатанос объянленёй за одну', 'чстверть', 'столбца ,', 'соотвът', 'Съ', 'Полохенёе ризы Пресв  Богородицы во Влахерпъ:', \"3 {'; ';\", \"',1''{ ;\", 'ствующаго 24', 'строкалъ обыкповсннаго', 'шрифта: за', 'разъ', 'руб.', 'ОПНЯТь', '6 р.', '=', '5 р: _ 3 р.', '2 р. 50 к', '3-го ёюля; попедольникъ', ' \"]1', '50', 'кО1а', 'за 2 раза 2 2. 34 1:,', 'за', 'раза', 'Р. 24 коп , 3а под-', 'ВЪ', 'Везъ', 'ПОДШИСКХ ПРИНИМАЕТСЯ:', 'акипоа. Перен.', 'МОщЩ:', 'Св', 'Филяппа; митр  Моск:', 'столбца; соотвЬтствующаго', '48', 'строкамъ:', '3а', 'фразъ', \"'цэлый;\", '2', '50', \"'', } ;1\", 'за', 'раза', 'р', '26', 'за 3', 'раза 5', 'р', '40', 'за', 'столбецъ;', 'бранёя; иыы', 'правленёи и полицейскихъ', '4г0 ёюля', 'вторпикъ', '7\\';,};;; },, \\'}\"', 'соотвЬтствующёй', '96 строкачъ: за', 'разъ 4 р:', '25 коп,_за 2', 'раза', ',\";€', 'бШ', 'Въ', 'тубернскомъ', 'управленёяхъ.', 'Св: Андрея Критскаго: Прав:   Марон', '2:', '44 к,,', 'за 3 раза', 'руб: 60 коп', ';4  ;', \"'', 6}\", '\"ош,с', \"[4); 3 ' '] ЛХ'1Н\", '{40', '654', 'Га₽', \"'' `,} ;\", 'части Д(', 'СОДЕРЖАНГЕ:  Часть', 'оффпцёальная,', 'отдалъ', 'первый:', 'Внсо', 'Отъ 22', 'Ыая', '1878', 'Г:', '8', \"Ж 52:!' ,' {; ; ,'\", 'ТОНЪ', 'Антоновичъ План- |тетъ', 'Имъетъ домъ;', 'ОЦЪЯВН-', 'утвержденное положепёе', 'добровольномъ', 'лорсколъ', 'ополче-', '9', '1 Е #', 'чйшУказн Правительствующаго Сената', 'Продажа   лмЪпЁй.', 'Въ', 'коллежскёе', 'ассесоры', 'титулярные', 'СОВЪТНИКИ:', 'СОЛЪ,', '53 лЪтъ.', '[вый', 'Въ 3450', 'р', 'ЛАП', 'Я2', 'Объяваенёж: ', 'Отд| лъ нторой: ПеремБны', 'П1 0', 'службь', 'И,Ошнк0.ъ', 'слотритель', 'ЦеХОВЪ', 'вОТкИНсКаГО', 'зОВОДа', 'Цавелъ', 'Да', 'Надворный', 'СОВЪТНИКЪ', 'Въ уъздномъ училищъ; Имъ-', 'Объявленое благодарности; Торги; Продажа лмънЁйм ЧАсть', 'нсОФФН-', 'Телегралмн', 'Иностранныя', 'нзвАстёя;', 'Мъстный', 'отдЪлъ', 'пиловъ', 'СЪ', '19 ёюпя;', 'И', 'секретарь', 'зкзекуторъ', 'Михаилъ @едоровичъ Мы-етъ', 'ДОШЪ;', 'оцЪненный', 'ВЪ', 'тъ', 'ГЛаВНОЙ', 'контОры', 'КаМСковОткинскихъ  заводовъ  Николай', 'ШКИНЪ; 5 4', 'лЪТЪ', '[3025', 'р:ч', '#и]э1 ;', '0', 'Мамушинъ;', 'СЪ', '5 ёюля', '1877', 'Г:', 'Въ', 'КОллеЖ-', 'Вятскёй', '2 гильдои ку', 'Домашнее: ИчБетъ дома; оцъ:', 'ЧАСТВ @@ФИЦВАЛЬШАЯ:', 'ск10', 'сскретари', 'сОтрителЬ', 'ыеталловъ ВОТкинСКаго', 'ЗаВО', 'ПеЦЪ', '@едоръ Яковлевичъ неплые', 'ВЪ', '7200', '2', 'И14 ', '4 `', \"';\", 'да; губерискёй', 'секретарь   Михаилъ', 'Шарламовъ;', 'Гусевъ; 80 лътъ.', 'прибыли', 'ПЕРВЫЙ:', '<!\\'!\\',\"\\'\\'\";', 'СЪ', '10 октября 1877', 'Г', 'ВЪ', 'губернское', 'секретари', 'КОЛ:', 'Вятскёй', '2 гильди ку:', 'Домашнее', 'Илъетъ  дошъ', 'И', \"'51'' ; '\", 'ОТДЪЛЪ', \"''1;1,': ! ',;' ;\", 'лежское регистраторы:', 'СТОЛОНачальНикъ', 'главной контОрЫ', 'пецъ Афавасёй Прокопье: лавьи,', 'оцЪненные', 'ВЪ', '4500', '1 )', 'Я7оП{ тэмо%', 'ЛОЛОЖЕНЮЕ', '0', 'ДОБРОВОЛЬНОМЪ', 'МОРСКОМЪ', 'камсковоткиЕСКИхЪ заводовъ Викторъ ПДамушишъ', 'ВИЧЪ', 'Важенинъ; 67 л. руб', \"' `\", '; 3;', 'СЪ', '5 шарта 1877', 'Га,', 'И   падзиратоль', 'камска/о', 'заВОДа', 'Вятскёй', '2 гильдои ку-', 'Домашнее', 'Иыъетъ  доша', 'Ц', '; , 3;5де5  а', 'ОПОЛЧЕНМИ:', \"'. ;;д\", 'Михаилъ Рошановъ;', 'сЪ', '26 явваря', '1878 года.', 'пеЦъ', 'Андрей', 'Акимовичъ лавки,', 'оцЪлснные', 'ВЪ', '4075', '112301', '(ВнсочАйшЕ утверждено 3О-го мая 1878 года:)', 'Въ', 'коллежское', 'регистраторы', 'испраВляЮщай', 'ДОЛЖНОСТЬ', 'Хлъбниковъ; 54 лътъ руб:', '19', '1', 'Добровольнов', 'шорское ополчевёе', 'учреждается', 'СЪ', 'бухгалтера', 'калскаго', 'завода   Иванъ', 'рхиповъ;', 'СЪ', 'Мъщанинъ', 'АфанасЁй', 'Донашнее. Иметъ лома, оцъ-', 'дЪлёю', 'дъйствующаго', 'ВОРННаГО', 'флота,', '#а   вре', '26 апръля 1877', 'ГОДа;', \"' '; ';,\", 'НиконовичъМатанцевъ, пепяый', 'ВЪ', '8775', \"';1 :,;  \", '.. ;', 'НЯ', 'воевныхъ дъйствЁй, судами,', 'кочавдираши И', 'КОЛанда-', 'Й5}', '340401', '\"{,;7\\'{; 7\"~', \"' ' !;*:\", '50', 'лЪтъ:', 'л 409 )', '4;{', '{!', 'ЦВ', 'ОНЕХЪ.', '40Ч', \"'ч': , '':;; ,\", 'списокъ', \"';',,,';);!\", 'Вятскай', '2 гильдёи ку-', 'Домашнее', 'Имъетъ дома', 'Д', '2', 'Въ', 'сОсТаВЪ', 'добровольваго шорскаго ополчевЁя пОС-', 'пецъ едоръ Михайловичъ лавки, оцъненные', 'ВЪ', '6550', 'ПО СОбсТВенной', 'охОТЪ', 'лИЦа', 'ВСЯКаГО', 'звавя,', 'лицъ', 'имъющихъ', 'право', 'быть', 'избранными', 'Клячинъ, 67 #ЪТЪ.', 'руб:', \"; ,';: } :\", \"': ;; ' ;{;\", 'ЗДО?ОТО ЛФЛООООТВеНЯС', 'на пижеслъдующихъ основавЁяхь', 'въ', 'мировые', 'судьи', 'на', 'четвортое', 'трехлът1е', 'Иъщанинъ Ивадъ Яко-', 'Домашпее', 'Ишьетъ', '940 д', 'ЗДОр0ВЯо', 'Желающёе   вступять въ добровольное шорское', 'ОПОЛ-', 'по', 'Вятскому', 'уъзду', 'ВЛеВИЧЪ', 'Калининъ, 49 зеили', 'И', 'ДВЪ', 'ШеЛЬНИЦЫ,', 'ЧВН1В   ЗаЯВЛЯЮТЪ', 'ТОМЪ', 'Морскому Мивистерству', '7$; `', '1ЫТЪ,', \"','ж ; ; ''  ' ,1] ` ' ; '\", 'УЛАЯЕЗ', \"{'; ,,1'; ,;4; ;{\", '4', 'По Явкъ', 'охотНИКа', 'ИЛИ', 'ОХОТНПКОВЪ', 'ВЪ', 'цЪлошъ', 'Чивъ', 'или зван1е, ИМЯ ,', 'Тдъ', 'получили образовав1е', 'И', '71405\"', 'С~', '~5', '~ [', \"; ';:;;;'' { к;;\", '50052', '6 2', '@ОСТаВЪ судовой', 'КОНаНдЫ,', 'ОНИ поступаютъ', 'ВЪ', 'распоря -', 'ОТЧеСТВО,', 'фашилоя', 'И', 'КаКИШЪ', 'владЪютъ', 'имущест', '1; ;; `;,;', '6}ёт', \"{'' ;й\", '62248 57', 'шорскаго', 'въдошства.', ',; ;;;', 'лЪта. 31', 'ВСННЫЖЪ', 'цензошъ: !40', \"',;;;\", '\\'1 3 \";', \"''';!;;';я} , : ''1' ';} :\", '0', 'Сулохозяева', 'ИЛИ', 'обцества', 'желающе', 'отдать', 'СВОВ', 'Управлевёе ВЯТСКИМИ', 'КазВННЫМИ', 'ЗаВОДаМИ', 'СПШЪ', '19}', 'СУДНО', 'на   усилен1е', 'воепваго флота,', 'ЗаЯВЛЯЮТЪ', 'сеШЪ', 'ОбЪЯВлЯетъ,', 'ЧТО', 'зъ  ковторъ Песковскаго', 'казеннаго 3а -', '3112 43', 'Морскому Мивистерству,', 'сЪ', 'изложевёемъ   условЁй свопхЪ', 'Почешые', 'лровъе', 'ВОДа ,', 'на 15', 'Фля', 'сеъо ?0Ч( ,', 'дазна чены', 'рЪшительпыс', 'Ла', 'таковую', 'передачу', 'С  ъц: }', \"3',;'';';,;\", \":;}' ;'\", 'торги на поставку въ ПесковскЁй заводъ въ зиму 1878/9 Г', '59136 14', '6. Въ случаъ призвавая  шорскимъ', 'въдоыствОшъ', 'Коммерцои', 'СОВЪТНИКЪ', 'Въ уъздночъ', 'Ишъютъ до-', 'лъсу строоваго', 'разныхъ разлъровъ', 'пОрОдЪэ', 'всего', ' ;:: ; ;', 'ЛОСТИ судва', 'КЪ', 'отправленёю', 'И', 'сОгласёЯ', 'СеГО', 'Яковъ Алексъевичъ Пр0 училищъ.', 'Ша', 'И', 'лаВКИ;', '5344', 'дер.', 'Лица, желающ1е', 'взять па себя поставку лъ-', 'Ивнистерства', 'да   УСЛОВАЯ,', 'предложенныя', 'судохозяиночъ', 'з0роВЪ, 64', 'лЪТъ.', 'Въ московскочъ', 'оцЪнеННЫВ', 'СЯ ,', 'должНЫ', 'ЯВИТЬСЯ', 'ВЪ', 'ковтору', 'Цесковскаго', 'казеннаго', 'ШЛЦ', 'обществошъ', 'сулао', 'причислястся', 'КЪ', 'составу', 'ВОЗН-', 'Сынъ', 'еГО', 'Алексъй]', 'кошшерчсскошъ', 'ВЪ', '82,375', 'завОДа,  СЪ', 'падлежащиши залОгаши', 'И ПИСЬЯСПНЫМИ', 'ВИДа -', 'ваГО флота.', 'Яковлевичъ Прозоровъ; училищъ', 'руб:', 'своешъ звапёи; ГДЪ', 'ИШЪ', 'будутъ', 'предъявлены КОП-', 'Встулавшёс', 'ВЪ', 'добровольное', '\"Орское', 'ОПОЛЧен1В', '40 лътъ:', ';\"} \\'', \"'';; ;\", \"{' ,;'';' ,'\", 'двцёи, ДО ТОрГОВЪ', 'отаосЯЩАЯСЯ ,', 'ЧТО', 'участвовавшёе', '#О-', \"',,;; :\", 'ЗаЧЕСЛЯЮТСЯ ,', 'СО', 'ДЯЯ', 'ЯВКИ', 'ИХЪ,', 'ВЪ', 'дЬйствительную', 'Вятскёй', '2 гильдои ку', 'Въ уъзднолъ училищъ: Ижъ-', 'гутъ   подавать', 'и присылать', 'ло почтъ запечатаннын объ', '1,  ,:; ; !', 'службу', 'в0 флотъ: Срокъ', 'полагается', 'ДО', 'ОКОНЧа-', 'пецъ Василай Степановичъетъ   доша', 'лаВкИ, оцЪНВННЫВ', 'явлевЁя,', 'согласво 1935', 'сТ, Х', 'Т.', 'Ч. ИЗД, 1857', 'Г:', ' ., ;', '6', 'ЛАЯ', 'венныхЪ дъйствЁй,', 'И', '3а', 'СИЛЪ', 'НИКТО', 'ИЗЪ', 'добро- | (унцовъ; 45', 'лЪТЪ.', 'ВЪ', '11,823', 'р;', \"{';5\", 'д0 12', 'Ч.', 'ДНЯ,', 'пОслЪ', 'чего никакихъ объявлепой прини-', \" ' ;}'. '}%\", 'ВОЛЬННХЪ', 'опОченЦеВЪ', 'не удерживается', 'а', 'службъ', 'Вятскёй', 'гильдЁи ку-', 'Домашнее.', 'Имущественнато', 'МЯТЬСЯ', 'Не', 'будетъ.', 'будетъ', 'продолжаться', '{ДО', ',;; .', '8', 'Добровольнымъ', 'ополченцашъ; призпаннымъ способ-', 'пеЦЪ', 'Петръ   Федоровичъ зенза', 'НО', 'ИШЪеТЪ:', \"',,,;,;л1\", '2', 'Ч:', 'ПО', 'полуДни.', '2', \"8' :% );,я{)8т;\", '<[]}олис', ' \\' 1\"', 'ШНЫИ КЪ', 'морской службъ;', 'предоставляются', 'ЧИНЫ', '3а', 'Савинцовъ; 49', 'ЛЪТъ', \"44'4;)\", 'ё11 }', \"''1;' ', ;';\", \"; ';;''Ж'\", '01', '%\\' :\\' , : { ;1;; ,;\"?)', '6', 'урЯдъ: комавдирамъ', 'капитавъ-лейтенанта,', 'ИХЪ', '[О-', 'СтатскЁй совътпикъ -о-', 'Въ казанскомъ увиверситетъ', 'ё ', 'МроДажа имънЁй', '\"ТОРМГЭК', \"'ЗДа ,\", 'Левинской', 'В0', 'ЛОЩВИКаМЪ -', 'лейтенанта', 'а', 'Иваповичъ', 'Михай Имъетъ   домъ;', 'ОЦЪНВННЫЙ', 'ВЪ', 'форова Скурихи-', '9.', 'Капятанъ-лейтенантамъ', '3а', 'урЯдъ', 'И лейтенантамъ', 'ЛОВЪ, 52', 'лЪТЪ.', '[3075', 'р:', \"''{,]\", 'ПРАВЛЕНЕ', 'общественнаго', 'Веретепникова', 'нная', 'ЖНОЮ', 'ДОВЪре6*', '32', 'урЯдъ', 'И', 'судовой  команд}', 'ИЗЪ', 'добрОвольныхъ', 'ОПОД-', 'Вятскёй', '2', 'ГИЛьДЁИ ку', 'Домашнее', 'Иыъетъ', 'ДОМЪ', 'банка,', 'ВЪ', 'Г', 'Вяткъ,', 'объявлястъ', 'ЧТО пО', 'постановленёю', 'занской', '[1', 'ЧеНЦеВЪ', 'ВСе   время службы', 'ИХЪ', 'подъ военнымъ флагомъ', 'пеЦЪ', 'Михаилъ', 'Яковле-оцъненный', 'ВЪ', '4325', 'р;', 'правленёя   банка ,', 'состоявшешуся', '1 9', '1ЮНЯ', 'сеГО гоДа', 'ВЪ', 'ву', 'На', 'ведепоб ВСЪхъ', 'ЗаЧИСЛЯеТСЯ', 'ВЪ', 'дъйствительную', 'ВОЗНН}Ю', 'службу,', 'при', 'ВИЧЪ', 'Поскребышевъ;', \"'*;. ,\", '910|', \"'};;.\", 'ё:[;;', 'присутствёи', 'ОЛаТО', 'будетъ', 'продаваться, 10', 'сеъ0', 'ОЮЛЯ,', 'дЪла', 'ВЗЫ', 'ЧеМЪ', 'ВЪ ОТНОШСНАИ', 'наградъ', 'ОНИ', 'пользуются', 'КОВЫ-', '49', 'ЛЪТЪ .', \"',;\", '\"\\'; \\';ч`', 'бз3ъ   переторжки,', 'заложенлый', 'СлОбОДскою', 'купеческою', 'КоЙ', 'ВОЛОСТИ', 'Анисила', 'ШИ', 'правами', 'сЪ', 'ЧИНаШи', 'ПОСТОЯННаГО', 'ВОеННаго', 'флота', 'Вятскёй', '2', 'гильцёи ку-', 'Въ', 'ВЯТСКОЙ', 'гилпазёи.', 'Имъ-', 'ЖОНОЮ', 'Евдокёею', 'Григорьевою', 'КОШУРНИКОВОЮ', 'Л', 'цена', '3_2', '10 ,', 'Вс* лица добровольпаго', 'шорскаго опОлченя ШОД-', 'лецъ Андрей Гершановичъ етъ', 'ДОМЪ', 'И', 'лавку,   оЦЪЕ.', 'ВЪ', 'певыкупленный', 'ВЪ', 'срокъ', '50', 'билетъ', '1 : внутренаяго', 'ЧШНЯЮТСЯ', 'ВЪ', 'СВОИХЪ', 'дъйстваяхъ', 'шорскому', 'уставу', 'И', 'АрбузОвъ;', '63', 'лЪТЪ ,', '[3625', \"р: }' ;: ;\", 'СЪ', 'выигрышами', '3а', 'уЙша К 10', 'серёя  12458', 'безъ', '24', 'Ивановы Ушковы;', '\";\\', ;\\'', '7ё Н;]', 'купоновъ', 'Поче\"у', 'желающёе', 'торговаться', 'приглашаются', 'ИЗВЪСТИТЬ', 'вСЪлъ   узаковеноямъ; до Службн', '#а', 'судахъ', 'ВОСНЛаГО', 'Уц(с<жовь е', 'лэробъс', 'ГЪ', 'честь', 'флота', '1Ъ', 'присутствёе', 'банка въ пазначенный для трга День', '1', '?000', 'ВЪ', 'Г', 'Елабугъ', 'отпосЯЩИМСЯ', '( Оъ:', 'тоВа]', '11.', 'Въ случаъ', 'ранъ', 'ИЛИ', 'ЧЪЯ ,', 'ОХОТЛНКИ', 'добро-', 'Коллежскёй', 'ассесоръ', 'Въ казапскомъ увиверситетъ', \"1 ,';},,;';'{' ,\", \"'.,;,\", \"ё';ч]\", ' ;,;,; :;1\"', 'Б', 'полнаго', 'анасай', 'И Ва', 'ВОЛьНаГО опОЛЧевЁя пользуются', 'призрвпемъ', 'И', 'преишу', 'ВладимЁръ', 'Петровичъ Имуществопааго', 'цепЗа н6 имъ', \";';; `, ,1,'}'{\", '(бъявленая:', '11; , `}', ' . ;}', ' :;;', '{1е', 'Управ-', 'ЩеСТВАМИ', 'На', 'равнъ', 'сЪ', 'военло-служащими:', 'Аленицынъ; 37 лътъ етъ .', '06', '#упцы', 'ВЪ', '2 . Распоражевая объ', 'испОлнепЁи', 'ластоящаго', 'пОЛО-', 'СтатскЁй совътникъ Ни-', 'Въ казапскомъ университетъ.', 'ВЯТСКОЕ отдъленёе  государственнаго банка', \"'Ъ\", 'намъ  ОбОИМЪ', 'сишъ объявляетъ; чТО вслъдствЁе', 'состОяВша-', 'ЖеШёЯ И', 'преподане,', 'на ОСНОВаНИ', 'ОНагО', 'подробныхъ', 'пра -', 'колаЙ', 'Осиповичъ', 'Ши-', 'Илъетъ', 'ДОМЪ,', 'оцЫлонНЫЙ', 'ВЪ', 'ВлЪ объ   уСтрОйствъ', 'И', 'добрОвОльнаго', 'морскаго', 'манскЁй; 55', 'ЛЪТЪ .', '4850', '2:', 'гося распоряженёя; въ отдъленёи', 'с% 1-ГО', 'Ёю-', 'отъ', 'огня', 'Това-', 'ФШдчеНЁЯ;', 'ВОЗЛаТаЮтся', 'На', 'Морское  Министерство_', 'КоллежскЁй', 'ассссоръ', 'Въ', 'сарапульсколъ   уъздномъ', 'ля сеГО года будетъ открытъ пр1ежъ', 'ДОНОЖ', '2', 'Васолай', 'Селе', 'Алексапдръ', 'Аптипьевичъ училищъ', 'Илъетъ', 'ДОМЪ, ОЦЪ-', 'НЫхъ пожертвованЁй въ пользу', 'кошитета', 'ПО', 'ВЪ', 'Г.', 'Вяткъ;', 'ВЪ', 'Указомъ Правительствующаго', 'Сепата,', '1О', 'Департа-', 'ПЪЯнковЪ; 44', 'ЛЪТъ.', 'пенпый въ 3025', '2:', 'тстройству добровольнаго флота,', 'состояЩаГО', '0', 'свъдЪнёя публики;', 'герольдои, ОТъ 2', 'ЛаЯ', 'сеГО', 'Г', '3а ', '1409,', 'произ', 'ГубернскЁй', 'секрстарь', 'Въ', 'ВЯТСКОЙ', 'луховной', 'СЗМИ-', 'подъ Августсйшимъ Предсъдательствомъ ЕГО', 'ринимастъ', 'Па', '3а', 'выслугу лЪтъ,', 'ВЪ', 'коллсжскоВ', 'сскрстари', 'СВК-', 'ВасилЁй', 'ИвапОвичъ', '3а', 'нар1и.', 'Ижъетъ', 'Доша ,', 'ОЦЪНОН-', 'ИМПЕРАТОРСКАГО ВЫСОЧЕСТВА', 'ГОСУДАРЯ', 'ЗИЖИМЫЯ', 'ретарь съЪзда шировыхъ судей', 'яранскаго округа Миха', 'харовъ, 36', 'ЛЪТЪ.', 'НыС', 'ВЪ', '3225', '2:', 'НАСЛЪДНИКА', 'ЦЕСАРЕВИЧА', 'И', 'ЧТО ВЪ пр18', 'щест ва', 'ВЪ', 'ВВЪрев-', '32', 'ЛЪ', 'Лебедевъ;', 'СЪ', '21 августа', '1674', 'ГОДа.', 'Но', 'осно`( 2', '%', '27', '#ъ', 'денегъ жертвователямъ будутъ  выдавать-', ')ВаТЬСЯ', 'КО', 'Указолъ', 'ся установленныя квитанцЁи. ) ГЭЦОЛ1л', '26', 'Цравительствующаго', 'Сената', 'ПрОИзВеДены;', '~<. 9чр: С О: >С?', '84', 'выслугу', '1О', 'КамсковОТКИНскиМЪ', 'заВОДаМъ', 'Дъйствительый', 'сТаТ', 'Въ', 'казанскомъ упиверситетъ', 'Директоръ  ВЯТСКОЙ гимназёи', 'СИМЪ', 'ОбЪявлЯеТЪ', \"'ся\", 'И', 'Отъ 22', '1878', '% 1020:', 'скЁй', 'СОВЪТНИКЪ', 'Павелъ Ишъетъ', 'ВЪ', 'общешъ', 'владъпёи', 'чТО   прёешные', 'ЭКЗаМВНЫ', 'будутъ', 'ПрОизВОдиться', 'Ъ', '9', 'ПО', 'КНИЖЦОЙ', 'Въ', 'шарта', 'Г:', '38', 'Шестаковъ съ', 'сестрОЮ', 'ДОМЪ', 'ВЪ 6050 р', '12', 'ЧИСЛО', 'августа', '#Ъсяца', 'Прошеная', 'представляются', 'Пролом-', 'коллежское   СОВЪтНИКИ,   первый', 'ЧЛОНЪ', 'ГЛаВНОЙ', 'Андреевичъ', 'Казань,', '60 лътъ', 'сЖеДЛОВНО', 'На', 'ИМЯ', 'дпректора', 'ВЪ', 'канцелярёю', 'гишпазёц', 'иги', 'И', '(0', 'надВорНЫЙ', 'совЪтникъ Дшитрёй Ивуковъ;', 'Статскай совътпикъ Ан-|', 'Въ харьковскоМЪ', 'универси-', 'СЪ', 'приложоноемъ', 'СВИДЪтелЬСТВЪ', 'возрастъ', 'И', 'вВаёи', 'ДЕШЕВО:', '(ТарШИНСТВОМЪ', 'СЪ', '24 октября 1877', 'ГОДа.', '0Т', '};\"', '?}1', 'ТипограФЁи', 'КП', '10835/45', 'который', 'ИМЪ', 'ленке', 'противъ', '~~ ({я', '3', \"24,7' \", 'ёюля', 'яо', 'общее', 'чаб', 'собрн', 'раненыхн', 'Вятскому', '(УБВОТА;', \"МЪСТшМ'\", 'вдВнЁи', 'отчета', 'отчета', 'обзора ', '1 е', 'мая', 'упраВле}', 'р. 20:', '3 р ', 'ЧлеНовЪ', 'ДОСТаВКОЮ', 'ОбЩеМн', 'ДОСТаВКИ', 'участёВ', 'членовъ;', 'Мч:', 'ПОЖаЛОВП', 'Л\"', 'ЮЩеВ', '(1 ]', 'Торги:', 'ЛЬПА Я:', 'Объявленёя:', 'ЗЕМЕЛЬНАГО', 'БАНН', 'годъ:', \"': М;\", 'руб:', 'усилсНЁЯ', 'Торги;', 'жеП1В', 'ТОД', 'службы', 'МИ', 'службн', 'Торгъ', 'Осдора', 'судебной', 'СКаНЕВ', 'ОдИНа)', 'увЪ', \"'рище:\", 'силЁЙ', '3-2', 'службъ', 'хбпту', 'страхъ', 'ВеЛёПЪ ,', 'ишущества.', 'ШПЪ', '_19', 'ЛЪТЪ ;', 'покупают:', 'торговлъ', 'ЕОШТОрН', 'фотогр8', '22-10']\n"
     ]
    },
    {
     "name": "stderr",
     "output_type": "stream",
     "text": [
      "\n",
      " 50%|█████     | 233/462 [05:07<20:36,  5.40s/it]\u001b[A\n",
      " 51%|█████     | 234/462 [05:07<14:32,  3.83s/it]\u001b[A"
     ]
    },
    {
     "name": "stdout",
     "output_type": "stream",
     "text": [
      "01746 []\n",
      "01747 []\n"
     ]
    },
    {
     "name": "stderr",
     "output_type": "stream",
     "text": [
      "libpng warning: iCCP: known incorrect sRGB profile\n",
      "libpng warning: iCCP: known incorrect sRGB profile\n",
      "\n",
      " 51%|█████     | 235/462 [05:11<14:29,  3.83s/it]\u001b[A"
     ]
    },
    {
     "name": "stdout",
     "output_type": "stream",
     "text": [
      "01748 []\n"
     ]
    },
    {
     "name": "stderr",
     "output_type": "stream",
     "text": [
      "\n",
      " 51%|█████     | 236/462 [05:12<10:53,  2.89s/it]\u001b[A"
     ]
    },
    {
     "name": "stdout",
     "output_type": "stream",
     "text": [
      "01749 []\n"
     ]
    },
    {
     "name": "stderr",
     "output_type": "stream",
     "text": [
      "\n",
      " 51%|█████▏    | 237/462 [05:12<08:09,  2.17s/it]\u001b[A"
     ]
    },
    {
     "name": "stdout",
     "output_type": "stream",
     "text": [
      "01750 []\n"
     ]
    },
    {
     "name": "stderr",
     "output_type": "stream",
     "text": [
      "\n",
      " 52%|█████▏    | 238/462 [05:16<09:36,  2.57s/it]\u001b[A"
     ]
    },
    {
     "name": "stdout",
     "output_type": "stream",
     "text": [
      "01751 ['КП {2169', \"'кеш\", '9469']\n"
     ]
    },
    {
     "name": "stderr",
     "output_type": "stream",
     "text": [
      "\n",
      " 52%|█████▏    | 239/462 [05:24<15:31,  4.18s/it]\u001b[A"
     ]
    },
    {
     "name": "stdout",
     "output_type": "stream",
     "text": [
      "01752 ['6', '\"]', 'ПШИ', 'см', '0', '2', '4']\n"
     ]
    },
    {
     "name": "stderr",
     "output_type": "stream",
     "text": [
      "\n",
      " 52%|█████▏    | 240/462 [05:24<11:25,  3.09s/it]\u001b[A"
     ]
    },
    {
     "name": "stdout",
     "output_type": "stream",
     "text": [
      "01753 []\n"
     ]
    },
    {
     "name": "stderr",
     "output_type": "stream",
     "text": [
      "libpng warning: iCCP: known incorrect sRGB profile\n",
      "libpng warning: iCCP: known incorrect sRGB profile\n",
      "\n",
      " 52%|█████▏    | 241/462 [05:26<09:11,  2.50s/it]\u001b[A"
     ]
    },
    {
     "name": "stdout",
     "output_type": "stream",
     "text": [
      "01754 ['ЭАМАР']\n"
     ]
    },
    {
     "name": "stderr",
     "output_type": "stream",
     "text": [
      "\n",
      " 52%|█████▏    | 242/462 [05:28<08:46,  2.39s/it]\u001b[A"
     ]
    },
    {
     "name": "stdout",
     "output_type": "stream",
     "text": [
      "01755 ['0']\n"
     ]
    },
    {
     "name": "stderr",
     "output_type": "stream",
     "text": [
      "\n",
      " 53%|█████▎    | 243/462 [05:29<07:15,  1.99s/it]\u001b[A"
     ]
    },
    {
     "name": "stdout",
     "output_type": "stream",
     "text": [
      "01756 ['ё']\n"
     ]
    },
    {
     "name": "stderr",
     "output_type": "stream",
     "text": [
      "\n",
      " 53%|█████▎    | 244/462 [05:33<09:34,  2.63s/it]\u001b[A"
     ]
    },
    {
     "name": "stdout",
     "output_type": "stream",
     "text": [
      "01758 ['Кальцит, сфалерит; пирротин', 'Са^сь+е; $р<:^г_+е; руг^о+`+', 'М-ие Николаевское', 'КМД', '102/430']\n"
     ]
    },
    {
     "name": "stderr",
     "output_type": "stream",
     "text": [
      "\n",
      " 53%|█████▎    | 245/462 [05:34<07:47,  2.15s/it]\u001b[A"
     ]
    },
    {
     "name": "stdout",
     "output_type": "stream",
     "text": [
      "01759 []\n"
     ]
    },
    {
     "name": "stderr",
     "output_type": "stream",
     "text": [
      "\n",
      " 53%|█████▎    | 246/462 [05:35<06:39,  1.85s/it]\u001b[A"
     ]
    },
    {
     "name": "stdout",
     "output_type": "stream",
     "text": [
      "01760 ['2', '3', '5']\n"
     ]
    },
    {
     "name": "stderr",
     "output_type": "stream",
     "text": [
      "\n",
      " 53%|█████▎    | 247/462 [05:36<05:26,  1.52s/it]\u001b[A"
     ]
    },
    {
     "name": "stdout",
     "output_type": "stream",
     "text": [
      "01761 []\n"
     ]
    },
    {
     "name": "stderr",
     "output_type": "stream",
     "text": [
      "\n",
      " 54%|█████▎    | 248/462 [05:37<05:14,  1.47s/it]\u001b[A"
     ]
    },
    {
     "name": "stdout",
     "output_type": "stream",
     "text": [
      "01762 [\"#Ч' му 9\", '58', '(73', 'Льспой Департамвать', '[ны ЯИ АЫПШЖП]', 'Внвг', 'ОЧЕРНЪ ФЛОРЫ', 'ЖШПАДИИ ЧАВТИ', 'ЗАВОлЖСНИхЪ ПЕСНОВЪ', 'АСТРАХАНСКАТО КРАЯ', 'съ ХО:ЯЙОТКЕННОЙ ТОЧКМ ЗГЬНЯЯ', 'Савичъ', '1] ЧШаВыи}', 'ПФНЦЪ   €<*,, 1[тцн   {АЗ1И ЛЕПКЪ', 'ПРЧПШЪ', '[ВЕРЩ-', '[И', \"т'-ПУТВРЕУН\", '1403']\n"
     ]
    },
    {
     "name": "stderr",
     "output_type": "stream",
     "text": [
      "\n",
      " 54%|█████▍    | 249/462 [05:38<04:51,  1.37s/it]\u001b[A"
     ]
    },
    {
     "name": "stdout",
     "output_type": "stream",
     "text": [
      "01764 ['Есчдиэсяв вб7з&', 'одст% Лелэл Лкидслисс иа ЛБЛЛЦР 01&з61 4 Бллслм', '2;', 'СЯ Хиловл', '14А', '1945', '(носкмьдксят', 'пштышн', 'снзон)', '0 ТК ₽ ЫТИ#', 'СЕНТЯБРя 1944 г:', '373407ж7', 'гатавятся', 'ПОСТАНОВНЕ', '1944', 'опЕвы:', 'валЕты:', 'ивАн', 'сусАнин', 'ЕМЕЛЬЯН', 'ПУГАЧЕВ', 'СПЯЩАН КРАСАВИЦА', 'Е  Л', 'НОЧЫ ПЕРЕД РП#ДЕГТВШН', '0 #', 'Щ ЕДНУ#ч и #', 'Х 0 ₽ А # Щ', 'ОРПЕАНСНАН ДЕВА', 'У Р Е Н си я', '#яа ь', 'МГ 0 ₽ Ъ', 'ГМИ СПб']\n"
     ]
    },
    {
     "name": "stderr",
     "output_type": "stream",
     "text": [
      "\n",
      " 54%|█████▍    | 250/462 [05:39<03:50,  1.09s/it]\u001b[A"
     ]
    },
    {
     "name": "stdout",
     "output_type": "stream",
     "text": [
      "01765 []\n"
     ]
    },
    {
     "name": "stderr",
     "output_type": "stream",
     "text": [
      "\n",
      " 54%|█████▍    | 251/462 [05:39<03:01,  1.16it/s]\u001b[A"
     ]
    },
    {
     "name": "stdout",
     "output_type": "stream",
     "text": [
      "01766 []\n"
     ]
    },
    {
     "name": "stderr",
     "output_type": "stream",
     "text": [
      "\n",
      " 55%|█████▍    | 252/462 [05:40<02:34,  1.36it/s]\u001b[A"
     ]
    },
    {
     "name": "stdout",
     "output_type": "stream",
     "text": [
      "01767 [\"'РИ}₽И\", 'гос{', 'АВТПРАДИП', '1 ЛЕТ', '{ННЧ', '2008', 'МЫ ₽ЛДИШ АЛЯ ВЕЕЛ!', 'ГКП-7З376/10']\n"
     ]
    },
    {
     "name": "stderr",
     "output_type": "stream",
     "text": [
      "\n",
      " 55%|█████▍    | 253/462 [05:41<02:57,  1.18it/s]\u001b[A"
     ]
    },
    {
     "name": "stdout",
     "output_type": "stream",
     "text": [
      "01768 ['01', 'Ш/%', 'лишив', 'шииши', 'е6', '(#(#с?', 'Ш', '(ШМРУ', 'шуног']\n"
     ]
    },
    {
     "name": "stderr",
     "output_type": "stream",
     "text": [
      "\n",
      " 55%|█████▍    | 254/462 [05:41<02:48,  1.23it/s]\u001b[A\n",
      " 55%|█████▌    | 255/462 [05:41<02:04,  1.67it/s]\u001b[A"
     ]
    },
    {
     "name": "stdout",
     "output_type": "stream",
     "text": [
      "01769 []\n",
      "01770 []\n"
     ]
    },
    {
     "name": "stderr",
     "output_type": "stream",
     "text": [
      "libpng warning: iCCP: known incorrect sRGB profile\n",
      "libpng warning: iCCP: known incorrect sRGB profile\n",
      "\n",
      " 55%|█████▌    | 256/462 [05:42<02:00,  1.71it/s]\u001b[A"
     ]
    },
    {
     "name": "stdout",
     "output_type": "stream",
     "text": [
      "01772 []\n"
     ]
    },
    {
     "name": "stderr",
     "output_type": "stream",
     "text": [
      "libpng warning: iCCP: known incorrect sRGB profile\n",
      "libpng warning: iCCP: known incorrect sRGB profile\n",
      "\n",
      " 56%|█████▌    | 257/462 [05:42<01:39,  2.06it/s]\u001b[A"
     ]
    },
    {
     "name": "stdout",
     "output_type": "stream",
     "text": [
      "01773 []\n"
     ]
    },
    {
     "name": "stderr",
     "output_type": "stream",
     "text": [
      "\n",
      " 56%|█████▌    | 258/462 [05:43<01:48,  1.89it/s]\u001b[A"
     ]
    },
    {
     "name": "stdout",
     "output_type": "stream",
     "text": [
      "01774 []\n"
     ]
    },
    {
     "name": "stderr",
     "output_type": "stream",
     "text": [
      "\n",
      " 56%|█████▌    | 259/462 [05:44<01:54,  1.77it/s]\u001b[A"
     ]
    },
    {
     "name": "stdout",
     "output_type": "stream",
     "text": [
      "01776 []\n"
     ]
    },
    {
     "name": "stderr",
     "output_type": "stream",
     "text": [
      "\n",
      " 56%|█████▋    | 260/462 [05:47<04:41,  1.39s/it]\u001b[A"
     ]
    },
    {
     "name": "stdout",
     "output_type": "stream",
     "text": [
      "01777 ['шо', 'т%в', 'хауВ (ЛА*', \"'ъсхак а3\", '%в $вм ?']\n"
     ]
    },
    {
     "name": "stderr",
     "output_type": "stream",
     "text": [
      "\n",
      " 56%|█████▋    | 261/462 [05:50<06:27,  1.93s/it]\u001b[A"
     ]
    },
    {
     "name": "stdout",
     "output_type": "stream",
     "text": [
      "01778 ['ТОВАРИЩЕСТВО', 'А', 'АБРИКОСОВА', 'Въ москВъ:', 'ф; &₽НЧ %', 'ЖЕгтя#ыхъ няллЁй', '7вп ШЕМ##ин+', '#а', '52', '[вЕй']\n"
     ]
    },
    {
     "name": "stderr",
     "output_type": "stream",
     "text": [
      "\n",
      " 57%|█████▋    | 262/462 [05:52<06:11,  1.86s/it]\u001b[A"
     ]
    },
    {
     "name": "stdout",
     "output_type": "stream",
     "text": [
      "01779 ['\\'\"с;']\n"
     ]
    },
    {
     "name": "stderr",
     "output_type": "stream",
     "text": [
      "\n",
      " 57%|█████▋    | 263/462 [05:54<06:33,  1.98s/it]\u001b[A"
     ]
    },
    {
     "name": "stdout",
     "output_type": "stream",
     "text": [
      "01780 ['А', 'И', 'МБРИКО(ОВА', '(вЕй', 'ВЪ', 'москВъ', 'Хнбло-Лкт пжссти @46иЧ (еЕ Т80 #С РАстеРЯЕ?ъ месккж']\n"
     ]
    },
    {
     "name": "stderr",
     "output_type": "stream",
     "text": [
      "\n",
      " 57%|█████▋    | 264/462 [05:57<07:13,  2.19s/it]\u001b[A"
     ]
    },
    {
     "name": "stdout",
     "output_type": "stream",
     "text": [
      "01781 []\n"
     ]
    },
    {
     "name": "stderr",
     "output_type": "stream",
     "text": [
      "\n",
      " 57%|█████▋    | 265/462 [05:59<07:14,  2.20s/it]\u001b[A"
     ]
    },
    {
     "name": "stdout",
     "output_type": "stream",
     "text": [
      "01782 ['ТОВ АРИЩЕГТВ О', 'А', 'И.', '|БРИ КО (ОВА', 'ВЪ', 'москвъ', \"Хгбла-Лкт я47с7у %яьи# Лие' 160\", '#СРАС((рЯЕСЪ Мос4кь', '(вЕй']\n"
     ]
    },
    {
     "name": "stderr",
     "output_type": "stream",
     "text": [
      "\n",
      " 58%|█████▊    | 266/462 [06:01<07:18,  2.24s/it]\u001b[A"
     ]
    },
    {
     "name": "stdout",
     "output_type": "stream",
     "text": [
      "01783 []\n"
     ]
    },
    {
     "name": "stderr",
     "output_type": "stream",
     "text": [
      "\n",
      " 58%|█████▊    | 267/462 [06:03<07:09,  2.20s/it]\u001b[A"
     ]
    },
    {
     "name": "stdout",
     "output_type": "stream",
     "text": [
      "01784 ['#рЕРМЖ#', 'ЖЕЕТЯ[ Ыхъ', 'ИЗДШ;И', '7вР ШЕ М#К# НЪ', 'м5 5', '₽д']\n"
     ]
    },
    {
     "name": "stderr",
     "output_type": "stream",
     "text": [
      "\n",
      " 58%|█████▊    | 268/462 [06:05<06:36,  2.05s/it]\u001b[A"
     ]
    },
    {
     "name": "stdout",
     "output_type": "stream",
     "text": [
      "01785 []\n"
     ]
    },
    {
     "name": "stderr",
     "output_type": "stream",
     "text": [
      "\n",
      " 58%|█████▊    | 269/462 [06:07<06:21,  1.98s/it]\u001b[A"
     ]
    },
    {
     "name": "stdout",
     "output_type": "stream",
     "text": [
      "01786 ['2043%']\n"
     ]
    },
    {
     "name": "stderr",
     "output_type": "stream",
     "text": [
      "\n",
      " 58%|█████▊    | 270/462 [06:09<06:43,  2.10s/it]\u001b[A"
     ]
    },
    {
     "name": "stdout",
     "output_type": "stream",
     "text": [
      "01787 ['2о43я']\n"
     ]
    },
    {
     "name": "stderr",
     "output_type": "stream",
     "text": [
      "\n",
      " 59%|█████▊    | 271/462 [06:13<08:27,  2.66s/it]\u001b[A"
     ]
    },
    {
     "name": "stdout",
     "output_type": "stream",
     "text": [
      "01788 []\n"
     ]
    },
    {
     "name": "stderr",
     "output_type": "stream",
     "text": [
      "\n",
      " 59%|█████▉    | 272/462 [06:18<10:08,  3.20s/it]\u001b[A"
     ]
    },
    {
     "name": "stdout",
     "output_type": "stream",
     "text": [
      "01789 ['31 $']\n"
     ]
    },
    {
     "name": "stderr",
     "output_type": "stream",
     "text": [
      "\n",
      " 59%|█████▉    | 273/462 [06:20<09:15,  2.94s/it]\u001b[A"
     ]
    },
    {
     "name": "stdout",
     "output_type": "stream",
     "text": [
      "01790 []\n"
     ]
    },
    {
     "name": "stderr",
     "output_type": "stream",
     "text": [
      "\n",
      " 59%|█████▉    | 274/462 [06:22<08:01,  2.56s/it]\u001b[A"
     ]
    },
    {
     "name": "stdout",
     "output_type": "stream",
     "text": [
      "01791 ['#ИП']\n"
     ]
    },
    {
     "name": "stderr",
     "output_type": "stream",
     "text": [
      "\n",
      " 60%|█████▉    | 275/462 [06:24<08:06,  2.60s/it]\u001b[A"
     ]
    },
    {
     "name": "stdout",
     "output_type": "stream",
     "text": [
      "01792 []\n",
      "01794 ['[Ок ПОчтА СССР 1988', '\"Я', '{ЕЛОКЕВ =', '1893']\n"
     ]
    },
    {
     "name": "stderr",
     "output_type": "stream",
     "text": [
      "\n",
      " 60%|█████▉    | 277/462 [06:25<04:28,  1.45s/it]\u001b[A"
     ]
    },
    {
     "name": "stdout",
     "output_type": "stream",
     "text": [
      "01796 []\n"
     ]
    },
    {
     "name": "stderr",
     "output_type": "stream",
     "text": [
      "\n",
      " 60%|██████    | 278/462 [06:25<03:28,  1.13s/it]\u001b[A"
     ]
    },
    {
     "name": "stdout",
     "output_type": "stream",
     "text": [
      "01797 ['769 1', '-т', \"'ээ1\", 'ИМ0', '2 ? м', '2 €']\n"
     ]
    },
    {
     "name": "stderr",
     "output_type": "stream",
     "text": [
      "\n",
      " 60%|██████    | 279/462 [06:25<02:38,  1.15it/s]\u001b[A"
     ]
    },
    {
     "name": "stdout",
     "output_type": "stream",
     "text": [
      "01798 []\n"
     ]
    },
    {
     "name": "stderr",
     "output_type": "stream",
     "text": [
      "\n",
      " 61%|██████    | 280/462 [06:25<02:01,  1.50it/s]\u001b[A"
     ]
    },
    {
     "name": "stdout",
     "output_type": "stream",
     "text": [
      "01799 []\n"
     ]
    },
    {
     "name": "stderr",
     "output_type": "stream",
     "text": [
      "\n",
      " 61%|██████    | 281/462 [06:25<01:34,  1.92it/s]\u001b[A"
     ]
    },
    {
     "name": "stdout",
     "output_type": "stream",
     "text": [
      "01800 []\n"
     ]
    },
    {
     "name": "stderr",
     "output_type": "stream",
     "text": [
      "libpng warning: iCCP: known incorrect sRGB profile\n",
      "libpng warning: iCCP: known incorrect sRGB profile\n",
      "\n",
      " 61%|██████    | 282/462 [06:25<01:22,  2.17it/s]\u001b[A"
     ]
    },
    {
     "name": "stdout",
     "output_type": "stream",
     "text": [
      "01801 []\n"
     ]
    },
    {
     "name": "stderr",
     "output_type": "stream",
     "text": [
      "libpng warning: iCCP: known incorrect sRGB profile\n",
      "libpng warning: iCCP: known incorrect sRGB profile\n",
      "\n",
      " 61%|██████▏   | 283/462 [06:27<01:52,  1.59it/s]\u001b[A"
     ]
    },
    {
     "name": "stdout",
     "output_type": "stream",
     "text": [
      "01802 []\n"
     ]
    },
    {
     "name": "stderr",
     "output_type": "stream",
     "text": [
      "\n",
      " 61%|██████▏   | 284/462 [06:27<01:50,  1.62it/s]\u001b[A"
     ]
    },
    {
     "name": "stdout",
     "output_type": "stream",
     "text": [
      "01803 []\n",
      "01805 ['АТиша', '7ап -', '10 ']\n"
     ]
    },
    {
     "name": "stderr",
     "output_type": "stream",
     "text": [
      "\n",
      " 62%|██████▏   | 286/462 [06:28<01:15,  2.32it/s]\u001b[A"
     ]
    },
    {
     "name": "stdout",
     "output_type": "stream",
     "text": [
      "01806 []\n"
     ]
    },
    {
     "name": "stderr",
     "output_type": "stream",
     "text": [
      "\n",
      " 62%|██████▏   | 287/462 [06:28<01:16,  2.29it/s]\u001b[A"
     ]
    },
    {
     "name": "stdout",
     "output_type": "stream",
     "text": [
      "01807 []\n"
     ]
    },
    {
     "name": "stderr",
     "output_type": "stream",
     "text": [
      "\n",
      " 62%|██████▏   | 288/462 [06:29<01:28,  1.97it/s]\u001b[A"
     ]
    },
    {
     "name": "stdout",
     "output_type": "stream",
     "text": [
      "01808 []\n"
     ]
    },
    {
     "name": "stderr",
     "output_type": "stream",
     "text": [
      "\n",
      " 63%|██████▎   | 289/462 [06:29<01:14,  2.34it/s]\u001b[A"
     ]
    },
    {
     "name": "stdout",
     "output_type": "stream",
     "text": [
      "01809 []\n"
     ]
    },
    {
     "name": "stderr",
     "output_type": "stream",
     "text": [
      "libpng warning: iCCP: profile 'ICC Profile': 'GRAY': Gray color space not permitted on RGB PNG\n",
      "libpng warning: iCCP: profile 'ICC Profile': 'GRAY': Gray color space not permitted on RGB PNG\n",
      "\n",
      " 63%|██████▎   | 290/462 [06:30<02:08,  1.33it/s]\u001b[A"
     ]
    },
    {
     "name": "stdout",
     "output_type": "stream",
     "text": [
      "01810 ['Цан::ы#::сяЙЮ#&  .', 'Предъявитель  удостоверения', 'имеет', 'право', 'на', 'льготы', 'втез :н >', '45:', '&  т##ат', 'И', 'преимущества;', 'становлен', 'СССР', '#:#', ':\":#2', 'И', 'СОЮЗНЫХ', 'респуслик', \"'ВелководЕеЖоевом\", 'Отечест -', 'ждение; выдавнее удостоверение', 'Ютаюсиковн Реликой  Отече', 'венной', 'вОЙНы:', 'степени', 'УДОСТОВЕРЕНИЕ БЕССРОЧНОЕ И ДЕЙСТВИТЕЛЬНО', 'УДОСТОВЕРЕНИЕ', 'Серия', '#', '457469', 'НА', 'ВСЕЙ', 'ТЕРРИТОРИИ', 'СОЮЗА', 'ССР', 'Фамилия', '[9   же 09', 'Дата выдачи', '4', 'Секюфл', '1986г.', '\"внтй ₽ ко#ы2', 'Имя', 'Зера', 'встн{ а', '#нъ', '#ланЕров .', '{Лезз#;', 'оен', '(подпись руководите', \"'пеждения)\", 'Отчество', 'Тээеорбескс', '1980', 'И.П:', \"'рсгиспорэзнка:\", 'Личная', '<о)< съ', 'Кемеровску  Рблвое', 'пере']\n"
     ]
    },
    {
     "name": "stderr",
     "output_type": "stream",
     "text": [
      "\n",
      " 63%|██████▎   | 291/462 [06:31<01:55,  1.48it/s]\u001b[A"
     ]
    },
    {
     "name": "stdout",
     "output_type": "stream",
     "text": [
      "01811 ['~ш', 'ШМУЧЮП-МШУЛЯРНЮЯ БИБЛЮТЕКН ДЛЯ #ЛРШД\";', '(45 кннжекъ)', '18', 'оууккевитэ', 'В 0 Д А', 'СЪ 64 РИСУНКАМИ ВЪ ТЕКСТЪ', 'С о₽ перерабат!ННое', 'Лополненнее', 'наданоа', 'ЗАА}УЕ', 'Дъна 6 р:', 'Москва 1919г.']\n"
     ]
    },
    {
     "name": "stderr",
     "output_type": "stream",
     "text": [
      "\n",
      " 63%|██████▎   | 292/462 [06:31<01:34,  1.80it/s]\u001b[A"
     ]
    },
    {
     "name": "stdout",
     "output_type": "stream",
     "text": [
      "01812 [')$ ', 'БИБДТОТЕХА', 'НАУЧНО-ПОПУЛЯРНАЯ БИБЛЮОТЕКА ДЛЯ НАРОДА', 'Э1Нр', 'Л3 18', 'В 0 Д А', 'В: ЛУНКЕВ ИЧ А', 'Съ € РИСУНКАМИ ВЪ ТЕКСТЪ', 'ереработаннов', 'дополненнаа', 'нздан1е', '$', 'ЗААРУГА', 'Москва', '1918', '{', '[', 'Е', '[оци(', '#ы!']\n"
     ]
    },
    {
     "name": "stderr",
     "output_type": "stream",
     "text": [
      "\n",
      " 63%|██████▎   | 293/462 [06:31<01:13,  2.30it/s]\u001b[A"
     ]
    },
    {
     "name": "stdout",
     "output_type": "stream",
     "text": [
      "01813 []\n",
      "01814 ['53380/64']\n"
     ]
    },
    {
     "name": "stderr",
     "output_type": "stream",
     "text": [
      "\n",
      " 64%|██████▍   | 295/462 [06:32<00:46,  3.57it/s]\u001b[A"
     ]
    },
    {
     "name": "stdout",
     "output_type": "stream",
     "text": [
      "01815 []\n"
     ]
    },
    {
     "name": "stderr",
     "output_type": "stream",
     "text": [
      "\n",
      " 64%|██████▍   | 296/462 [06:32<00:42,  3.94it/s]\u001b[A"
     ]
    },
    {
     "name": "stdout",
     "output_type": "stream",
     "text": [
      "01816 ['Волъа', \"' Поволэье\", '151 .', 'Столбичи:', 'Собств', 'пэд;', 'фот: М;', 'Дмитрёева', 'Н;-Новгонпдъ:']\n"
     ]
    },
    {
     "name": "stderr",
     "output_type": "stream",
     "text": [
      "\n",
      " 64%|██████▍   | 297/462 [06:32<00:40,  4.12it/s]\u001b[A"
     ]
    },
    {
     "name": "stdout",
     "output_type": "stream",
     "text": [
      "01817 []\n"
     ]
    },
    {
     "name": "stderr",
     "output_type": "stream",
     "text": [
      "\n",
      " 65%|██████▍   | 298/462 [06:32<00:34,  4.80it/s]\u001b[A"
     ]
    },
    {
     "name": "stdout",
     "output_type": "stream",
     "text": [
      "01819 [\"5 961 '\", '1ъ/3', 'шписталет', \"'протиш {\", '\"подарок ', '69ы', 'СшА', 'Нэппнсь\"']\n"
     ]
    },
    {
     "name": "stderr",
     "output_type": "stream",
     "text": [
      "\n",
      " 65%|██████▍   | 299/462 [06:32<00:29,  5.47it/s]\u001b[A"
     ]
    },
    {
     "name": "stdout",
     "output_type": "stream",
     "text": [
      "01820 ['152-57', '39444']\n"
     ]
    },
    {
     "name": "stderr",
     "output_type": "stream",
     "text": [
      "\n",
      " 65%|██████▍   | 300/462 [06:32<00:29,  5.55it/s]\u001b[A"
     ]
    },
    {
     "name": "stdout",
     "output_type": "stream",
     "text": [
      "01821 ['ШШХЕЛМ']\n",
      "01822 []\n"
     ]
    },
    {
     "name": "stderr",
     "output_type": "stream",
     "text": [
      "\n",
      " 65%|██████▌   | 302/462 [06:33<00:22,  7.14it/s]\u001b[A"
     ]
    },
    {
     "name": "stdout",
     "output_type": "stream",
     "text": [
      "01823 []\n"
     ]
    },
    {
     "name": "stderr",
     "output_type": "stream",
     "text": [
      "\n",
      " 66%|██████▌   | 303/462 [06:33<00:32,  4.90it/s]\u001b[A"
     ]
    },
    {
     "name": "stdout",
     "output_type": "stream",
     "text": [
      "01824 []\n"
     ]
    },
    {
     "name": "stderr",
     "output_type": "stream",
     "text": [
      "\n",
      " 66%|██████▌   | 304/462 [06:33<00:33,  4.74it/s]\u001b[A"
     ]
    },
    {
     "name": "stdout",
     "output_type": "stream",
     "text": [
      "01825 ['Кальцит; кварц; сфалерит; галенит', 'Са^с5+с; <,аг*7, $р6:@гй€; &а^ п_+е', 'М-ие Николаевское', 'КМД', '102/552', '559']\n"
     ]
    },
    {
     "name": "stderr",
     "output_type": "stream",
     "text": [
      "\n"
     ]
    },
    {
     "name": "stdout",
     "output_type": "stream",
     "text": [
      "01826 []\n"
     ]
    },
    {
     "name": "stderr",
     "output_type": "stream",
     "text": [
      " 66%|██████▌   | 305/462 [06:33<00:32,  4.80it/s]\u001b[A\n",
      " 66%|██████▌   | 306/462 [06:41<06:06,  2.35s/it]\u001b[A"
     ]
    },
    {
     "name": "stdout",
     "output_type": "stream",
     "text": [
      "01827 ['152', '497 Пятница,', '5', 'Сентября  1914 года', '4197', 'П 0 Л П # € Н ^ Я', 'ДЦ Б # ^', 'ПЛАТА 3А ОБЪРВЛЕНЕН', '[ШКЯЮЯ', 'даедвзкой', 'коац# гзресызт ;', 'Стл .', '006м', 'н', '16', 'ратс01ъоб1,еш₽', 'еса,', '10ь', '7оур', '2', '100', ',06,', '0 Ы Д 5 МАНЮ', 'В 1 0 ₽ 0 В ъ', '9з0яи; руцоау', '{ВШ', '1', 'льабу', 'А#тъ{с93', '2елм', '7е1да , 01 орчнго', 'эасо4', '2(', 'ЦБна отд5льнэг0 номэра 5 копБ къ', '[1я; {ди-Д \"', '31, \"\" # ММИ} {ИИ;', 'Л}ЛМНЗН', 'Годъ пзданая', 'б-4', 'Комтора галстн: Юзиссеиская ул ,', '~мпогряфя', 'газети', 'ЖПрикамскачЖмань', 'Е; Оичукова)', 'Флрась', 'розкшми', 'торноа', '88=', 'Годъ лданн', '6 5', 'ТЕАтРЪ', 'Сегодня', '5 сентября СТавится рЫДКля но сюжету Картиша', 'ШАКсЪ-', 'Ъ', '[#ЕНЩИНАМВЪНАРОДА', '450 %', '(ся', \"ЛИНДЕР'\", 'матронь', 'Программу', 'допоЛнШть', 'другя  картины', 'Объявленое', 'КОМЩВрТНЫЙ 3алъ {араульскаго {тълвноя', 'спаспб5\"', 'И ₽;', 'М:', 'Ф.', '#ЕТРОЙЪ', 'кубанцашъ', 'Кшел', 'Сарапульскаго УЪзднаго   Исправника', 'мне', 'пИ\"', 'шттп', 'Упраашэ', 'На осночанои телеграчмч', 'Вятскаго Губернлтора', 'полу', \"'сш}\", 'ано1', 'ченнон', 'Ссго числа;', 'нэвБаю нассленое', 'Саралульскаго уБэда', '~ъ', 'лъ', 'ч0', 'Восннынсовогъ', 'положеемъ', 'Утвержденнымъ 30 абгуста', 'Импера', 'торскаго', '\"а\"', '91', 'тола;', 'разръшжлъ', 'ЕСЪмъ', 'вонскоымъ', 'частям', 'упрлклене', 'Бг7дчь', 'яяъ', 'Учрежленаямъ', 'восинато', 'въдомства прюобрътеноо за', 'онь', 'Рувекаго Музыкальнаго {бщевтва', 'шунор}', \"'н\", 'ш отъ', 'новобранцевъ призыва 191 1', 'тл', 'аКАС', 'огъапрн;', 'зынлсяыхъ', 'заласпахь', 'Ополченцеръ мъъ', 'собстценннч', 'веши', 'пъ ПоПедЪльннкъ,', 'сентября  1914', 'ГОДа', 'произвольнато образца;', 'но', 'Аншыприуслоа_пригодностя', '#ез', '6 У 4 € Т Ъ', '4 6 н Ъ', 'АЦел', 'Алн', 'свост', 'нааначешя', 'употребленая', 'въ', 'похоаБ', 'Цони з1 приносичыч', 'встци устаноилены саодуюиня:', 'КОНЦЕРТЪ', 'Отмыа отсрочемъ Для', 'Пара', 'сапогъ', '50', 'коп', 'ПатБльная рубашка', '60', 'при', 'элони', 'Насоносол', 'Хопанскоя:', 'Аодицара', 'ЯВНМ нъ призышу\"', 'Шсподное', 'брюки', '60', '#е  Костромииа', 'Орлом', '(ОПФтш', 'Отупрашлебгя по', '₽ац', 'Утиртльникъ', 'Нзнало рОВНО лъ', 'часолъ рочера', '141', 'Носонои  платокъ', 'Кхолъ', 'длч', 'членовъ', 'Отьленёч бсзп лткыя=Л0 члсискимъ', 'Нчош ', ')', 'птчнъ', 'Пара холшсвыхь ман бунажныхъ портякокъ', 'онястачо', '31 подпнсочъ прслсъллтеля   мрскиМм:', '@штабрл', 'Полушубокъ', 'шипстээ', 'Б6', '4аттэука', 'мампъ', \"'нс >\", 'Фуфайка', 'клм Шерстянная', 'рубаха', '1', 'Илн', 'рубаха', 'геПЛая', 'бунажнла', 'КФара паштоть', '@', 'Исподнс   брюки Шерстяные', '60', 'Открытъ абамоиемтъ', 'на', 'пОмикросли', 'стуль', '[ули', '~.с<л', 'Фс,озцип', 'э ~шэ!', 'Испотме', 'брюки т€пнс бумажиие', '1', 'пон', 'Набрюмникъ', '0апно1э', 'Прл наушммконъ', 'Вашлакъ', 'Тл', '9ватьл ₽ъ', 'Пара', 'рукавкцъ', 'Пара', 'шератаннуъ', 'варсжскъ илм перчатокъ', 'ЕВРОШЕЙЮМЯ ВЙн%:', 'Црагтт', '06', 'Лм', 'сукомныхъ портянокъ, или пчъсто нихъ', 'дпь парн   шерстяныхъ', 'чулоки', 'мли таковыть-же', 'Пстгограяскаго', 'Тел', 'Аг', 'п1', 'путон', 'а.', '5', 'носковъ', 'Шаровари', 'суконние', 'Русс* -#ЪМ: {ЮОНТЪ ,', 'ншетъ', 'ккгочъ возстанопленчя', 'иодо', 'Коданнчи поясном  Ремень', '6ъ', 'пряжкой', 'прл', 'свравдяипогтм', '1н', '#ъо', 'О1а', 'пвелеМя', 'шъ', 'дЫИсти]е', 'сь', 'ссго Сентября', 'Воззвамое Верховнаго', 'Мнъ', 'шасон', '\"стг0 Всн;', 'шошл', 'дт', '1', 'Ранъепнеяенное', 'нъ', 'дЪастяс', 'положенюен+ого', 'же', 'СовЬта', 'пи', 'ошл', 'Такженесстъ', 'телсрь', 'щ50', 'мшмря', '014', 'нлзначем]н цънъ', 'на', 'приносичыч', 'нмж =', 'Главнономандующаго нъ', 'гнобол}', 'осушсстиене', 'П;', 'Отсраил', 'со9й', 'ни', 'чинаимаапястн', 'ртннками   оголчёнюя ветци отм Внчстс', 'австро-венгерскимъ на-', 'шихъ', 'трЭлнихъ кодда [} ,', 'Анстро-енгерк', 'шр литель', 'Испрлыникъ Д', 'Васильовъ', 'родамъ:', 'Ство', 'въкпын съа7а', '(у', '(0 и4йч9)', 'ци', 'Рлорл', 'пра}у', 'нб0 А1', 'Керхонии', 'Глапнокоманлун-', 'тОльхо', 'Еозни', 'Энж:', 'щи', 'обратилса', 'мароачъ', 'АнлаСь', '5г0', 'шстъ иъ', 'ше', 'Актро  Неняреи со сяЬлующичъ 1Россу;', 'напротиы', 'Стре', 'котэнянснъ', 'мллечатанночъ', 'мл', 'тольк', 'КъОАнОм)', '\"то64 клж', 'Сарапульской крУжокъ', 'адикахъ', 'мтрозностен', 'нясе .', '{П кэъ', 'шасъ', 'мот рулпигатъ', 'ллюшнхъ', 'Атго-=енгог:', 'блоденстабпать', 'храна', 'Д0 (казлкю', 'дЭцшя   €4:8%:   ЗЗДАСЛНХ:', 'Сатввчиъ', \"Нагодм Австро-Кенгрм'   Вън-]  дрлгоцънное\", 'дссточ', 'от163ъ', 'скос', 'прпительство', '9бъыао', '34', 'ш}', 'объединин', 'ртецицъ ЕОшияуъ   7звВДАЪ:', 'Россн', '#опну', 'ч1 79', \"'10\", 'Ро - нод съ рднмыж Ф21гъячи У#ть', 'Въ пожыемаи Саряпульсклга', 'Окэужнаго Сула оборудо:', ',э', 'шъриаа', 'Сммисториче;', '9ъ', 'внр', 'когллЕи', '66', 'па}я', 'мястсрская 1ля', 'приготошенаи бълья', 'пго;', 'ски5ъ', 'Зш>ыахъ', 'не кори', '06', 'чя, умаж', 'ч2', 'сазсбюсть', 'Бъ точъ', '7с', 'помЕшен]и', 'оргничопано', 'жедменносаде=', 'тавить 61 ,ищмнон СтрЗмю', 'Брекныя', \"'т0\", 'буаие', 'чяеноаъ', 'кружкл', 'яяч', 'прасе пожертяояаман', '[епмин', 'лоуситъ', 'портбошеми', 'пгънн', 'синан', '~одИст\"', 'шъ', \"Ж'стлц ияс\", 'Веякаго', 'рода спдакъ', 'по', 'яъятельмости', 'кружка', 'Наготм', \"Австр9-Вемтраи' Всту-' #ктхенго этоя\", '1', 'аркм', '10', 'Ут', '4о', 'деч', 'Ляа', 'ивй', '~жяяскат коя', 'Гтсь', 'вотркмть', 'пома', 'Доделиыя подсртаоваяо? помнинтются:', 'С', '6ъ', 'пръм', 'Арстро-На:', '(', '#', 'Шърпихь хулеи', 'Прсасчдтелыицея крухка В', 'М:', 'Тюник0и', 'съ', 'аи', 'зенскъ', '[емгка50', 'Рус- Сорчолъ', '1', '#ь', \"'\", \"' 3\", 'м', 'Ф', 'рартиръся (Ватская У', 'Карслина', 'тел:', 'смаго', 'Нэр', 'обън70', 'тхъ', 'яли:', 'Казначеемъ кружка В # Щогловымъ 6ъ41 4 }', 'ч7о', 'Роснне', 'р5', 'гро;', '#', 'Дил (Отдивеяюе Госуларственкато   Блкка', 'тел', 'тлцая', 'сьо цодь', 'саро', 'трмъэъгур', 'нике4', 'Токина', 'жд* &&', 'мародОэъ 6ть', 'к0', 'чэмт', 'П;ааич', \"')\", 'нато', 'ии', 'ничсг', 'нного', 'ме', 'Авуст', 'срз-', '\"М}', '\"(н;', 'Царскос', 'Отдьленёем', 'льскнмъ', 'Сарапу', \"'Руб\", 'дшей', '5ч']\n"
     ]
    },
    {
     "name": "stderr",
     "output_type": "stream",
     "text": [
      "\n",
      " 66%|██████▋   | 307/462 [06:42<04:54,  1.90s/it]\u001b[A"
     ]
    },
    {
     "name": "stdout",
     "output_type": "stream",
     "text": [
      "01828 ['[РЫВЕШЮФ БНШК', 'БСС', 'Ё', '\"1Ел1841', '=', '10']\n"
     ]
    },
    {
     "name": "stderr",
     "output_type": "stream",
     "text": [
      "\n",
      " 67%|██████▋   | 308/462 [06:42<03:40,  1.43s/it]\u001b[A"
     ]
    },
    {
     "name": "stdout",
     "output_type": "stream",
     "text": [
      "01829 ['10', '#мо)', 'со']\n"
     ]
    },
    {
     "name": "stderr",
     "output_type": "stream",
     "text": [
      "libpng warning: iCCP: known incorrect sRGB profile\n",
      "libpng warning: iCCP: known incorrect sRGB profile\n",
      "\n",
      " 67%|██████▋   | 309/462 [06:43<02:47,  1.09s/it]\u001b[A"
     ]
    },
    {
     "name": "stdout",
     "output_type": "stream",
     "text": [
      "01830 []\n"
     ]
    },
    {
     "name": "stderr",
     "output_type": "stream",
     "text": [
      "\n",
      " 67%|██████▋   | 310/462 [06:44<02:51,  1.13s/it]\u001b[A"
     ]
    },
    {
     "name": "stdout",
     "output_type": "stream",
     "text": [
      "01831 ['11 12', '10', '8']\n"
     ]
    },
    {
     "name": "stderr",
     "output_type": "stream",
     "text": [
      "\n",
      " 67%|██████▋   | 311/462 [06:44<02:21,  1.07it/s]\u001b[A"
     ]
    },
    {
     "name": "stdout",
     "output_type": "stream",
     "text": [
      "01832 []\n",
      "01833 []\n"
     ]
    },
    {
     "name": "stderr",
     "output_type": "stream",
     "text": [
      "\n",
      " 68%|██████▊   | 313/462 [06:45<01:25,  1.74it/s]\u001b[A\n",
      " 68%|██████▊   | 314/462 [06:45<01:08,  2.17it/s]\u001b[A"
     ]
    },
    {
     "name": "stdout",
     "output_type": "stream",
     "text": [
      "01834 ['МЕЙНШШ:', 'Днъ [ЮВОВЪ [Ешжцы', 'ПЯТНИЦЕ; ПАР Ешя 16 ~ МАРТА:', 'ВшвРъ ПОЭЗЯ', 'КГИКШЫГЪ\"', 'ЗМРЗЫПЪ-ДЗНСЮЫЪ', 'д м', 'вдтгАузъ', 'Позтъ', 'лЕксАндтъ', 'овоттовъ', '45.', 'Пл', 'ДИТИРАТУРНЕ-НУЗЫИАЛЬШЯ ИЛЛНЕТРАШИ', 'ИгнАтяя дыгАсъ', 'ШЕГЕЯ ДРШГЕЛЬПНП', 'ППЕНСЛЦДРН ЕЛЕМЛЕЦЦЧКЫВР', '4.#ЛЕРТНГМАП', 'ВЛ ЖЕНК', '#ЛГЛНВА']\n",
      "01835 ['Е&;еш']\n",
      "01836 ['#а;']\n"
     ]
    },
    {
     "name": "stderr",
     "output_type": "stream",
     "text": [
      "\n",
      " 68%|██████▊   | 316/462 [06:47<01:44,  1.40it/s]\u001b[A"
     ]
    },
    {
     "name": "stdout",
     "output_type": "stream",
     "text": [
      "01837 ['КЕЗ', 'ИСКИИ', 'ЧИШЛЛ', '#ега']\n"
     ]
    },
    {
     "name": "stderr",
     "output_type": "stream",
     "text": [
      "\n",
      " 69%|██████▊   | 317/462 [06:47<01:29,  1.62it/s]\u001b[A"
     ]
    },
    {
     "name": "stdout",
     "output_type": "stream",
     "text": [
      "01838 []\n"
     ]
    },
    {
     "name": "stderr",
     "output_type": "stream",
     "text": [
      "\n",
      " 69%|██████▉   | 318/462 [06:47<01:17,  1.86it/s]\u001b[A"
     ]
    },
    {
     "name": "stdout",
     "output_type": "stream",
     "text": [
      "01839 ['УЁт-ПАм', '[8ч', '{]', 'въч €нтми']\n"
     ]
    },
    {
     "name": "stderr",
     "output_type": "stream",
     "text": [
      "\n",
      " 69%|██████▉   | 319/462 [06:48<01:06,  2.17it/s]\u001b[A"
     ]
    },
    {
     "name": "stdout",
     "output_type": "stream",
     "text": [
      "01840 []\n"
     ]
    },
    {
     "name": "stderr",
     "output_type": "stream",
     "text": [
      "\n",
      " 69%|██████▉   | 320/462 [06:48<01:09,  2.04it/s]\u001b[A"
     ]
    },
    {
     "name": "stdout",
     "output_type": "stream",
     "text": [
      "01841 ['Е', '1', '1']\n",
      "01842 []\n"
     ]
    },
    {
     "name": "stderr",
     "output_type": "stream",
     "text": [
      "\n",
      " 70%|██████▉   | 322/462 [06:49<00:51,  2.73it/s]\u001b[A"
     ]
    },
    {
     "name": "stdout",
     "output_type": "stream",
     "text": [
      "01843 []\n"
     ]
    },
    {
     "name": "stderr",
     "output_type": "stream",
     "text": [
      "\n",
      " 70%|██████▉   | 323/462 [06:49<00:51,  2.68it/s]\u001b[A"
     ]
    },
    {
     "name": "stdout",
     "output_type": "stream",
     "text": [
      "01844 ['э3907/', '6? (', '%7']\n"
     ]
    },
    {
     "name": "stderr",
     "output_type": "stream",
     "text": [
      "\n",
      " 70%|███████   | 324/462 [06:49<00:50,  2.76it/s]\u001b[A\n",
      " 70%|███████   | 325/462 [06:50<00:42,  3.21it/s]\u001b[A"
     ]
    },
    {
     "name": "stdout",
     "output_type": "stream",
     "text": [
      "01845 ['@ Ди', '<', '1', '#', 'ЧЕРНАЯ', '15 * )} ?', 'ТСТ 51048-67', \"П Е'ЯНА 8 М\", 'М4.4К', 'ПИ УЫ4х', 'для']\n",
      "01846 []\n"
     ]
    },
    {
     "name": "stderr",
     "output_type": "stream",
     "text": [
      "\n",
      " 71%|███████   | 326/462 [06:50<00:41,  3.30it/s]\u001b[A"
     ]
    },
    {
     "name": "stdout",
     "output_type": "stream",
     "text": [
      "01847 ['0Ф 8962/2', 'МИНБУМПРОМ', \"'\", '0', 'МОСКОВСКАЯ', 'ФИРМА', '2', \"'\", 'ТЕХНИЧЕСКИХ   БУМАГ', \"'\", 'кС 0 Ю З\"', '[', 'Цэна 36', 'кОП:']\n"
     ]
    },
    {
     "name": "stderr",
     "output_type": "stream",
     "text": [
      "\n",
      " 71%|███████   | 327/462 [06:51<00:56,  2.39it/s]\u001b[A"
     ]
    },
    {
     "name": "stdout",
     "output_type": "stream",
     "text": [
      "01848 []\n"
     ]
    },
    {
     "name": "stderr",
     "output_type": "stream",
     "text": [
      "\n",
      " 71%|███████   | 328/462 [06:51<00:57,  2.33it/s]\u001b[A"
     ]
    },
    {
     "name": "stdout",
     "output_type": "stream",
     "text": [
      "01849 []\n"
     ]
    },
    {
     "name": "stderr",
     "output_type": "stream",
     "text": [
      "\n",
      " 71%|███████   | 329/462 [06:51<00:57,  2.31it/s]\u001b[A"
     ]
    },
    {
     "name": "stdout",
     "output_type": "stream",
     "text": [
      "01850 []\n"
     ]
    },
    {
     "name": "stderr",
     "output_type": "stream",
     "text": [
      "\n",
      " 71%|███████▏  | 330/462 [06:53<01:25,  1.55it/s]\u001b[A"
     ]
    },
    {
     "name": "stdout",
     "output_type": "stream",
     "text": [
      "01851 ['ВСЕРаСснЯЕкСЕ', 'БШИГшиг', '2₽', 'Па М ПТНАО', 'игтетчи', 'КТЛЫТУРЬ', 'ДипАом', 'ПРЕЗИДИУМ', 'СОШЕТ4', 'К₽#_! 3 5 2  !01 9', 'ОТДЕПЕНИЯ ОБЩЕСТВА', 'НАГРАЖААЕТ:', 'пслвичну оргапнзц ', 'Е1 9 з', 'ПЯЧЫ', 'я_т\"анаа', 'чъа ОТЕЕ', 'ох#Ке', 'плопятЕнлг', 'ШШТПОВ ЧТОРИ', 'КТЛТТ', 'ПЕРВОЙ', 'СТЕПЕНИ', 'Пре седдтель Прслидицмы', 'сааста', '57 П15чи 4', 'Всероссийско2о', 'абшсст', 'пхрдна', 'Пачнтннтаг', \"'стшпи\", 'къ-втцэы', '(Ччя 2']\n"
     ]
    },
    {
     "name": "stderr",
     "output_type": "stream",
     "text": [
      "\n",
      " 72%|███████▏  | 331/462 [06:58<04:12,  1.93s/it]\u001b[A"
     ]
    },
    {
     "name": "stdout",
     "output_type": "stream",
     "text": [
      "01852 ['~И', '{щ шЪ ж', '%&{\"8 {{*#.', '70% 0,б& .', 'Уй б(б * ,е', '% 1 {? <', \"0%' 13 %53\", '6', '#нк М]\"', '4651', '%с4;', 'о1сж']\n"
     ]
    },
    {
     "name": "stderr",
     "output_type": "stream",
     "text": [
      "libpng warning: iCCP: known incorrect sRGB profile\n",
      "libpng warning: iCCP: known incorrect sRGB profile\n",
      "\n",
      " 72%|███████▏  | 332/462 [06:58<03:06,  1.44s/it]\u001b[A"
     ]
    },
    {
     "name": "stdout",
     "output_type": "stream",
     "text": [
      "01853 ['оосс8чк8']\n"
     ]
    },
    {
     "name": "stderr",
     "output_type": "stream",
     "text": [
      "\n",
      " 72%|███████▏  | 333/462 [06:59<02:44,  1.28s/it]\u001b[A"
     ]
    },
    {
     "name": "stdout",
     "output_type": "stream",
     "text": [
      "01854 ['юсуаарственный', 'кузанский', 'ХОр']\n"
     ]
    },
    {
     "name": "stderr",
     "output_type": "stream",
     "text": [
      "\n",
      " 72%|███████▏  | 334/462 [06:59<02:22,  1.11s/it]\u001b[A"
     ]
    },
    {
     "name": "stdout",
     "output_type": "stream",
     "text": [
      "01856 []\n"
     ]
    },
    {
     "name": "stderr",
     "output_type": "stream",
     "text": [
      "\n",
      " 73%|███████▎  | 335/462 [07:01<02:51,  1.35s/it]\u001b[A"
     ]
    },
    {
     "name": "stdout",
     "output_type": "stream",
     "text": [
      "01857 ['2 2.116 6', '9 3', '7иГ&', '7-', '7,ыэ6ъ2 6~', '@__ ', '/', '2 7х ъ <', '[', '772с ес _,', '2с6', 'сстссес_ 0еь', 'ц_,', '/_', '|е&<', '[_  _', '~е', '22 <22в', '207ее', '2е', 'ец€', \"о ф'2с_е €_\", 'к& >', '2съ2 | ,', '/е', '@сеес ', '2-', 'ИЪ -7', '27&в', '7 э', '72ъ', '27', 'Г:', 'о', '#ц&', '2 4е ', '6,%1', '0тсс', '2е.', 'Иеничъ_е', '2 97\"Лъ', '_', 'ес +э', 'с& &', '2 _', 'хъъ&', 'эо >', '27е7 ', '2._ес:', 'чъ', '&2', '10 ₽', 'ъ0_', 'к7ъ', '0<<', '^ -е', 'Иеъ_', '7 7 -', '4& -+ы', 'иеносес (', '271-с+е&', 'то-\" ', '2ш .', '0 2 +>', 'ицс4', 'сс4', '70', '2лс', 'Уе ,', 'есе€', 'ЭСф \"', '62 |с<', '7 ', '@у& ', '2 7', '27*7 9 ,']\n"
     ]
    },
    {
     "name": "stderr",
     "output_type": "stream",
     "text": [
      "\n",
      " 73%|███████▎  | 336/462 [07:02<02:08,  1.02s/it]\u001b[A"
     ]
    },
    {
     "name": "stdout",
     "output_type": "stream",
     "text": [
      "01858 []\n"
     ]
    },
    {
     "name": "stderr",
     "output_type": "stream",
     "text": [
      "\n",
      " 73%|███████▎  | 337/462 [07:03<02:21,  1.13s/it]\u001b[A"
     ]
    },
    {
     "name": "stdout",
     "output_type": "stream",
     "text": [
      "01859 ['6, 516 3', 'К/775 593', '$4.Ф&', ')Е 1814.', '[ьсц Е  ъ %е шогсеашх', 'сйз$ рагшй ]5 о,-г-_е5', 'Че [с1п иге', 'се =с,]-<ит: €хроз з ронг ]а', '[гешёге', '{1з', '_.е', 'поъ-п}ге   1814', 'с1 #г$', 'пошъе]]е:   [гоф1~опя фе ]аг, &тятёз яп', '{1 €1', 'яссошравпёз %е ]Ех-]`сл1оп е;   5\";@ з:', 'Раг €:', '1  ъож', '[етп+г: фе', 'А. К. Мвг ]е Эис', '~е Кегг1 , сегяёег %е 1а _ё:ёоп-]Нпп€чг', 'со1', 'тез[_п-а,< Че ] [п:-[ц[', 'фе Ггяпсе:', 'РАК15 ,', 'Жк Пгсат', '4А1 ₽;', 'Нт55т ', 'У-гёц] ,', 'па 30 ', '[г;', 'Лы #сани', '1РЛ1МЕЛЕ 0Е €Н^,;-Ь^€ ^Ё;', 'тоуя]', '181 ;']\n"
     ]
    },
    {
     "name": "stderr",
     "output_type": "stream",
     "text": [
      "\n",
      " 73%|███████▎  | 338/462 [07:04<02:13,  1.08s/it]\u001b[A"
     ]
    },
    {
     "name": "stdout",
     "output_type": "stream",
     "text": [
      "01860 ['6,Р 57 63', 'К/775 593', 'А~А_ЕЯ', ')& МЫЗЁЕ', 'вт', ')Е', '_ЁСОБЕ МОБЕ@&Е >Е$ ВЕАЪХ-А8Т5']\n"
     ]
    },
    {
     "name": "stderr",
     "output_type": "stream",
     "text": [
      "\n",
      " 73%|███████▎  | 339/462 [07:05<02:16,  1.11s/it]\u001b[A"
     ]
    },
    {
     "name": "stdout",
     "output_type": "stream",
     "text": [
      "01861 ['74жиъ^ .', '(4', '9', '#^ и>', '&с. ', 'Ж;ти-Э4;', '{(,&жъ трижА3#++ & +', 'П₽', '2ъ₽41 @./3', 'Даиб  ', '%', '#Ан(о ж ', '7', '\\'\"& , 0#ыж%/е', 'Я,Жж зх', '(', 'Ъи', 'Фъ;₽', '#УАиситс', '71.7', '{ич&', 'с4+и', '#дсдскэ', '9+12020', '% #Ужч 4', '~Длче', '3', 'Жиь~,', 'Ъ ₽', '4оиом Фуч&', '%1уз1% \"/1&.', '0+9 -', \"'э\", '$о } >', '9 Ля', 'Жоким', '{Ж у6 (дл г', '73юьд', '(~очъ _', '\"У/ ож', 'И с', \"'#1470\", 'Ж4', '0 Л{(#м ,', 'Я4.91 ,', '%', '[((&']\n"
     ]
    },
    {
     "name": "stderr",
     "output_type": "stream",
     "text": [
      "\n",
      " 74%|███████▎  | 340/462 [07:05<01:39,  1.23it/s]\u001b[A"
     ]
    },
    {
     "name": "stdout",
     "output_type": "stream",
     "text": [
      "01862 []\n"
     ]
    },
    {
     "name": "stderr",
     "output_type": "stream",
     "text": [
      "\n",
      " 74%|███████▍  | 341/462 [07:06<01:37,  1.24it/s]\u001b[A"
     ]
    },
    {
     "name": "stdout",
     "output_type": "stream",
     "text": [
      "01863 ['ч9667', '1/9; > @,441-7-42', '9и7', '422', '7л', '7 -е 7 2м~', \"з7' м 2 \", '7г /ш', '7 ', '77-', 'Тя', '25ж', '57', \"74' #\", 'сгаз']\n"
     ]
    },
    {
     "name": "stderr",
     "output_type": "stream",
     "text": [
      "\n",
      " 74%|███████▍  | 343/462 [07:06<00:57,  2.07it/s]\u001b[A\n",
      " 74%|███████▍  | 344/462 [07:06<00:47,  2.49it/s]\u001b[A"
     ]
    },
    {
     "name": "stdout",
     "output_type": "stream",
     "text": [
      "01865 []\n",
      "01867 ['[', '~6 0']\n"
     ]
    },
    {
     "name": "stderr",
     "output_type": "stream",
     "text": [
      "\n",
      " 75%|███████▍  | 345/462 [07:07<00:37,  3.08it/s]\u001b[A"
     ]
    },
    {
     "name": "stdout",
     "output_type": "stream",
     "text": [
      "01868 ['Е53', 'АУД', '?:']\n"
     ]
    },
    {
     "name": "stderr",
     "output_type": "stream",
     "text": [
      "\n",
      " 75%|███████▍  | 346/462 [07:07<00:50,  2.29it/s]\u001b[A"
     ]
    },
    {
     "name": "stdout",
     "output_type": "stream",
     "text": [
      "01869 []\n"
     ]
    },
    {
     "name": "stderr",
     "output_type": "stream",
     "text": [
      "\n",
      " 75%|███████▌  | 347/462 [07:08<00:48,  2.35it/s]\u001b[A\n",
      " 75%|███████▌  | 348/462 [07:08<00:39,  2.90it/s]\u001b[A"
     ]
    },
    {
     "name": "stdout",
     "output_type": "stream",
     "text": [
      "01870 []\n",
      "01871 []\n",
      "01872 []\n"
     ]
    },
    {
     "name": "stderr",
     "output_type": "stream",
     "text": [
      "\n",
      " 76%|███████▌  | 350/462 [07:08<00:24,  4.48it/s]\u001b[A"
     ]
    },
    {
     "name": "stdout",
     "output_type": "stream",
     "text": [
      "01873 []\n"
     ]
    },
    {
     "name": "stderr",
     "output_type": "stream",
     "text": [
      "\n",
      " 76%|███████▌  | 351/462 [07:08<00:24,  4.50it/s]\u001b[A"
     ]
    },
    {
     "name": "stdout",
     "output_type": "stream",
     "text": [
      "01874 [\"'ЙФХеЛч?\", '(', 'Тя^(', '3', '[', '5', 'о8ем']\n"
     ]
    },
    {
     "name": "stderr",
     "output_type": "stream",
     "text": [
      "\n",
      " 76%|███████▌  | 352/462 [07:08<00:21,  5.11it/s]\u001b[A"
     ]
    },
    {
     "name": "stdout",
     "output_type": "stream",
     "text": [
      "01875 ['72']\n"
     ]
    },
    {
     "name": "stderr",
     "output_type": "stream",
     "text": [
      "\n",
      " 76%|███████▋  | 353/462 [07:09<00:24,  4.42it/s]\u001b[A"
     ]
    },
    {
     "name": "stdout",
     "output_type": "stream",
     "text": [
      "01876 ['БЕЛОГОРЬЕ', 'ХРОНИКА СОБЫТИЙ; ФАКТОВ; АОСТИЖЕНИЙ']\n"
     ]
    },
    {
     "name": "stderr",
     "output_type": "stream",
     "text": [
      "\n",
      " 77%|███████▋  | 354/462 [07:10<00:45,  2.37it/s]\u001b[A"
     ]
    },
    {
     "name": "stdout",
     "output_type": "stream",
     "text": [
      "01877 []\n"
     ]
    },
    {
     "name": "stderr",
     "output_type": "stream",
     "text": [
      "\n",
      " 77%|███████▋  | 355/462 [07:10<00:40,  2.63it/s]\u001b[A"
     ]
    },
    {
     "name": "stdout",
     "output_type": "stream",
     "text": [
      "01878 []\n"
     ]
    },
    {
     "name": "stderr",
     "output_type": "stream",
     "text": [
      "\n",
      " 77%|███████▋  | 356/462 [07:12<01:21,  1.31it/s]\u001b[A"
     ]
    },
    {
     "name": "stdout",
     "output_type": "stream",
     "text": [
      "01879 ['М^С?Д?', 'КОМЫЫ--ЗТ:', 'РА?Т', '0', 'Зляд', 'Эта', '#ЕЦ', \"';ЯШГ\", '=РТЗЙК']\n",
      "01880 []\n"
     ]
    },
    {
     "name": "stderr",
     "output_type": "stream",
     "text": [
      "\n",
      " 77%|███████▋  | 358/462 [07:15<02:10,  1.26s/it]\u001b[A"
     ]
    },
    {
     "name": "stdout",
     "output_type": "stream",
     "text": [
      "01881 ['35', 'НАШЕ РСТЯНКА', '383.1']\n"
     ]
    },
    {
     "name": "stderr",
     "output_type": "stream",
     "text": [
      "\n",
      " 78%|███████▊  | 359/462 [07:20<03:40,  2.14s/it]\u001b[A"
     ]
    },
    {
     "name": "stdout",
     "output_type": "stream",
     "text": [
      "01882 ['30', 'МАТЬ-# МАЧЕЖА', \"'тн\", '1, #', 'ф !}', '[,|', '1 ;', '54 {', '383,1']\n"
     ]
    },
    {
     "name": "stderr",
     "output_type": "stream",
     "text": [
      "\n",
      " 78%|███████▊  | 360/462 [07:20<02:50,  1.67s/it]\u001b[A"
     ]
    },
    {
     "name": "stdout",
     "output_type": "stream",
     "text": [
      "01883 []\n"
     ]
    },
    {
     "name": "stderr",
     "output_type": "stream",
     "text": [
      "\n",
      " 78%|███████▊  | 361/462 [07:22<02:33,  1.52s/it]\u001b[A"
     ]
    },
    {
     "name": "stdout",
     "output_type": "stream",
     "text": [
      "01884 []\n"
     ]
    },
    {
     "name": "stderr",
     "output_type": "stream",
     "text": [
      "\n",
      " 78%|███████▊  | 362/462 [07:22<02:08,  1.29s/it]\u001b[A"
     ]
    },
    {
     "name": "stdout",
     "output_type": "stream",
     "text": [
      "01885 []\n"
     ]
    },
    {
     "name": "stderr",
     "output_type": "stream",
     "text": [
      "\n",
      " 79%|███████▊  | 363/462 [07:22<01:34,  1.05it/s]\u001b[A"
     ]
    },
    {
     "name": "stdout",
     "output_type": "stream",
     "text": [
      "01886 ['2', '31 4151 6', '[1Осм]']\n"
     ]
    },
    {
     "name": "stderr",
     "output_type": "stream",
     "text": [
      "\n",
      " 79%|███████▉  | 364/462 [07:23<01:19,  1.23it/s]\u001b[A"
     ]
    },
    {
     "name": "stdout",
     "output_type": "stream",
     "text": [
      "01887 []\n"
     ]
    },
    {
     "name": "stderr",
     "output_type": "stream",
     "text": [
      "\n",
      " 79%|███████▉  | 365/462 [07:23<00:59,  1.64it/s]\u001b[A"
     ]
    },
    {
     "name": "stdout",
     "output_type": "stream",
     "text": [
      "01888 []\n"
     ]
    },
    {
     "name": "stderr",
     "output_type": "stream",
     "text": [
      "\n",
      " 79%|███████▉  | 366/462 [07:23<00:50,  1.91it/s]\u001b[A"
     ]
    },
    {
     "name": "stdout",
     "output_type": "stream",
     "text": [
      "01889 ['нне  184', 'Са 4ъй', '[асты =а', '(сттмш', \"' {\", '0 7*4 *1 5+>', 'Л4яч; 4+ {Ъ ^&-', 'УЙПТиН', 'ким 4П]-? - 3080', '#71', 'мъ &']\n"
     ]
    },
    {
     "name": "stderr",
     "output_type": "stream",
     "text": [
      "\n",
      " 79%|███████▉  | 367/462 [07:23<00:38,  2.49it/s]\u001b[A"
     ]
    },
    {
     "name": "stdout",
     "output_type": "stream",
     "text": [
      "01890 ['Гвш', '~Б1ОМТ;']\n"
     ]
    },
    {
     "name": "stderr",
     "output_type": "stream",
     "text": [
      "\n",
      " 80%|███████▉  | 368/462 [07:24<00:30,  3.12it/s]\u001b[A"
     ]
    },
    {
     "name": "stdout",
     "output_type": "stream",
     "text": [
      "01891 []\n"
     ]
    },
    {
     "name": "stderr",
     "output_type": "stream",
     "text": [
      "\n",
      " 80%|███████▉  | 369/462 [07:24<00:39,  2.33it/s]\u001b[A"
     ]
    },
    {
     "name": "stdout",
     "output_type": "stream",
     "text": [
      "01892 ['€', 'е', '7', '$', '€', '1', '[1', '8', 'Е', '8', '[', '5', '1', '&', '=', '1', '1', '1', '[', '8', ']', '8', 'Е', '8', '1', 'Ё', '#', 'Ё', '8', 'в', '1', 'Ё', '#', '5', '3', '8', '7', 'Адыгс', 'Е', '#', '3', '#дш']\n"
     ]
    },
    {
     "name": "stderr",
     "output_type": "stream",
     "text": [
      "\n",
      " 80%|████████  | 370/462 [07:25<00:36,  2.51it/s]\u001b[A"
     ]
    },
    {
     "name": "stdout",
     "output_type": "stream",
     "text": [
      "01893 []\n"
     ]
    },
    {
     "name": "stderr",
     "output_type": "stream",
     "text": [
      "\n",
      " 80%|████████  | 371/462 [07:25<00:29,  3.04it/s]\u001b[A"
     ]
    },
    {
     "name": "stdout",
     "output_type": "stream",
     "text": [
      "01894 []\n"
     ]
    },
    {
     "name": "stderr",
     "output_type": "stream",
     "text": [
      "\n",
      " 81%|████████  | 372/462 [07:26<01:00,  1.48it/s]\u001b[A"
     ]
    },
    {
     "name": "stdout",
     "output_type": "stream",
     "text": [
      "01895 []\n"
     ]
    },
    {
     "name": "stderr",
     "output_type": "stream",
     "text": [
      "\n",
      " 81%|████████  | 373/462 [07:28<01:35,  1.07s/it]\u001b[A"
     ]
    },
    {
     "name": "stdout",
     "output_type": "stream",
     "text": [
      "01897 ['С новым годом;', 'С', 'новым', 'счастьем']\n"
     ]
    },
    {
     "name": "stderr",
     "output_type": "stream",
     "text": [
      "\n",
      " 81%|████████  | 374/462 [07:32<02:46,  1.89s/it]\u001b[A"
     ]
    },
    {
     "name": "stdout",
     "output_type": "stream",
     "text": [
      "01898 ['б 2154874', '6 66 Р `', '0', '3 `', \"'С@п%\", '61 2154874', '%ээаю', 'Агьмнис1 ', 'Лно', '5', 'Е сам', '26', '60', '!>', 'ДО', 'окз иим', '91 €0м', '97см 2ы', 'раг€ +', 'он минд;', 'зсны; ~нм']\n"
     ]
    },
    {
     "name": "stderr",
     "output_type": "stream",
     "text": [
      "\n",
      " 81%|████████  | 375/462 [07:34<02:39,  1.84s/it]\u001b[A"
     ]
    },
    {
     "name": "stdout",
     "output_type": "stream",
     "text": [
      "01899 [\"{Ву{тившао'\", '[6Ы', 'очсль', '{б;_св', 'ЛФФ', '{\"на\"', '@Ерявен']\n"
     ]
    },
    {
     "name": "stderr",
     "output_type": "stream",
     "text": [
      "\n",
      " 81%|████████▏ | 376/462 [07:34<01:58,  1.37s/it]\u001b[A"
     ]
    },
    {
     "name": "stdout",
     "output_type": "stream",
     "text": [
      "01900 []\n"
     ]
    },
    {
     "name": "stderr",
     "output_type": "stream",
     "text": [
      "\n",
      " 82%|████████▏ | 377/462 [07:34<01:27,  1.03s/it]\u001b[A"
     ]
    },
    {
     "name": "stdout",
     "output_type": "stream",
     "text": [
      "01901 []\n"
     ]
    },
    {
     "name": "stderr",
     "output_type": "stream",
     "text": [
      "\n",
      " 82%|████████▏ | 378/462 [07:35<01:13,  1.15it/s]\u001b[A"
     ]
    },
    {
     "name": "stdout",
     "output_type": "stream",
     "text": [
      "01902 ['@1миапо']\n"
     ]
    },
    {
     "name": "stderr",
     "output_type": "stream",
     "text": [
      "\n",
      " 82%|████████▏ | 379/462 [07:35<00:59,  1.40it/s]\u001b[A"
     ]
    },
    {
     "name": "stdout",
     "output_type": "stream",
     "text": [
      "01903 ['\\'д42}ч\"€', 'Куда', 'Кому', '2ъ-74514', 'Морозоа,', 'Адрес отправителя', 'Аенинград в декабрс  1942', 'Иузсуд', '#БеНкшэ', '(Ня', 'кддистраций', 'ткниГ =', 'Тидонотз', 'ТОРий', 'шЖенингаалегны', 'год', 'Лесикгра\"', 'Г164057', 'Зак; }4В', 'Воениздат НКО', '97', 'Цанд', 'шш', 'к _25) $Зэ', '2-5-2961-,', '1 чи', '\"15Ир', '#€', '%ъ']\n"
     ]
    },
    {
     "name": "stderr",
     "output_type": "stream",
     "text": [
      "libpng warning: iCCP: known incorrect sRGB profile\n",
      "libpng warning: iCCP: known incorrect sRGB profile\n",
      "\n",
      " 82%|████████▏ | 380/462 [07:35<00:44,  1.86it/s]\u001b[A"
     ]
    },
    {
     "name": "stdout",
     "output_type": "stream",
     "text": [
      "01904 []\n"
     ]
    },
    {
     "name": "stderr",
     "output_type": "stream",
     "text": [
      "\n",
      " 82%|████████▏ | 381/462 [07:36<00:41,  1.93it/s]\u001b[A"
     ]
    },
    {
     "name": "stdout",
     "output_type": "stream",
     "text": [
      "01905 []\n"
     ]
    },
    {
     "name": "stderr",
     "output_type": "stream",
     "text": [
      "\n",
      " 83%|████████▎ | 382/462 [07:37<01:08,  1.17it/s]\u001b[A"
     ]
    },
    {
     "name": "stdout",
     "output_type": "stream",
     "text": [
      "01906 ['ФЭэ3']\n"
     ]
    },
    {
     "name": "stderr",
     "output_type": "stream",
     "text": [
      "\n",
      " 83%|████████▎ | 383/462 [07:38<00:57,  1.38it/s]\u001b[A"
     ]
    },
    {
     "name": "stdout",
     "output_type": "stream",
     "text": [
      "01907 []\n"
     ]
    },
    {
     "name": "stderr",
     "output_type": "stream",
     "text": [
      "\n",
      " 83%|████████▎ | 384/462 [07:39<00:57,  1.35it/s]\u001b[A"
     ]
    },
    {
     "name": "stdout",
     "output_type": "stream",
     "text": [
      "01908 []\n"
     ]
    },
    {
     "name": "stderr",
     "output_type": "stream",
     "text": [
      "\n",
      " 83%|████████▎ | 385/462 [07:39<00:43,  1.77it/s]\u001b[A"
     ]
    },
    {
     "name": "stdout",
     "output_type": "stream",
     "text": [
      "01911 []\n"
     ]
    },
    {
     "name": "stderr",
     "output_type": "stream",
     "text": [
      "libpng warning: iCCP: known incorrect sRGB profile\n",
      "libpng warning: iCCP: known incorrect sRGB profile\n",
      "\n",
      " 84%|████████▎ | 386/462 [07:40<00:54,  1.39it/s]\u001b[A"
     ]
    },
    {
     "name": "stdout",
     "output_type": "stream",
     "text": [
      "01912 ['оф', '37668', 'чэ', 'е0 21 22 23 2Ч 25 2 21 29 29 90']\n"
     ]
    },
    {
     "name": "stderr",
     "output_type": "stream",
     "text": [
      "\n",
      " 84%|████████▍ | 387/462 [07:40<00:53,  1.40it/s]\u001b[A"
     ]
    },
    {
     "name": "stdout",
     "output_type": "stream",
     "text": [
      "01913 ['почЁтнАя', 'ГРАМОТА', 'Ос и', 'а5=шон', 'Ап}масл', 'КПг', '#Е4а\"', '65~', 'ВаПт:,', 'дешан', 'Яоршенцна ~онсшамшака а бзлььея', 'сункын', '5егйнагыхототаты', 'см Жцдяб', '~пта^ =', 'вадболым', '5енэъаа', '7йгош5ем ', '~едъ', '4ла1гтттдя:', 'збблу', 'ая=т~он;', ',а₽аншчмя#ив $я54']\n"
     ]
    },
    {
     "name": "stderr",
     "output_type": "stream",
     "text": [
      "\n",
      " 84%|████████▍ | 388/462 [07:44<01:49,  1.48s/it]\u001b[A"
     ]
    },
    {
     "name": "stdout",
     "output_type": "stream",
     "text": [
      "01914 ['9', '5', '9', \"59'\", \"'\", '5', '(', '5', '825839']\n"
     ]
    },
    {
     "name": "stderr",
     "output_type": "stream",
     "text": [
      "\n",
      " 84%|████████▍ | 389/462 [07:48<02:43,  2.24s/it]\u001b[A"
     ]
    },
    {
     "name": "stdout",
     "output_type": "stream",
     "text": [
      "01915 [\"55'\", '59']\n"
     ]
    },
    {
     "name": "stderr",
     "output_type": "stream",
     "text": [
      "\n",
      " 84%|████████▍ | 390/462 [07:48<02:01,  1.69s/it]\u001b[A\n",
      " 85%|████████▍ | 391/462 [07:48<01:26,  1.22s/it]\u001b[A"
     ]
    },
    {
     "name": "stdout",
     "output_type": "stream",
     "text": [
      "01917 []\n",
      "01918 ['#п']\n"
     ]
    },
    {
     "name": "stderr",
     "output_type": "stream",
     "text": [
      "\n",
      " 85%|████████▍ | 392/462 [07:49<01:11,  1.02s/it]\u001b[A"
     ]
    },
    {
     "name": "stdout",
     "output_type": "stream",
     "text": [
      "01919 [\"'м4дИГ.\", '3']\n"
     ]
    },
    {
     "name": "stderr",
     "output_type": "stream",
     "text": [
      "\n",
      " 85%|████████▌ | 393/462 [07:49<00:53,  1.28it/s]\u001b[A"
     ]
    },
    {
     "name": "stdout",
     "output_type": "stream",
     "text": [
      "01920 []\n"
     ]
    },
    {
     "name": "stderr",
     "output_type": "stream",
     "text": [
      "\n",
      " 85%|████████▌ | 394/462 [07:49<00:39,  1.70it/s]\u001b[A"
     ]
    },
    {
     "name": "stdout",
     "output_type": "stream",
     "text": [
      "01921 []\n"
     ]
    },
    {
     "name": "stderr",
     "output_type": "stream",
     "text": [
      "\n",
      " 85%|████████▌ | 395/462 [07:49<00:30,  2.18it/s]\u001b[A"
     ]
    },
    {
     "name": "stdout",
     "output_type": "stream",
     "text": [
      "01922 []\n"
     ]
    },
    {
     "name": "stderr",
     "output_type": "stream",
     "text": [
      "\n",
      " 86%|████████▌ | 396/462 [07:50<00:29,  2.23it/s]\u001b[A"
     ]
    },
    {
     "name": "stdout",
     "output_type": "stream",
     "text": [
      "01925 []\n"
     ]
    },
    {
     "name": "stderr",
     "output_type": "stream",
     "text": [
      "\n",
      " 86%|████████▌ | 397/462 [07:50<00:27,  2.40it/s]\u001b[A"
     ]
    },
    {
     "name": "stdout",
     "output_type": "stream",
     "text": [
      "01926 ['7', '`1сл (', '1а', '6 > 9', 'АКМ КП2 -', '2419/1', '1', '7058', '\"(;{ ч<<', 'Ч6{']\n"
     ]
    },
    {
     "name": "stderr",
     "output_type": "stream",
     "text": [
      "\n",
      " 86%|████████▌ | 398/462 [07:50<00:25,  2.48it/s]\u001b[A"
     ]
    },
    {
     "name": "stdout",
     "output_type": "stream",
     "text": [
      "01929 []\n"
     ]
    },
    {
     "name": "stderr",
     "output_type": "stream",
     "text": [
      "\n",
      " 86%|████████▋ | 399/462 [07:51<00:27,  2.33it/s]\u001b[A"
     ]
    },
    {
     "name": "stdout",
     "output_type": "stream",
     "text": [
      "01930 ['Н2954:?ИП', ': вэжэпни Чфип винвэнпвн пэ€вао0', '1 9 И Н ₽ ₽ И Н Я', 'ТТД 46', 'ХэллтЦеята  Маркп: МшистгаЕтла', '1ПАИ1', '194 7', 'ТЬ5   16', 'Нлгп -₽лн ;', 'Пер мс оя 1- \"1#9 0', 'То 1Н4 $']\n"
     ]
    },
    {
     "name": "stderr",
     "output_type": "stream",
     "text": [
      "\n",
      " 87%|████████▋ | 400/462 [07:51<00:24,  2.52it/s]\u001b[A"
     ]
    },
    {
     "name": "stdout",
     "output_type": "stream",
     "text": [
      "01931 ['ПОЧТН РОССИИ', 'Пншнте нндскс', 'предпэнятн я', 'ЕряАН', 'Уест =', 'назН аЧЕннЕ', 'ГКП-71473/2']\n"
     ]
    },
    {
     "name": "stderr",
     "output_type": "stream",
     "text": [
      "\n",
      " 87%|████████▋ | 401/462 [07:54<00:59,  1.02it/s]\u001b[A"
     ]
    },
    {
     "name": "stdout",
     "output_type": "stream",
     "text": [
      "01932 ['51']\n"
     ]
    },
    {
     "name": "stderr",
     "output_type": "stream",
     "text": [
      "\n",
      " 87%|████████▋ | 402/462 [07:56<01:32,  1.54s/it]\u001b[A"
     ]
    },
    {
     "name": "stdout",
     "output_type": "stream",
     "text": [
      "01933 ['4 Я', '#', '7', '4', '\"', '4', '1', '#', '0]', \"'1Ш\", '5\"', '33#', '~', '#', '##', '1', '1', '%', '1', '4', '1', '#4', '1', '#', '[]', '1', '2', '#', '4', '#', '{Ш', '1', '1', '#4', '{ЮМ', '#5', '!;', '#', '1', '#', '4', '&', '1', '4', '#', '\"а', '\"Ш', '@', '6', '4', '#', \"'\", '#', '{', '[#', '(', '#\"', '\"2', '3', '1', '#', 'М', 'Ш', '1', '7е', '%', '{', '1', '1', '1', '#', '4', '4', 'е', '#', '%']\n"
     ]
    },
    {
     "name": "stderr",
     "output_type": "stream",
     "text": [
      "\n",
      " 87%|████████▋ | 403/462 [07:57<01:11,  1.21s/it]\u001b[A"
     ]
    },
    {
     "name": "stdout",
     "output_type": "stream",
     "text": [
      "01935 []\n"
     ]
    },
    {
     "name": "stderr",
     "output_type": "stream",
     "text": [
      "\n",
      " 87%|████████▋ | 404/462 [07:57<00:55,  1.05it/s]\u001b[A"
     ]
    },
    {
     "name": "stdout",
     "output_type": "stream",
     "text": [
      "01937 ['ЭАБодс  па:', '€₽ ЕДН Яя', 'шжаля', '49', '964 члшнтса']\n"
     ]
    },
    {
     "name": "stderr",
     "output_type": "stream",
     "text": [
      "\n",
      " 88%|████████▊ | 405/462 [07:58<00:45,  1.27it/s]\u001b[A"
     ]
    },
    {
     "name": "stdout",
     "output_type": "stream",
     "text": [
      "01938 ['гызалаЕКаЕ', 'КиТдБЖАНАСЫ', 'Щэб69', 'Нэятындан', 'КРИВИЦКИ', 'КОЛАМ', 'ОЛАМ', '28', 'ГаРЮМНМ НИГГЫЮН', 'Зага фгазпя', 'тэбпэсинип', 'пэрби   дэшрийяты', '1942-ни', 'Ал;']\n"
     ]
    },
    {
     "name": "stderr",
     "output_type": "stream",
     "text": [
      "\n",
      " 88%|████████▊ | 406/462 [08:00<01:10,  1.25s/it]\u001b[A"
     ]
    },
    {
     "name": "stdout",
     "output_type": "stream",
     "text": [
      "01939 ['20,59/?925С44 .', '~чз', 'Ралосш тазв', '4 кОнденсата 1З утвердела лэ составленному прсдьзр=', 'яба5л0ну олчоту ва зыездной сессли', '3 х х10 3 цардо 198 ГОДВ; ю', '@сч5 тОгда; гогда Зуклылэскый таз у0 подолоя # ухтинским бзреган;', '#огла началось обустрокство Еровшсна:', 'Тосударсявоыкая комиссия БЫСоюо', 'оцошкш', 'цастспождонна. Она ут2ар-', 'диа л эынмспние аагвсн таза', '8 сунне 224 шиплиардов чубацзтрюв;', 'Кондонсата', '81 шытлион ТОнн: Озчие зепасн прмродного хаза был оце _', 'нены 3 509 шилшардов кубонстров', '# конлснсата', '185 ыиннонв тонна', 'Таки образоц; Вуктыя бшл Этнесси к Числу тазових Гигантов чнрового', 'Зевчанина', 'Допустий # клуРу, #70 ностОротление это оВнзивали бы Обычнчм', 'порядкома %0 ость ПОсЛО утвзрдения заласов 3 1 3а', 'Пока прооктирогалн; строшля сбъанты эксглуатацим, вагистоальннй', 'тазопровод; УшТО бы ло ЧОнБЕей цоре два-три год: В таком случ:в', 'бы', 'Яуктнльскин газ постудил', \"'б ₽\", '193 ,', '9 принорно', '3 1970-191', 'ГОДах;', 'а есчи говорить болса уваренно; 70', '3 1972', 'Благоларя', 'ускорснвону вволу несторспдония', 'разгаботку ,стган', 'на дваетэп гол', 'раньк;   получлла луктылБский газ; Это ЗЗЫОтюю ослабило дОфиш', 'топливе; ноторн \" гозшыдк', '3 00 х годах 3 совЗрО -Заладных рапонеха', 'Еслм   учесть;', '4г0   Вуктыльскоо Чзсторокдол', 'ша дла хода раньше усла-', 'повленного с,ока вчведепо Сыл на прооктнун нОщность; Ч40 всо', 'Зал .', 'ратн на ого раЗ ЗдКУ;  доразвслку; Обустройстюо и строительство', 'шллстральпото тазол-овода окупились за ляль 1еЗ,', 'недрудн лод-', 'счмать экононичсский Э юект; КоЛОрнм получино госулзоствоз понязен', 'тот плопзводственны; тцалально продушанный и лотону опрзвдный', 'риска', 'на которак пошли гзолог, проогтировшика; строчтели;', 'Э70 обстовтелъство', 'ишсет нсклчитольно гзхно практичсское', 'приипиальноз значониз: Оно тОворы? 0', 'чтО пй хорошом шрелва `', 'ритольном_продставиеним_о теологичсскои сдроонии_нового ностовсе', 'Ухту', 'тоду -', 'доыо']\n"
     ]
    },
    {
     "name": "stderr",
     "output_type": "stream",
     "text": [
      "\n",
      " 88%|████████▊ | 408/462 [08:01<00:48,  1.10it/s]\u001b[A"
     ]
    },
    {
     "name": "stdout",
     "output_type": "stream",
     "text": [
      "01941 ['АВС']\n"
     ]
    },
    {
     "name": "stderr",
     "output_type": "stream",
     "text": [
      "libpng warning: iCCP: known incorrect sRGB profile\n",
      "libpng warning: iCCP: known incorrect sRGB profile\n",
      "\n",
      " 89%|████████▊ | 409/462 [08:02<00:45,  1.16it/s]\u001b[A"
     ]
    },
    {
     "name": "stdout",
     "output_type": "stream",
     "text": [
      "01942 ['3', '4', '', '45 6']\n",
      "01943 []\n"
     ]
    },
    {
     "name": "stderr",
     "output_type": "stream",
     "text": [
      "\n",
      " 89%|████████▉ | 411/462 [08:02<00:31,  1.61it/s]\u001b[A"
     ]
    },
    {
     "name": "stdout",
     "output_type": "stream",
     "text": [
      "01944 ['256']\n"
     ]
    },
    {
     "name": "stderr",
     "output_type": "stream",
     "text": [
      "\n",
      " 89%|████████▉ | 412/462 [08:03<00:26,  1.86it/s]\u001b[A"
     ]
    },
    {
     "name": "stdout",
     "output_type": "stream",
     "text": [
      "01945 ['ЭНЦИКЛОПЕДИЧЕСКЕЙ', 'иЕксиконъ']\n"
     ]
    },
    {
     "name": "stderr",
     "output_type": "stream",
     "text": [
      "\n",
      " 89%|████████▉ | 413/462 [08:04<00:31,  1.56it/s]\u001b[A"
     ]
    },
    {
     "name": "stdout",
     "output_type": "stream",
     "text": [
      "01946 ['>ш', '5370', '2€1-т5;й', '2_3 14 51 6', '7', '8', '9', '1Осм]']\n"
     ]
    },
    {
     "name": "stderr",
     "output_type": "stream",
     "text": [
      "\n",
      " 90%|████████▉ | 414/462 [08:04<00:29,  1.61it/s]\u001b[A"
     ]
    },
    {
     "name": "stdout",
     "output_type": "stream",
     "text": [
      "01947 ['2 1314 [5 1 6', '7', '8', '9', '[Осм]']\n"
     ]
    },
    {
     "name": "stderr",
     "output_type": "stream",
     "text": [
      "\n",
      " 90%|████████▉ | 415/462 [08:04<00:23,  1.99it/s]\u001b[A"
     ]
    },
    {
     "name": "stdout",
     "output_type": "stream",
     "text": [
      "01948 []\n"
     ]
    },
    {
     "name": "stderr",
     "output_type": "stream",
     "text": [
      "\n",
      " 90%|█████████ | 416/462 [08:08<00:58,  1.28s/it]\u001b[A"
     ]
    },
    {
     "name": "stdout",
     "output_type": "stream",
     "text": [
      "01949 ['(9', '# 16.', 'Ромашка .   Ма+г_саг1а С<ащош]]а 1:', 'чается', 'иногда', 'на', 'полах:', 'Собирают', 'свеже-', 'распустившиеся', 'цветки', 'без   цветочных', 'но-', '~&', 'жск. Никоим', 'нельзя', 'подмешивать', 'К', 'ромашке', 'других', 'растений,', 'очень', 'сходных', '9+{336ъ ', 'С', 'нею', 'ПО', 'внешнему', 'но', 'не', 'имеющих', '6 2с&', 'врачебного', 'значения:', 'Встре-', 'образом', 'виду;', \"' ?\"]\n"
     ]
    },
    {
     "name": "stderr",
     "output_type": "stream",
     "text": [
      "\n",
      " 90%|█████████ | 417/462 [08:08<00:44,  1.02it/s]\u001b[A"
     ]
    },
    {
     "name": "stdout",
     "output_type": "stream",
     "text": [
      "01953 []\n"
     ]
    },
    {
     "name": "stderr",
     "output_type": "stream",
     "text": [
      "\n",
      " 90%|█████████ | 418/462 [08:11<01:10,  1.61s/it]\u001b[A"
     ]
    },
    {
     "name": "stdout",
     "output_type": "stream",
     "text": [
      "01954 []\n"
     ]
    },
    {
     "name": "stderr",
     "output_type": "stream",
     "text": [
      "\n",
      " 91%|█████████ | 419/462 [08:11<00:56,  1.30s/it]\u001b[A"
     ]
    },
    {
     "name": "stdout",
     "output_type": "stream",
     "text": [
      "01955 ['1 2 3  4', '5', '6', '7', '8', '9', '1Осм]']\n"
     ]
    },
    {
     "name": "stderr",
     "output_type": "stream",
     "text": [
      "\n",
      " 91%|█████████ | 420/462 [08:13<00:52,  1.25s/it]\u001b[A"
     ]
    },
    {
     "name": "stdout",
     "output_type": "stream",
     "text": [
      "01956 ['2', '13 `', '4', '5', '6', '7', '8', '9', '1Осм']\n"
     ]
    },
    {
     "name": "stderr",
     "output_type": "stream",
     "text": [
      "\n",
      " 91%|█████████ | 421/462 [08:14<00:48,  1.18s/it]\u001b[A"
     ]
    },
    {
     "name": "stdout",
     "output_type": "stream",
     "text": [
      "01957 ['4', '6', '8', '10', '11', '12', '13', 'УГМ', 'кП-4168/6']\n"
     ]
    },
    {
     "name": "stderr",
     "output_type": "stream",
     "text": [
      "\n",
      " 91%|█████████▏| 422/462 [08:15<00:50,  1.26s/it]\u001b[A"
     ]
    },
    {
     "name": "stdout",
     "output_type": "stream",
     "text": [
      "01958 ['3', '10', '11', '12', '13', 'ДФ-73 1 9 /6']\n"
     ]
    },
    {
     "name": "stderr",
     "output_type": "stream",
     "text": [
      "\n",
      " 92%|█████████▏| 423/462 [08:16<00:41,  1.05s/it]\u001b[A"
     ]
    },
    {
     "name": "stdout",
     "output_type": "stream",
     "text": [
      "01959 []\n"
     ]
    },
    {
     "name": "stderr",
     "output_type": "stream",
     "text": [
      "\n",
      " 92%|█████████▏| 424/462 [08:17<00:37,  1.00it/s]\u001b[A"
     ]
    },
    {
     "name": "stdout",
     "output_type": "stream",
     "text": [
      "01960 []\n"
     ]
    },
    {
     "name": "stderr",
     "output_type": "stream",
     "text": [
      "\n",
      " 92%|█████████▏| 425/462 [08:20<01:03,  1.70s/it]\u001b[A"
     ]
    },
    {
     "name": "stdout",
     "output_type": "stream",
     "text": [
      "01962 ['ЖИ', '=т', '[(', '7]', 'Ш', 'КУ', 'Ш(|', '[Е=', '77', '[ЫП', 'МЗ', 'ЖШМЖК']\n"
     ]
    },
    {
     "name": "stderr",
     "output_type": "stream",
     "text": [
      "\n",
      " 92%|█████████▏| 426/462 [08:22<01:04,  1.81s/it]\u001b[A"
     ]
    },
    {
     "name": "stdout",
     "output_type": "stream",
     "text": [
      "01963 ['12', '~е', '12Ч']\n"
     ]
    },
    {
     "name": "stderr",
     "output_type": "stream",
     "text": [
      "\n",
      " 92%|█████████▏| 427/462 [08:24<01:01,  1.77s/it]\u001b[A"
     ]
    },
    {
     "name": "stdout",
     "output_type": "stream",
     "text": [
      "01964 ['5 [%', 'Приложсика', '49/0 2', 'Шняу', 'дм3;', 'фгмчн', 'оКЗ', 'МедШШИская  Лохукештачия Фо', 'аг', 'ти1 жяеша #рящзо\"   Мимзяр га СССР', 'Регистрационная', 'карта', '7ша', 'шиьниъгш', 'рачншончпа', 'плд стш', 'прюаа Ышм', 'нас', 'Чела', 'Кол ` чрьяы`]', '\"]116', 'Мамл', 'петниышниврпл', '953', 'Грва НЯбЛеДсни', '\"лилгама капти', '211 |0 % 1Х17', 'снтяни', '796945', ';с 2224хй', '\"ттЕсти', '(@ф ц&к&', 'с;и', '#м]н', 'пмлыш', '21 01 5 1517', '111\"51', '#е1 4', '#еы;', 'Кишти', '7м|1', '#учыкч]', \"Па'тп\", 'НК1 0 Чт4', 'лаПъг', '3097/0', 'Нягнапнл шилч', '@сф2с', 'АССР:', 'Б5еъор291еъ&0', '1ъЛан', 'лырас', 'кыртнГ', '4х', \"'%ре3\", '&6', '51', 'Шокчушш', 'Уепстапсплюшя', '~етс1', 'Таггоат', '=шш', 'ГЧцют', 'ы;г', 'лтак}ыхы', 'Сен', 'Ньыт', 'ЕНЧН', 'Кем выпал', 'НАХОЖТЕННЕ', 'ЗОНЕ РднАцНОННОГО', '117Н1]НЯН', '\"ОМЕИТА АПАРНН', 'Шгитап]', 'ошжиеп', 'Ош<', '85э 317', 'Насльни', 'пит', 'Оа &2', '(б/ч ф@що /#Ф', '[&4< 4', 'дпгвиая', '#л& {#', 'чнш:1г', 'ГастонПВ}', 'Гзго', '11нл', 'К<МЛЛкраянг', 'стлыхолр гатн !', 'пточте)', 'К]ч]', 'Нмян', '2 |0 | 0| 6 |%41', '25. 9 кку10', 'шгтаЛЛгя', '421717 13 7', 'псычан 650', 'Почтьныр', 'ы1н', 'Насс;еИшия', 'ПЪ', 'преСоаншт', '6т', '9-3', 'Уллэ', 'Атлгие', '4ае']\n"
     ]
    },
    {
     "name": "stderr",
     "output_type": "stream",
     "text": [
      "\n",
      " 93%|█████████▎| 428/462 [08:24<00:49,  1.44s/it]\u001b[A"
     ]
    },
    {
     "name": "stdout",
     "output_type": "stream",
     "text": [
      "01965 ['85 \" \\'5\\':', '1₽30', '4056', \"'1,\", 'леинег ;', '90.088', 'Нзучто', \"'ь н\", '\"нкоя5/', 'ТРУДЫ', \"(оъо`9и '\", \"05Щ[[[М [[Т[ [Т'Ш [ ЛЫТЛТЕЛ[1\", 'пря 1ГЕРАТОРГКОМЪ', 'Казан комъ   Уппверсптетъ', 'Толъ Х.;', 'ВЫП:', 'Гордягинъ', 'В/ОМШРИЧЕГКЕЯ ИЗСЛЪДОВАШЕЯ', '4656', 'НАДЪ', \"ВШМ 8МИЮШ ЯМ'Ш (Ш6)\", 'К А 3 4 Н ь', 'Типо-литографоя 1м П Е РАТ 0 ₽ € К Аго Уяннерсктета', 'коттотм', 'оан']\n"
     ]
    },
    {
     "name": "stderr",
     "output_type": "stream",
     "text": [
      "\n",
      " 93%|█████████▎| 429/462 [08:27<01:00,  1.84s/it]\u001b[A"
     ]
    },
    {
     "name": "stdout",
     "output_type": "stream",
     "text": [
      "01966 []\n"
     ]
    },
    {
     "name": "stderr",
     "output_type": "stream",
     "text": [
      "\n",
      " 93%|█████████▎| 430/462 [08:28<00:46,  1.46s/it]\u001b[A"
     ]
    },
    {
     "name": "stdout",
     "output_type": "stream",
     "text": [
      "01967 []\n"
     ]
    },
    {
     "name": "stderr",
     "output_type": "stream",
     "text": [
      "\n",
      " 93%|█████████▎| 431/462 [08:28<00:34,  1.10s/it]\u001b[A"
     ]
    },
    {
     "name": "stdout",
     "output_type": "stream",
     "text": [
      "01968 []\n"
     ]
    },
    {
     "name": "stderr",
     "output_type": "stream",
     "text": [
      "\n",
      " 94%|█████████▎| 432/462 [08:29<00:30,  1.02s/it]\u001b[A"
     ]
    },
    {
     "name": "stdout",
     "output_type": "stream",
     "text": [
      "01969 ['Храсной', 'шн', '~&']\n"
     ]
    },
    {
     "name": "stderr",
     "output_type": "stream",
     "text": [
      "\n",
      " 94%|█████████▎| 433/462 [08:29<00:27,  1.06it/s]\u001b[A"
     ]
    },
    {
     "name": "stdout",
     "output_type": "stream",
     "text": [
      "01970 []\n"
     ]
    },
    {
     "name": "stderr",
     "output_type": "stream",
     "text": [
      "\n",
      " 94%|█████████▍| 434/462 [08:30<00:19,  1.44it/s]\u001b[A"
     ]
    },
    {
     "name": "stdout",
     "output_type": "stream",
     "text": [
      "01971 ['ё']\n"
     ]
    },
    {
     "name": "stderr",
     "output_type": "stream",
     "text": [
      "\n",
      " 94%|█████████▍| 435/462 [08:30<00:17,  1.53it/s]\u001b[A"
     ]
    },
    {
     "name": "stdout",
     "output_type": "stream",
     "text": [
      "01972 ['=/', 'Шэ', '16239', 'л7а']\n"
     ]
    },
    {
     "name": "stderr",
     "output_type": "stream",
     "text": [
      "\n",
      " 94%|█████████▍| 436/462 [08:31<00:18,  1.43it/s]\u001b[A"
     ]
    },
    {
     "name": "stdout",
     "output_type": "stream",
     "text": [
      "01973 ['3 6 6 0 56 0 В 4 &', '(\" 0(0', 'Нулено', 'чаитининлн', '$еей} Ферел\"-', '#ое Отноеннс', 'нарл)но.0 у <тянижь', 'Есидт  .', 'о#И', 'Ах, Воночка] Слезь', 'убивается', 'мать;', 'Ты', 'можешь свон новын', 'но< гюмчик порваты', 'шы']\n"
     ]
    },
    {
     "name": "stderr",
     "output_type": "stream",
     "text": [
      "\n",
      " 95%|█████████▍| 437/462 [08:41<01:25,  3.40s/it]\u001b[A"
     ]
    },
    {
     "name": "stdout",
     "output_type": "stream",
     "text": [
      "01974 ['Автобиография:', 'Яровой', 'Александр Тимофеевич', '~', 'родился в мае 1951 года в г. Ирбите', 'Свердловской области.', 'В 1968 г. по', 'окончании', 'средней школы поступил в Пермское военное', 'авиационно-техническое училище, которое закончил в 1971', 'Г:', 'Офицерскую военную службу начинал в Челябинской области', '~ ', 'В', 'авиационном полку, начальником группы авиационного вооружения', 'авиаэскадрильи. Затем переведен начальником службы в батальон', 'материально-технического обеспечения.', 'В период 1975', '1980 гг. проходил службу в составе', 'Южной группы', 'войск; затем ТуркВО', '>', 'начальник отдела', 'армейского склада. Обеспечение', 'боевых действий войск', 'В', 'Афганистане:', 'В 1982 году', 'назначен начальником', 'службы авиационного вооружения', 'ВВС 40-й армии в ДРА. Принимал участие в обеспечении операций;', 'проводимых на территории Афганистана в разных его точках.', 'По окончании спецкомандировки в 1983 году направлен для', 'прохождения дальнейшей службы в Прикарпатский военный округ', 'распоряжение командующего ВВС  ПрикВо. Прошел должности офицера', 'старшего офицера службы авиационного вооружения авиации округа ', 'В 1988 г. назначен начальником', 'службы авиационного вооружения', 'авиации', 'Сибирского военного округа, в 1993', 'переведен в состав', 'армейской авиации СибВО:', 'В 1995 году уволен с военной', 'службы', 'в запас.', 'С', 'октября 1995 года работаю на Западно-Сибирской ж. д. Начинал в', 'Новосибирском отряде военизированной охраны', 'техником по оружию;', 'затем', '', 'В', 'дорожной дефектоскопной лаборатории', 'электромехаником, а', '2002 году назначен начальником общего отдела', 'Новосибирского отделения', 'дороги; где и', 'работаю по настоящее время:', '2.2.ОЧ. 08 ;.', 'году']\n"
     ]
    },
    {
     "name": "stderr",
     "output_type": "stream",
     "text": [
      "\n",
      " 95%|█████████▍| 438/462 [08:41<01:01,  2.57s/it]\u001b[A"
     ]
    },
    {
     "name": "stdout",
     "output_type": "stream",
     "text": [
      "01975 []\n"
     ]
    },
    {
     "name": "stderr",
     "output_type": "stream",
     "text": [
      "\n",
      " 95%|█████████▌| 439/462 [08:43<00:55,  2.41s/it]\u001b[A"
     ]
    },
    {
     "name": "stdout",
     "output_type": "stream",
     "text": [
      "01976 ['ЯВТСМК', 'ВЫКИ']\n"
     ]
    },
    {
     "name": "stderr",
     "output_type": "stream",
     "text": [
      "\n",
      " 95%|█████████▌| 440/462 [08:45<00:50,  2.28s/it]\u001b[A"
     ]
    },
    {
     "name": "stdout",
     "output_type": "stream",
     "text": [
      "01977 []\n"
     ]
    },
    {
     "name": "stderr",
     "output_type": "stream",
     "text": [
      "\n",
      " 95%|█████████▌| 441/462 [08:49<00:59,  2.84s/it]\u001b[A"
     ]
    },
    {
     "name": "stdout",
     "output_type": "stream",
     "text": [
      "01978 []\n"
     ]
    },
    {
     "name": "stderr",
     "output_type": "stream",
     "text": [
      "\n",
      " 96%|█████████▌| 442/462 [08:52<00:53,  2.69s/it]\u001b[A"
     ]
    },
    {
     "name": "stdout",
     "output_type": "stream",
     "text": [
      "01979 []\n"
     ]
    },
    {
     "name": "stderr",
     "output_type": "stream",
     "text": [
      "\n",
      " 96%|█████████▌| 443/462 [08:55<00:53,  2.82s/it]\u001b[A"
     ]
    },
    {
     "name": "stdout",
     "output_type": "stream",
     "text": [
      "01980 []\n"
     ]
    },
    {
     "name": "stderr",
     "output_type": "stream",
     "text": [
      "\n",
      " 96%|█████████▌| 444/462 [08:58<00:53,  2.96s/it]\u001b[A"
     ]
    },
    {
     "name": "stdout",
     "output_type": "stream",
     "text": [
      "01981 []\n"
     ]
    },
    {
     "name": "stderr",
     "output_type": "stream",
     "text": [
      "\n",
      " 96%|█████████▋| 445/462 [09:01<00:47,  2.78s/it]\u001b[A"
     ]
    },
    {
     "name": "stdout",
     "output_type": "stream",
     "text": [
      "01982 []\n"
     ]
    },
    {
     "name": "stderr",
     "output_type": "stream",
     "text": [
      "\n",
      " 97%|█████████▋| 446/462 [09:03<00:43,  2.71s/it]\u001b[A"
     ]
    },
    {
     "name": "stdout",
     "output_type": "stream",
     "text": [
      "01983 []\n"
     ]
    },
    {
     "name": "stderr",
     "output_type": "stream",
     "text": [
      "\n",
      " 97%|█████████▋| 447/462 [09:06<00:40,  2.71s/it]\u001b[A"
     ]
    },
    {
     "name": "stdout",
     "output_type": "stream",
     "text": [
      "01984 []\n"
     ]
    },
    {
     "name": "stderr",
     "output_type": "stream",
     "text": [
      "\n",
      " 97%|█████████▋| 448/462 [09:08<00:35,  2.53s/it]\u001b[A"
     ]
    },
    {
     "name": "stdout",
     "output_type": "stream",
     "text": [
      "01985 ['1', '#ЕН ,', '79', \"ЕЫЕТе'\"]\n"
     ]
    },
    {
     "name": "stderr",
     "output_type": "stream",
     "text": [
      "\n",
      " 97%|█████████▋| 449/462 [09:10<00:31,  2.43s/it]\u001b[A"
     ]
    },
    {
     "name": "stdout",
     "output_type": "stream",
     "text": [
      "01986 ['\"В@\\'', ':Ы']\n"
     ]
    },
    {
     "name": "stderr",
     "output_type": "stream",
     "text": [
      "\n",
      " 97%|█████████▋| 450/462 [09:12<00:25,  2.15s/it]\u001b[A"
     ]
    },
    {
     "name": "stdout",
     "output_type": "stream",
     "text": [
      "01987 ['9П} 8957']\n"
     ]
    },
    {
     "name": "stderr",
     "output_type": "stream",
     "text": [
      "\n",
      " 98%|█████████▊| 451/462 [09:14<00:25,  2.34s/it]\u001b[A"
     ]
    },
    {
     "name": "stdout",
     "output_type": "stream",
     "text": [
      "01988 []\n"
     ]
    },
    {
     "name": "stderr",
     "output_type": "stream",
     "text": [
      "\n",
      " 98%|█████████▊| 452/462 [09:17<00:25,  2.51s/it]\u001b[A"
     ]
    },
    {
     "name": "stdout",
     "output_type": "stream",
     "text": [
      "01989 []\n"
     ]
    },
    {
     "name": "stderr",
     "output_type": "stream",
     "text": [
      "\n",
      " 98%|█████████▊| 453/462 [09:21<00:25,  2.83s/it]\u001b[A"
     ]
    },
    {
     "name": "stdout",
     "output_type": "stream",
     "text": [
      "01990 ['[48', '1:[']\n"
     ]
    },
    {
     "name": "stderr",
     "output_type": "stream",
     "text": [
      "\n",
      " 98%|█████████▊| 454/462 [09:22<00:18,  2.25s/it]\u001b[A"
     ]
    },
    {
     "name": "stdout",
     "output_type": "stream",
     "text": [
      "01991 []\n"
     ]
    },
    {
     "name": "stderr",
     "output_type": "stream",
     "text": [
      "\n",
      " 98%|█████████▊| 455/462 [09:23<00:12,  1.80s/it]\u001b[A"
     ]
    },
    {
     "name": "stdout",
     "output_type": "stream",
     "text": [
      "01992 []\n"
     ]
    },
    {
     "name": "stderr",
     "output_type": "stream",
     "text": [
      "\n",
      " 99%|█████████▊| 456/462 [09:26<00:13,  2.28s/it]\u001b[A"
     ]
    },
    {
     "name": "stdout",
     "output_type": "stream",
     "text": [
      "01993 ['ра бнаник\" : ', 'У д 0 С Т 0 3 € ₽ ₽ Ни Е', 'ка Л7 ₽', 'дано', 'СИ €', 'те лефони: сту', 'упра Еж€ Н[Я1', '₽# еренной', 'мн €', 'Кртиллерии', 'ГеорГ ш', 'УСТ?ЖА-', '#Е?', '1', 'НИНУ', 'в', 'ТОМ , что', 'он', 'действительно', 'Т\" О МаНди ', '[а', 'Фс ₽ ?^ 7 я', 'ров= Н', 'В', 'Г# С}РАПУЛ', 'для', '3 €Т  € 2 ^', 'штам.ов', 'Ш', 'пет атм , чТС', 'Цр дяис 5 Ю', '#', 'ПрТЛо€ =#ам', 'печати', 'удо стозеряе7 с я.', 'Н ча ЛБТ: [т', 'Артуллерии', '28', 'Ст]елтавой', 'Ди ВТТЗ [ %!', 'Полил [#ест # Й', 'т# 0 МИСС : Ц', 'Детопложз водитедь', '44д_фжж', '(7\"д', '{']\n"
     ]
    },
    {
     "name": "stderr",
     "output_type": "stream",
     "text": [
      "\n",
      " 99%|█████████▉| 457/462 [09:28<00:11,  2.26s/it]\u001b[A"
     ]
    },
    {
     "name": "stdout",
     "output_type": "stream",
     "text": [
      "01994 []\n"
     ]
    },
    {
     "name": "stderr",
     "output_type": "stream",
     "text": [
      "\n",
      " 99%|█████████▉| 458/462 [09:29<00:07,  1.83s/it]\u001b[A"
     ]
    },
    {
     "name": "stdout",
     "output_type": "stream",
     "text": [
      "01995 [\"'\"]\n"
     ]
    },
    {
     "name": "stderr",
     "output_type": "stream",
     "text": [
      "\n",
      " 99%|█████████▉| 459/462 [09:29<00:04,  1.42s/it]\u001b[A"
     ]
    },
    {
     "name": "stdout",
     "output_type": "stream",
     "text": [
      "01996 ['1', 'ц']\n"
     ]
    },
    {
     "name": "stderr",
     "output_type": "stream",
     "text": [
      "\n",
      "100%|█████████▉| 460/462 [09:31<00:02,  1.36s/it]\u001b[A"
     ]
    },
    {
     "name": "stdout",
     "output_type": "stream",
     "text": [
      "01997 ['+сюр ', '(9уУ;', 'Уаук-  774т0а*05', '/Зя &', '#и(', '.', '2/\"м', 'Н74ш4447', 'чж7', 'И# 4[+7', 'и4', '#сиь;це ~', '22е2 ^е <', '3444,22', '~яДыч', 'Й4хи +', '4 е 4чч', '<274,7 +', '(ы& я2 ', 'Н  &', '24+17+/4~5 ,', '167', 'аан!ст', '#Га ч', '65 ч7а', '222ш<4ъ', 'огкъ 9', 'чичи', '244+2е 4', '2чи 82#4 ~', '\"и ', 'Ж4ч00+/4', '~', '~м +44+7 < ,', 'Йир', 'Фчэ Р44тт', '44 ', '747 444 2/44 ,', '#Бх', '4а ж', '@(ж2<', '7ес? 4', '2 2 щ 4', 'сете ₽', '7442 47', ';ач', '#аучижч', '44/ -р47', '212 6 4 ₽', '8 -', '~емче Г', 'т+044 €€4441 ', '2,%ъе', '2ч2', '2 _ФхжЧ', '7 &с+&', 'Фиеуао <', 'Н4сед ех& $', '~@ж [', '02 х2 €', '2и 4+и', '#4#  = ', '42446 &44', 'И# 40254447*]%', \"'1\", '7р47275 ;', 'Р8 {{ <', '(4] <', '44+14+22', '7', '3с', '2 7', 'Фыидх\"412', 'е7', '4ик7', '0ж', 'Р+4 Пах;', \"'Ок\", '[ч7474', 'х', '4', '2242 4&\"Ду>', '@ Гк:', '04хсъяу', '47 2 . (жж   |04и\" Уэ е14', 'жхыжьхч %яи-', '0ъе4 4444 #', '(ии', '~4 |#', '4', '344еч', '4444*22224', 'Ф4{', \"' 9\", '~ы', 'е#', 'г', '424ч1', 'Хй', ')1', '7 &', '4*е14]', '\"(;', '\\'[ь\"и', 'ат -=']\n"
     ]
    },
    {
     "name": "stderr",
     "output_type": "stream",
     "text": [
      "\n",
      "100%|█████████▉| 461/462 [09:31<00:01,  1.10s/it]\u001b[A"
     ]
    },
    {
     "name": "stdout",
     "output_type": "stream",
     "text": [
      "01998 []\n"
     ]
    },
    {
     "name": "stderr",
     "output_type": "stream",
     "text": [
      "\n",
      "100%|██████████| 462/462 [09:32<00:00,  1.24s/it]\u001b[A"
     ]
    },
    {
     "name": "stdout",
     "output_type": "stream",
     "text": [
      "01999 []\n",
      "{'images_path10k/01501.png': True, 'images_path10k/01502.png': True, 'images_path10k/01503.png': True, 'images_path10k/01504.png': True, 'images_path10k/01505.png': True, 'images_path10k/01506.png': True, 'images_path10k/01507.png': True, 'images_path10k/01508.png': True, 'images_path10k/01509.png': True, 'images_path10k/01510.png': True, 'images_path10k/01511.png': True, 'images_path10k/01512.png': True, 'images_path10k/01513.png': True, 'images_path10k/01514.png': True, 'images_path10k/01515.png': True, 'images_path10k/01516.png': True, 'images_path10k/01517.png': True, 'images_path10k/01518.png': True, 'images_path10k/01519.png': True, 'images_path10k/01520.png': True, 'images_path10k/01521.png': True, 'images_path10k/01522.png': True, 'images_path10k/01523.png': True, 'images_path10k/01524.png': True, 'images_path10k/01525.png': True, 'images_path10k/01526.png': True, 'images_path10k/01527.png': True, 'images_path10k/01528.png': True, 'images_path10k/01529.png': True, 'images_path10k/01530.png': True, 'images_path10k/01531.png': True, 'images_path10k/01532.png': True, 'images_path10k/01533.png': True, 'images_path10k/01534.png': True, 'images_path10k/01535.png': True, 'images_path10k/01536.png': True, 'images_path10k/01537.png': True, 'images_path10k/01540.png': True, 'images_path10k/01541.png': True, 'images_path10k/01542.png': True, 'images_path10k/01543.png': True, 'images_path10k/01544.png': True, 'images_path10k/01545.png': True, 'images_path10k/01546.png': True, 'images_path10k/01547.png': True, 'images_path10k/01548.png': True, 'images_path10k/01549.png': True, 'images_path10k/01550.png': True, 'images_path10k/01551.png': True, 'images_path10k/01552.png': True, 'images_path10k/01553.png': True, 'images_path10k/01554.png': True, 'images_path10k/01555.png': False, 'images_path10k/01556.png': True, 'images_path10k/01557.png': True, 'images_path10k/01558.png': True, 'images_path10k/01559.png': True, 'images_path10k/01560.png': True, 'images_path10k/01561.png': True, 'images_path10k/01562.png': True, 'images_path10k/01563.png': True, 'images_path10k/01564.png': True, 'images_path10k/01565.png': True, 'images_path10k/01566.png': True, 'images_path10k/01567.png': True, 'images_path10k/01568.png': True, 'images_path10k/01569.png': True, 'images_path10k/01570.png': True, 'images_path10k/01571.png': True, 'images_path10k/01573.png': True, 'images_path10k/01574.png': True, 'images_path10k/01575.png': True, 'images_path10k/01576.png': True, 'images_path10k/01577.png': True, 'images_path10k/01578.png': True, 'images_path10k/01579.png': True, 'images_path10k/01580.png': True, 'images_path10k/01581.png': True, 'images_path10k/01582.png': True, 'images_path10k/01583.png': True, 'images_path10k/01584.png': True, 'images_path10k/01585.png': True, 'images_path10k/01586.png': True, 'images_path10k/01587.png': True, 'images_path10k/01588.png': True, 'images_path10k/01589.png': True, 'images_path10k/01590.png': True, 'images_path10k/01591.png': True, 'images_path10k/01592.png': True, 'images_path10k/01593.png': True, 'images_path10k/01595.png': True, 'images_path10k/01596.png': True, 'images_path10k/01597.png': True, 'images_path10k/01598.png': True, 'images_path10k/01600.png': True, 'images_path10k/01601.png': True, 'images_path10k/01602.png': True, 'images_path10k/01603.png': True, 'images_path10k/01604.png': True, 'images_path10k/01605.png': True, 'images_path10k/01606.png': True, 'images_path10k/01607.png': True, 'images_path10k/01608.png': True, 'images_path10k/01609.png': True, 'images_path10k/01610.png': True, 'images_path10k/01611.png': True, 'images_path10k/01612.png': True, 'images_path10k/01613.png': True, 'images_path10k/01614.png': True, 'images_path10k/01615.png': True, 'images_path10k/01616.png': True, 'images_path10k/01619.png': True, 'images_path10k/01620.png': True, 'images_path10k/01621.png': True, 'images_path10k/01622.png': True, 'images_path10k/01623.png': True, 'images_path10k/01624.png': True, 'images_path10k/01627.png': True, 'images_path10k/01628.png': True, 'images_path10k/01629.png': True, 'images_path10k/01630.png': True, 'images_path10k/01631.png': True, 'images_path10k/01632.png': True, 'images_path10k/01633.png': True, 'images_path10k/01634.png': True, 'images_path10k/01635.png': True, 'images_path10k/01636.png': True, 'images_path10k/01637.png': True, 'images_path10k/01638.png': True, 'images_path10k/01639.png': True, 'images_path10k/01640.png': True, 'images_path10k/01641.png': True, 'images_path10k/01642.png': True, 'images_path10k/01643.png': True, 'images_path10k/01644.png': True, 'images_path10k/01646.png': True, 'images_path10k/01647.png': True, 'images_path10k/01648.png': True, 'images_path10k/01649.png': True, 'images_path10k/01650.png': True, 'images_path10k/01651.png': True, 'images_path10k/01652.png': True, 'images_path10k/01653.png': True, 'images_path10k/01654.png': True, 'images_path10k/01655.png': True, 'images_path10k/01656.png': True, 'images_path10k/01657.png': True, 'images_path10k/01658.png': True, 'images_path10k/01659.png': True, 'images_path10k/01660.png': True, 'images_path10k/01661.png': True, 'images_path10k/01662.png': True, 'images_path10k/01663.png': True, 'images_path10k/01664.png': True, 'images_path10k/01665.png': True, 'images_path10k/01666.png': True, 'images_path10k/01667.png': True, 'images_path10k/01668.png': True, 'images_path10k/01669.png': True, 'images_path10k/01670.png': True, 'images_path10k/01671.png': True, 'images_path10k/01672.png': True, 'images_path10k/01673.png': True, 'images_path10k/01674.png': True, 'images_path10k/01675.png': True, 'images_path10k/01676.png': True, 'images_path10k/01677.png': True, 'images_path10k/01678.png': True, 'images_path10k/01679.png': True, 'images_path10k/01680.png': True, 'images_path10k/01681.png': True, 'images_path10k/01682.png': True, 'images_path10k/01683.png': True, 'images_path10k/01684.png': True, 'images_path10k/01685.png': True, 'images_path10k/01686.png': True, 'images_path10k/01687.png': True, 'images_path10k/01688.png': True, 'images_path10k/01689.png': True, 'images_path10k/01690.png': True, 'images_path10k/01691.png': True, 'images_path10k/01692.png': True, 'images_path10k/01693.png': False, 'images_path10k/01694.png': True, 'images_path10k/01695.png': True, 'images_path10k/01697.png': True, 'images_path10k/01698.png': True, 'images_path10k/01699.png': True, 'images_path10k/01701.png': True, 'images_path10k/01702.png': True, 'images_path10k/01703.png': True, 'images_path10k/01704.png': True, 'images_path10k/01705.png': True, 'images_path10k/01706.png': True, 'images_path10k/01707.png': True, 'images_path10k/01708.png': True, 'images_path10k/01709.png': True, 'images_path10k/01710.png': True, 'images_path10k/01711.png': True, 'images_path10k/01712.png': True, 'images_path10k/01713.png': True, 'images_path10k/01714.png': False, 'images_path10k/01715.png': False, 'images_path10k/01716.png': True, 'images_path10k/01717.png': True, 'images_path10k/01718.png': True, 'images_path10k/01719.png': True, 'images_path10k/01720.png': True, 'images_path10k/01721.png': True, 'images_path10k/01722.png': True, 'images_path10k/01723.png': True, 'images_path10k/01724.png': True, 'images_path10k/01725.png': True, 'images_path10k/01726.png': True, 'images_path10k/01727.png': True, 'images_path10k/01729.png': True, 'images_path10k/01730.png': True, 'images_path10k/01731.png': True, 'images_path10k/01732.png': True, 'images_path10k/01733.png': True, 'images_path10k/01734.png': True, 'images_path10k/01735.png': True, 'images_path10k/01736.png': True, 'images_path10k/01737.png': True, 'images_path10k/01738.png': True, 'images_path10k/01739.png': True, 'images_path10k/01740.png': True, 'images_path10k/01741.png': True, 'images_path10k/01742.png': True, 'images_path10k/01743.png': True, 'images_path10k/01744.png': True, 'images_path10k/01745.png': True, 'images_path10k/01746.png': True, 'images_path10k/01747.png': True, 'images_path10k/01748.png': True, 'images_path10k/01749.png': True, 'images_path10k/01750.png': True, 'images_path10k/01751.png': True, 'images_path10k/01752.png': True, 'images_path10k/01753.png': True, 'images_path10k/01754.png': True, 'images_path10k/01755.png': True, 'images_path10k/01756.png': True, 'images_path10k/01758.png': True, 'images_path10k/01759.png': True, 'images_path10k/01760.png': True, 'images_path10k/01761.png': True, 'images_path10k/01762.png': True, 'images_path10k/01764.png': True, 'images_path10k/01765.png': True, 'images_path10k/01766.png': True, 'images_path10k/01767.png': True, 'images_path10k/01768.png': True, 'images_path10k/01769.png': True, 'images_path10k/01770.png': True, 'images_path10k/01772.png': True, 'images_path10k/01773.png': True, 'images_path10k/01774.png': True, 'images_path10k/01776.png': True, 'images_path10k/01777.png': True, 'images_path10k/01778.png': True, 'images_path10k/01779.png': True, 'images_path10k/01780.png': True, 'images_path10k/01781.png': True, 'images_path10k/01782.png': True, 'images_path10k/01783.png': True, 'images_path10k/01784.png': True, 'images_path10k/01785.png': True, 'images_path10k/01786.png': True, 'images_path10k/01787.png': True, 'images_path10k/01788.png': True, 'images_path10k/01789.png': True, 'images_path10k/01790.png': True, 'images_path10k/01791.png': True, 'images_path10k/01792.png': True, 'images_path10k/01794.png': True, 'images_path10k/01796.png': True, 'images_path10k/01797.png': True, 'images_path10k/01798.png': True, 'images_path10k/01799.png': True, 'images_path10k/01800.png': True, 'images_path10k/01801.png': True, 'images_path10k/01802.png': True, 'images_path10k/01803.png': True, 'images_path10k/01805.png': True, 'images_path10k/01806.png': True, 'images_path10k/01807.png': True, 'images_path10k/01808.png': True, 'images_path10k/01809.png': True, 'images_path10k/01810.png': True, 'images_path10k/01811.png': True, 'images_path10k/01812.png': True, 'images_path10k/01813.png': True, 'images_path10k/01814.png': True, 'images_path10k/01815.png': True, 'images_path10k/01816.png': True, 'images_path10k/01817.png': True, 'images_path10k/01819.png': True, 'images_path10k/01820.png': True, 'images_path10k/01821.png': True, 'images_path10k/01822.png': True, 'images_path10k/01823.png': True, 'images_path10k/01824.png': True, 'images_path10k/01825.png': True, 'images_path10k/01826.png': True, 'images_path10k/01827.png': True, 'images_path10k/01828.png': True, 'images_path10k/01829.png': True, 'images_path10k/01830.png': True, 'images_path10k/01831.png': True, 'images_path10k/01832.png': True, 'images_path10k/01833.png': True, 'images_path10k/01834.png': True, 'images_path10k/01835.png': True, 'images_path10k/01836.png': True, 'images_path10k/01837.png': True, 'images_path10k/01838.png': True, 'images_path10k/01839.png': True, 'images_path10k/01840.png': True, 'images_path10k/01841.png': True, 'images_path10k/01842.png': True, 'images_path10k/01843.png': True, 'images_path10k/01844.png': True, 'images_path10k/01845.png': True, 'images_path10k/01846.png': True, 'images_path10k/01847.png': True, 'images_path10k/01848.png': True, 'images_path10k/01849.png': True, 'images_path10k/01850.png': True, 'images_path10k/01851.png': True, 'images_path10k/01852.png': True, 'images_path10k/01853.png': True, 'images_path10k/01854.png': True, 'images_path10k/01856.png': True, 'images_path10k/01857.png': True, 'images_path10k/01858.png': True, 'images_path10k/01859.png': True, 'images_path10k/01860.png': True, 'images_path10k/01861.png': True, 'images_path10k/01862.png': True, 'images_path10k/01863.png': True, 'images_path10k/01864.png': False, 'images_path10k/01865.png': True, 'images_path10k/01867.png': True, 'images_path10k/01868.png': True, 'images_path10k/01869.png': True, 'images_path10k/01870.png': True, 'images_path10k/01871.png': True, 'images_path10k/01872.png': True, 'images_path10k/01873.png': True, 'images_path10k/01874.png': True, 'images_path10k/01875.png': True, 'images_path10k/01876.png': True, 'images_path10k/01877.png': True, 'images_path10k/01878.png': True, 'images_path10k/01879.png': True, 'images_path10k/01880.png': True, 'images_path10k/01881.png': True, 'images_path10k/01882.png': True, 'images_path10k/01883.png': True, 'images_path10k/01884.png': True, 'images_path10k/01885.png': True, 'images_path10k/01886.png': True, 'images_path10k/01887.png': True, 'images_path10k/01888.png': True, 'images_path10k/01889.png': True, 'images_path10k/01890.png': True, 'images_path10k/01891.png': True, 'images_path10k/01892.png': True, 'images_path10k/01893.png': True, 'images_path10k/01894.png': True, 'images_path10k/01895.png': True, 'images_path10k/01897.png': True, 'images_path10k/01898.png': True, 'images_path10k/01899.png': True, 'images_path10k/01900.png': True, 'images_path10k/01901.png': True, 'images_path10k/01902.png': True, 'images_path10k/01903.png': True, 'images_path10k/01904.png': True, 'images_path10k/01905.png': True, 'images_path10k/01906.png': True, 'images_path10k/01907.png': True, 'images_path10k/01908.png': True, 'images_path10k/01911.png': True, 'images_path10k/01912.png': True, 'images_path10k/01913.png': True, 'images_path10k/01914.png': True, 'images_path10k/01915.png': True, 'images_path10k/01917.png': True, 'images_path10k/01918.png': True, 'images_path10k/01919.png': True, 'images_path10k/01920.png': True, 'images_path10k/01921.png': True, 'images_path10k/01922.png': True, 'images_path10k/01925.png': True, 'images_path10k/01926.png': True, 'images_path10k/01929.png': True, 'images_path10k/01930.png': True, 'images_path10k/01931.png': True, 'images_path10k/01932.png': True, 'images_path10k/01933.png': True, 'images_path10k/01935.png': True, 'images_path10k/01937.png': True, 'images_path10k/01938.png': True, 'images_path10k/01939.png': True, 'images_path10k/01940.png': False, 'images_path10k/01941.png': True, 'images_path10k/01942.png': True, 'images_path10k/01943.png': True, 'images_path10k/01944.png': True, 'images_path10k/01945.png': True, 'images_path10k/01946.png': True, 'images_path10k/01947.png': True, 'images_path10k/01948.png': True, 'images_path10k/01949.png': True, 'images_path10k/01953.png': True, 'images_path10k/01954.png': True, 'images_path10k/01955.png': True, 'images_path10k/01956.png': True, 'images_path10k/01957.png': True, 'images_path10k/01958.png': True, 'images_path10k/01959.png': True, 'images_path10k/01960.png': True, 'images_path10k/01962.png': True, 'images_path10k/01963.png': True, 'images_path10k/01964.png': True, 'images_path10k/01965.png': True, 'images_path10k/01966.png': True, 'images_path10k/01967.png': True, 'images_path10k/01968.png': True, 'images_path10k/01969.png': True, 'images_path10k/01970.png': True, 'images_path10k/01971.png': True, 'images_path10k/01972.png': True, 'images_path10k/01973.png': True, 'images_path10k/01974.png': True, 'images_path10k/01975.png': True, 'images_path10k/01976.png': True, 'images_path10k/01977.png': True, 'images_path10k/01978.png': True, 'images_path10k/01979.png': True, 'images_path10k/01980.png': True, 'images_path10k/01981.png': True, 'images_path10k/01982.png': True, 'images_path10k/01983.png': True, 'images_path10k/01984.png': True, 'images_path10k/01985.png': True, 'images_path10k/01986.png': True, 'images_path10k/01987.png': True, 'images_path10k/01988.png': True, 'images_path10k/01989.png': True, 'images_path10k/01990.png': True, 'images_path10k/01991.png': True, 'images_path10k/01992.png': True, 'images_path10k/01993.png': True, 'images_path10k/01994.png': True, 'images_path10k/01995.png': True, 'images_path10k/01996.png': True, 'images_path10k/01997.png': True, 'images_path10k/01998.png': True, 'images_path10k/01999.png': True}\n"
     ]
    },
    {
     "name": "stderr",
     "output_type": "stream",
     "text": [
      "\n"
     ]
    }
   ],
   "source": [
    "import cv2\n",
    "import numpy as np\n",
    "import easyocr\n",
    "from tqdm import tqdm\n",
    "import os\n",
    "\n",
    "reader = easyocr.Reader(['ru'], gpu=True)\n",
    "\n",
    "EXCLUDED_PHRASES = [\n",
    "    \"фото отсутствует\",\n",
    "    \"нет фото\",\n",
    "    \"фото в обработке\",\n",
    "    \"предмет не обнаружен\",\n",
    "    \"изображение отсутствует\",\n",
    "    \"фото не предоставлено\",\n",
    "    \"нет изображения\",\n",
    "    \"снимок отсутствует\",\n",
    "    \"фотография не загружена\",\n",
    "    \"фото не найдено\",\n",
    "    \"нет данных о фотографии\",\n",
    "    \"изображение недоступно\",\n",
    "    \"фотография не требуется\",\n",
    "    \"снимок будет доступен позже\",\n",
    "    \"фотография не сохранена\",\n",
    "    \"фото не подлежит публикации\",\n",
    "    \"предмет не обнаружен\",\n",
    "    \"экспонат отсутствует\",\n",
    "    \"предмет не найден\",\n",
    "    \"экспонат не представлен\",\n",
    "    \"экспонат временно недоступен\",\n",
    "]\n",
    "\n",
    "def is_image_valid(image_path, intensity_threshold=250):\n",
    "    image = cv2.imread(image_path)\n",
    "    mean_intensity = np.mean(image)\n",
    "    if mean_intensity > intensity_threshold:\n",
    "        return False\n",
    "    \n",
    "    results = reader.readtext(image_path, detail=0)\n",
    "    print(image_path[-9:-4], results)\n",
    "    extracted_text = \" \".join(results).lower()\n",
    "    for phrase in EXCLUDED_PHRASES:\n",
    "        if phrase in extracted_text:\n",
    "            return False\n",
    "    return True\n",
    "\n",
    "def file_name(i):\n",
    "    return ('0' * (5 - len(str(i)))) + str(i) + \".png\"\n",
    "\n",
    "path = \"/home/jupyter/datasphere/project/images_path10k/\"\n",
    "image_paths = [\"images_path10k/\" + file_name(i) for i in range(1500, 2000) if os.path.isfile(path + file_name(i))]\n",
    "filtered_images = {img: True if is_image_valid(img, 250) else False for img in tqdm(image_paths)}\n",
    "print(filtered_images)\n"
   ]
  }
 ],
 "metadata": {
  "kernelspec": {
   "display_name": "DataSphere Kernel",
   "language": "python",
   "name": "python3"
  },
  "language_info": {
   "codemirror_mode": {
    "name": "ipython",
    "version": 3
   },
   "file_extension": ".py",
   "mimetype": "text/x-python",
   "name": "python",
   "nbconvert_exporter": "python",
   "pygments_lexer": "ipython3",
   "version": "3.10.12"
  }
 },
 "nbformat": 4,
 "nbformat_minor": 5
}
